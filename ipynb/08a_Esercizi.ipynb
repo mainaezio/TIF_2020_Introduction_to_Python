{
 "cells": [
  {
   "cell_type": "markdown",
   "metadata": {},
   "source": [
    "# Programmare in Python\n",
    "\n",
    "## Esercizi: Plots\n"
   ]
  },
  {
   "cell_type": "markdown",
   "metadata": {},
   "source": [
    "Come fare una derivata usando sympy:\n",
    "```\n",
    "import sympy\n",
    "x = sympy.Symbol('x')\n",
    "sympy.diff(sympy.sin(x), x)\n",
    "```\n",
    "Come fare uno sviluppo in serie usando sympy:\n",
    "```\n",
    "import sympy\n",
    "x = sympy.Symbol('x')\n",
    "sympy.cos(x).series(x, 0, 6)\n",
    "```\n",
    "Per rimuovere il termine $O(x^n)$:\n",
    "```\n",
    "sympy.cos(x).series(x, 0, 6).removeO()\n",
    "````\n",
    "Come integrare una funzione usando sympy:\n",
    "```\n",
    "import sympy\n",
    "x = sympy.Symbol('x')\n",
    "sympy.integrate(x**2, x)              # Integrale indefinito\n",
    "sympy.integrate(x**2, (x, 0, 2))      # Integrale definito\n",
    "```"
   ]
  },
  {
   "cell_type": "markdown",
   "metadata": {},
   "source": [
    "__1 - Sviluppare in serie la funzione $f(x) = \\cos(x) e^x$ nell’intorno di x = 1 fino al quinto ordine. Fare il grafico della funzione e del suo sviluppo in un intorno di x = 1 sufficientemente grande da poter apprezzare i diversi comportamenti. Fornire una legenda.__"
   ]
  },
  {
   "cell_type": "code",
   "execution_count": null,
   "metadata": {},
   "outputs": [],
   "source": []
  },
  {
   "cell_type": "markdown",
   "metadata": {},
   "source": [
    "__2 - Fare un unico grafico delle funzioni $f_1 = \\sin(x)$, in blu, e $f_2 = \\sin(2 x)$, in rosso.__"
   ]
  },
  {
   "cell_type": "code",
   "execution_count": null,
   "metadata": {},
   "outputs": [],
   "source": []
  },
  {
   "cell_type": "markdown",
   "metadata": {},
   "source": [
    "__3 - Fare il grafico delle cinque funzioni $f_n =  \\frac{(x +n)^n}{n!}$  per $n = 1,2,3,4,5$ e $x$ fra zero e 10, in un unico plot. Inserire delle legende opportune.__ "
   ]
  },
  {
   "cell_type": "code",
   "execution_count": null,
   "metadata": {},
   "outputs": [],
   "source": []
  },
  {
   "cell_type": "markdown",
   "metadata": {},
   "source": [
    "__4 - Disegnare  la funzione $y =  \\frac{-x^2 + 3 x +7/4} {x^4  + 1}$ e la sua retta tangente in $x = -2$ in un unico grafico.__ "
   ]
  },
  {
   "cell_type": "code",
   "execution_count": null,
   "metadata": {},
   "outputs": [],
   "source": []
  },
  {
   "cell_type": "markdown",
   "metadata": {},
   "source": [
    "__5 - Sviluppare in serie la funzione $f = \\frac{e^x-1}{x^4+3}$ nell'intorno di $x = 0$ all'ordine 1, 2 e 3.\n",
    "Fare il grafico della funzione e dei tre sviluppi in serie.__"
   ]
  },
  {
   "cell_type": "code",
   "execution_count": null,
   "metadata": {},
   "outputs": [],
   "source": []
  }
 ],
 "metadata": {
  "hide_input": false,
  "kernelspec": {
   "display_name": "Python 3",
   "language": "python",
   "name": "python3"
  },
  "language_info": {
   "codemirror_mode": {
    "name": "ipython",
    "version": 3
   },
   "file_extension": ".py",
   "mimetype": "text/x-python",
   "name": "python",
   "nbconvert_exporter": "python",
   "pygments_lexer": "ipython3",
   "version": "3.7.3"
  },
  "toc": {
   "base_numbering": 1,
   "nav_menu": {},
   "number_sections": true,
   "sideBar": true,
   "skip_h1_title": true,
   "title_cell": "Table of Contents",
   "title_sidebar": "Contents",
   "toc_cell": false,
   "toc_position": {},
   "toc_section_display": true,
   "toc_window_display": false
  },
  "varInspector": {
   "cols": {
    "lenName": 16,
    "lenType": 16,
    "lenVar": 40
   },
   "kernels_config": {
    "python": {
     "delete_cmd_postfix": "",
     "delete_cmd_prefix": "del ",
     "library": "var_list.py",
     "varRefreshCmd": "print(var_dic_list())"
    },
    "r": {
     "delete_cmd_postfix": ") ",
     "delete_cmd_prefix": "rm(",
     "library": "var_list.r",
     "varRefreshCmd": "cat(var_dic_list()) "
    }
   },
   "types_to_exclude": [
    "module",
    "function",
    "builtin_function_or_method",
    "instance",
    "_Feature"
   ],
   "window_display": false
  }
 },
 "nbformat": 4,
 "nbformat_minor": 4
}
