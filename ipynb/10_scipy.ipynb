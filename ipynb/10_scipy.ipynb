{
 "cells": [
  {
   "cell_type": "markdown",
   "metadata": {},
   "source": [
    "Metodi Numerici in Python (scipy)\n",
    "==================================\n",
    "\n",
    "Introduzione\n",
    "------------\n",
    "\n",
    "Il linguaggio Python di base (incluse le librerie standard) fornisce strumenti sufficienti per completare semplici progetti computazionali. Tuttavia, esistono librerie Python dedicate (scritte da soggetti diversi) che forniscono funzionalità estese che\n",
    "\n",
    "-   forniscono strumenti numerici per automatizzare operazioni ricorrenti\n",
    "\n",
    "-   sono semplici da usare\n",
    "\n",
    "-   sono più efficienti in termini di tempo di CPU e di esigenze di memoria degli strumenti in Python base.\n",
    "\n",
    "Citiamo tre librerie in particolare:\n",
    "\n",
    "-   Il modulo `numpy` introdotto in 07_numpy.\n",
    "\n",
    "-   Il modulo `matplotlib` introdotto in 08_plots.\n",
    "\n",
    "-   Il modulo `scipy` (SCIentific PYthon) che fornisce un gran numero di algoritmi numerici di cui parliamo in questo notebook.\n",
    "\n",
    "Molti degli algoritmi numerici resi disponibili da`numpy` e `scipy`  sono forniti da da librerie compilate, di solida tradizione, che spesso sono scritte in Fortran o C. Vengono quindi eseguite molto più velocemente di codice scritto in puro Python (che è interpretato). Generalmente, un codice compilato è due ordini di grandezza più veloce di un codice in puro Python.\n",
    "\n",
    "Come al solito, si può utilizzare la funzione `help` su ciascuno dei metodi numerici per accedere alla documentazione.\n",
    "\n",
    "SciPy\n",
    "-----\n",
    "\n",
    "`Scipy` è basata su `numpy`. Nella [documentazione di SciPy](https://docs.scipy.org/doc/scipy/reference/api.html) viene raccomandato di importare le due librerie separatamente."
   ]
  },
  {
   "cell_type": "code",
   "execution_count": null,
   "metadata": {},
   "outputs": [],
   "source": [
    "import numpy as np\n",
    "import scipy"
   ]
  },
  {
   "cell_type": "markdown",
   "metadata": {},
   "source": [
    "La libreria `scipy` fornisce informazioni sulla propria struttura atrraverso il comando `help`:\n",
    "\n",
    "```python\n",
    "help(scipy)\n",
    "```"
   ]
  },
  {
   "cell_type": "markdown",
   "metadata": {},
   "source": [
    "L'output è molto lungo. Ne mostriamo solo una parte:\n",
    "\n",
    "    stats       --- Statistical Functions [*]\n",
    "    sparse      --- Sparse matrix [*]\n",
    "    lib         --- Python wrappers to external libraries [*]\n",
    "    linalg      --- Linear algebra routines [*]\n",
    "    signal      --- Signal Processing Tools [*]\n",
    "    misc        --- Various utilities that don't have another home.\n",
    "    interpolate --- Interpolation Tools [*]\n",
    "    optimize    --- Optimization Tools [*]\n",
    "    cluster     --- Vector Quantization / Kmeans [*]\n",
    "    fftpack     --- Discrete Fourier Transform algorithms [*]\n",
    "    io          --- Data input and output [*]\n",
    "    integrate   --- Integration routines [*]\n",
    "    lib.lapack  --- Wrappers to LAPACK library [*]\n",
    "    special     --- Special Functions [*]\n",
    "    lib.blas    --- Wrappers to BLAS library [*]\n",
    "      [*] - using a package requires explicit import (see pkgload)"
   ]
  },
  {
   "cell_type": "markdown",
   "metadata": {},
   "source": [
    "Per trovare un algoritmo per integrare una funzione, si può esplorare la libreria `integrate`:"
   ]
  },
  {
   "cell_type": "markdown",
   "metadata": {},
   "source": [
    "```python\n",
    "import scipy.integrate\n",
    "\n",
    "scipy.integrate?\n",
    "```"
   ]
  },
  {
   "cell_type": "markdown",
   "metadata": {},
   "source": [
    "produces:\n",
    "\n",
    "```text\n",
    "=============================================\n",
    "Integration and ODEs (:mod:`scipy.integrate`)\n",
    "=============================================\n",
    "\n",
    ".. currentmodule:: scipy.integrate\n",
    "\n",
    "Integrating functions, given function object\n",
    "============================================\n",
    "\n",
    ".. autosummary::\n",
    "   :toctree: generated/\n",
    "\n",
    "   quad          -- General purpose integration\n",
    "   dblquad       -- General purpose double integration\n",
    "   tplquad       -- General purpose triple integration\n",
    "   nquad         -- General purpose n-dimensional integration\n",
    "   fixed_quad    -- Integrate func(x) using Gaussian quadrature of order n\n",
    "   quadrature    -- Integrate with given tolerance using Gaussian quadrature\n",
    "   romberg       -- Integrate func using Romberg integration\n",
    "   quad_explain  -- Print information for use of quad\n",
    "   newton_cotes  -- Weights and error coefficient for Newton-Cotes integration\n",
    "   IntegrationWarning -- Warning on issues during integration\n",
    "\n",
    "Integrating functions, given fixed samples\n",
    "==========================================\n",
    "\n",
    ".. autosummary::\n",
    "   :toctree: generated/\n",
    "\n",
    "   trapz         -- Use trapezoidal rule to compute integral.\n",
    "   cumtrapz      -- Use trapezoidal rule to cumulatively compute integral.\n",
    "   simps         -- Use Simpson's rule to compute integral from samples.\n",
    "   romb          -- Use Romberg Integration to compute integral from\n",
    "                 -- (2**k + 1) evenly-spaced samples.\n",
    "\n",
    ".. seealso::\n",
    "\n",
    "   :mod:`scipy.special` for orthogonal polynomials (special) for Gaussian\n",
    "   quadrature roots and weights for other weighting factors and regions.\n",
    "\n",
    "Integrators of ODE systems\n",
    "==========================\n",
    "\n",
    ".. autosummary::\n",
    "   :toctree: generated/\n",
    "\n",
    "   odeint        -- General integration of ordinary differential equations.\n",
    "   ode           -- Integrate ODE using VODE and ZVODE routines.\n",
    "   complex_ode   -- Convert a complex-valued ODE to real-valued and integrate.\n",
    "```"
   ]
  },
  {
   "cell_type": "markdown",
   "metadata": {},
   "source": [
    "Alcuni esempi che mostrano come usare gli algoritmi forniti da `scipy`.\n",
    "\n",
    "Integrazione numerica\n",
    "---------------------\n",
    "<p><br><\\p>\n",
    "<p> <\\p>\n",
    "\n",
    "<img src=\"../Images/integral_comic_strip.png\" width=\"900\" align=\"left\"/>\n",
    "(Svein Linge, Hans Petter Langtangen - Programming for Computations)<br>\n",
    "\n",
    "<p><br><\\p>\n",
    "<p> <\\p>"
   ]
  },
  {
   "cell_type": "markdown",
   "metadata": {},
   "source": [
    "Scientific Python fornisce diverse routines di integrazione. Uno strumento di uso generale per calcolare integrali *I* del tipo\n",
    "\n",
    "$$I=\\int_a^b f(x) \\mathrm{d} x$$\n",
    "\n",
    "è la funzione `quad()` del modulo `scipy.integrate`.\n",
    "\n",
    "Prende in input la funzione *f(x)* da integrare (l'“integrando”) e gli estremi inferiore e superiore *a* and *b*. \n",
    "Restituisce due valori, (in una tuple): il primo è il risultato dell'integrale mentre il secondo è una stima dell'errore numerico del risultato."
   ]
  },
  {
   "cell_type": "code",
   "execution_count": null,
   "metadata": {},
   "outputs": [],
   "source": [
    "from scipy import integrate\n",
    "help(integrate.quad)"
   ]
  },
  {
   "cell_type": "markdown",
   "metadata": {},
   "source": [
    "Ecco un esempio:\n",
    "$$I=\\int_{-2}^{2} e^{\\cos(-2 \\pi x)} \\,\\mathrm{d} x$$"
   ]
  },
  {
   "cell_type": "code",
   "execution_count": null,
   "metadata": {},
   "outputs": [],
   "source": [
    "from math import cos, exp, pi\n",
    "from scipy.integrate import quad\n",
    "\n",
    "# funzione da integrare\n",
    "def f(x):\n",
    "    return exp(cos(-2 * x * pi))\n",
    "\n",
    "# chiamata a quad\n",
    "res, err = quad(f, -2, 2)\n",
    "\n",
    "print(f\"The numerical result is {res:f} (+-{err:g})\")"
   ]
  },
  {
   "cell_type": "markdown",
   "metadata": {},
   "source": [
    "Si noti che `quad()` può prendere come parametri opzionali `epsabs` e `epsrel` per aumentare o diminuire l'accuratezza del calcolo (Usate `help(quad)` per maggiori informazioni). I valori di default sono `epsabs=1.5e-8` and `epsrel=1.5e-8`. Per il prossimo esercizio, i valori di default sono sufficienti."
   ]
  },
  {
   "cell_type": "markdown",
   "metadata": {},
   "source": [
    "### Integrazione con metodo dei trapezi"
   ]
  },
  {
   "cell_type": "markdown",
   "metadata": {},
   "source": [
    "<img src=\"../Images/Trapezoid_Integration.png\" width=\"400\" align=\"left\"/>"
   ]
  },
  {
   "cell_type": "code",
   "execution_count": null,
   "metadata": {},
   "outputs": [],
   "source": [
    "# https://www.math.ubc.ca/~pwalls/math-python/integration/trapezoid-rule/\n",
    "\n",
    "import numpy as np\n",
    "\n",
    "def my_trapz(f,a,b,N=50):\n",
    "    '''Approximate the integral of f(x) from a to b by the trapezoid rule.\n",
    "\n",
    "    The trapezoid rule approximates the integral \\int_a^b f(x) dx by the sum:\n",
    "    (dx/2) \\sum_{k=1}^N (f(x_k) + f(x_{k-1}))\n",
    "    where x_k = a + k*dx and dx = (b - a)/N.\n",
    "\n",
    "    Parameters\n",
    "    ----------\n",
    "    f : function\n",
    "        Vectorized function of a single variable\n",
    "    a , b : numbers\n",
    "        Interval of integration [a,b]\n",
    "    N : integer\n",
    "        Number of subintervals of [a,b]\n",
    "\n",
    "    Returns\n",
    "    -------\n",
    "    float\n",
    "        Approximation of the integral of f(x) from a to b using the\n",
    "        trapezoid rule with N subintervals of equal length.\n",
    "\n",
    "    Examples\n",
    "    --------\n",
    "    >>> trapz(np.sin,0,np.pi/2,1000)\n",
    "    0.9999997943832332\n",
    "    '''\n",
    "    x = np.linspace(a,b,N+1) # N+1 points make N subintervals\n",
    "    y = f(x)\n",
    "    y_right = y[1:] # right endpoints\n",
    "    y_left = y[:-1] # left endpoints\n",
    "    dx = (b - a)/N\n",
    "    T = (dx/2) * np.sum(y_right + y_left)\n",
    "    return T"
   ]
  },
  {
   "cell_type": "code",
   "execution_count": null,
   "metadata": {},
   "outputs": [],
   "source": [
    "def vf(x):\n",
    "    return np.exp(np.cos(-2 * x * np.pi))\n",
    "\n",
    "res1 = my_trapz(vf,-2,2)\n",
    "print(f\"The numerical result is {res1:f}\")"
   ]
  },
  {
   "cell_type": "markdown",
   "metadata": {},
   "source": [
    "### Integrazione con metodo dei trapezi usando scipy.integrate.trapz"
   ]
  },
  {
   "cell_type": "code",
   "execution_count": null,
   "metadata": {},
   "outputs": [],
   "source": [
    "from scipy.integrate import trapz\n",
    "#help(trapz)"
   ]
  },
  {
   "cell_type": "code",
   "execution_count": null,
   "metadata": {},
   "outputs": [],
   "source": [
    "x = np.linspace(-2,2,101)\n",
    "y = vf(x)\n",
    "res2 = trapz(y,x)\n",
    "res2"
   ]
  },
  {
   "cell_type": "markdown",
   "metadata": {},
   "source": [
    "### Integrazione con metodo di Simpson usando scipy.integrate.simps"
   ]
  },
  {
   "cell_type": "code",
   "execution_count": null,
   "metadata": {},
   "outputs": [],
   "source": [
    "from scipy.integrate import simps\n",
    "#help(trapz)"
   ]
  },
  {
   "cell_type": "code",
   "execution_count": null,
   "metadata": {},
   "outputs": [],
   "source": [
    "x = np.linspace(-2,2,101)\n",
    "y = vf(x)\n",
    "res2 = simps(y,x)\n",
    "res2"
   ]
  },
  {
   "cell_type": "markdown",
   "metadata": {},
   "source": [
    "### Esercizio: integrare una funzione\n",
    "\n",
    "1.  Usando la funzione di scipy `quad` , scrivete un programmma che calcola numericamente il seguente integrale: $I = \\int\n",
    "_0^1\\cos(2\\pi x) dx$.\n",
    "\n",
    "2.  Calcolate analiticamente l'integrale (Potreste usare `sympy`) e confrontate i due risultati.\n",
    "\n",
    "3.  Perchè è importante avere una stima dell'accuratezza o errore dell'integrale numerico?"
   ]
  },
  {
   "cell_type": "markdown",
   "metadata": {},
   "source": [
    "### Esercizio: fare il grafico prima di integrare\n",
    "\n",
    "È bene fare il grafico della funzione integranda per controllarne il comportamento prima di cercare di integrarla. Singolarità (per esempio valori di $x$ in cui $f(x)$ tende a più o meno infinito) oppure altri comportamenti irregolari, come quello di $f(x)=\\sin(\\frac{1}{x}$) nell'intorno di $x = 0$, sono estremamente difficili e talvolta semplicemente impossibili da trattare numericamente.\n",
    "\n",
    "1.  Scrivete una funzione chiamata `plotquad` che prende gli stessi argomenti del comando `quad`(cioè $f$, $a$ e $b$) e che \n",
    "- (i) genera un plot dell'integrando $f(x)$\n",
    "- (ii) calcola numericamente l'integrale usando la funzione `quad`, ritornando lo stesso set di valori di `quad`.\n",
    "<p><br><\\p>\n",
    "<p> <\\p>"
   ]
  },
  {
   "cell_type": "markdown",
   "metadata": {},
   "source": [
    "Risolvere  equazioni  differenziali ordinarie\n",
    "---------------------------------------\n",
    "<p><br><\\p>\n",
    "<p> <\\p>\n",
    "\n",
    "<img src=\"../Images/FE_comic_strip.png\" width=\"900\" align=\"left\"/>\n",
    "(Svein Linge, Hans Petter Langtangen - Programming for Computations)<br>\n",
    "\n",
    "<p><br><\\p>\n",
    "<p> <\\p>"
   ]
  },
  {
   "cell_type": "markdown",
   "metadata": {},
   "source": [
    "Per risolvere  equazioni  differenziali ordinarie del tipo\n",
    "$$\\frac{\\mathrm{d}y}{\\mathrm{d}t}(t) = f(y,t)$$\n",
    "\n",
    "con condizione iniziale $y(t_0)=y_0$, si può usare la  funzione `odeint` di `scipy`. Ecco un esempio (`useodeint.py`) per determinare\n",
    "\n",
    "$$y(t) \\quad \\mathrm{for}\\quad t\\in[0,2]$$\n",
    "data l'equazione  differenziale:\n",
    "$$\\frac{\\mathrm{d}y}{\\mathrm{d}t}(t) = -2yt \\quad \\mathrm{with} \\quad y(0)=1.$$"
   ]
  },
  {
   "cell_type": "code",
   "execution_count": null,
   "metadata": {},
   "outputs": [],
   "source": [
    "from scipy.integrate import odeint\n",
    "import numpy as np\n",
    "\n",
    "def f(y, t):\n",
    "    \"\"\"this is the rhs of the ODE to integrate, i.e. dy/dt=f(y,t)\"\"\"\n",
    "    return -2 * y * t\n",
    "\n",
    "y0 = 1             # initial value\n",
    "a = 0              # integration limits for t\n",
    "b = 2\n",
    "\n",
    "t = np.arange(a, b, 0.01)  # values of t for\n",
    "                          # which we require\n",
    "                          # the solution y(t)\n",
    "y = odeint(f, y0, t)  # actual computation of y(t)\n",
    "\n",
    "import matplotlib.pyplot as plt         # plotting of results\n",
    "fig, ax = plt.subplots()\n",
    "ax.plot(t,y)\n",
    "ax.set_xlabel('t')\n",
    "ax.set_ylabel('y(t)')"
   ]
  },
  {
   "cell_type": "markdown",
   "metadata": {},
   "source": [
    "### Soluzione con il metodo di Eulero"
   ]
  },
  {
   "cell_type": "code",
   "execution_count": null,
   "metadata": {},
   "outputs": [],
   "source": [
    "# https://www.math.ubc.ca/~pwalls/math-python/differential-equations/first-order/\n",
    "\n",
    "def odeEuler(f,y0,t):\n",
    "    '''Approximate the solution of y'=f(y,t) by Euler's method.\n",
    "\n",
    "    Parameters\n",
    "    ----------\n",
    "    f : function\n",
    "        Right-hand side of the differential equation y'=f(t,y), y(t_0)=y_0\n",
    "    y0 : number\n",
    "        Initial value y(t0)=y0 wher t0 is the entry at index 0 in the array t\n",
    "    t : array\n",
    "        1D NumPy array of t values where we approximate y values. Time step\n",
    "        at each iteration is given by t[n+1] - t[n].\n",
    "\n",
    "    Returns\n",
    "    -------\n",
    "    y : 1D NumPy array\n",
    "        Approximation y[n] of the solution y(t_n) computed by Euler's method.\n",
    "    '''\n",
    "    y = np.zeros(len(t))\n",
    "    y[0] = y0\n",
    "    for n in range(0,len(t)-1):\n",
    "        y[n+1] = y[n] + f(y[n],t[n])*(t[n+1] - t[n])\n",
    "    return y\n"
   ]
  },
  {
   "cell_type": "code",
   "execution_count": null,
   "metadata": {},
   "outputs": [],
   "source": [
    "y_E = odeEuler(f,y0,t)"
   ]
  },
  {
   "cell_type": "code",
   "execution_count": null,
   "metadata": {},
   "outputs": [],
   "source": [
    "import matplotlib.pyplot as plt         # plotting of results\n",
    "fig, ax = plt.subplots()\n",
    "ax.plot(t,y,label='sol by odeint')\n",
    "ax.plot(t,y_E,c='r',label='sol by odeEuler')\n",
    "ax.set_xlabel('t')\n",
    "ax.set_ylabel('y(t)')\n",
    "ax.legend()"
   ]
  },
  {
   "cell_type": "markdown",
   "metadata": {},
   "source": [
    "Il comando `odeint` può prendere diversi parametri opzionali per modificare l'errore di default nell'integrazione (e per produrre output addizionale che può essere utile per il debugging). Usate il comando help per farvene un'idea:"
   ]
  },
  {
   "cell_type": "markdown",
   "metadata": {},
   "source": [
    "```python\n",
    "help(scipy.integrate.odeint)\n",
    "```\n",
    "\n",
    "restituisce:\n",
    "\n",
    "```\n",
    "Help on function odeint in module scipy.integrate.odepack:\n",
    "\n",
    "odeint(func, y0, t, args=(), Dfun=None, col_deriv=0, full_output=0, ml=None, mu=None, rtol=None, atol=None, tcrit=None, h0=0.0, hmax=0.0, hmin=0.0, ixpr=0, mxstep=0, mxhnil=0, mxordn=12, mxords=5, printmessg=0)\n",
    "    Integrate a system of ordinary differential equations.\n",
    "    \n",
    "    Solve a system of ordinary differential equations using lsoda from the\n",
    "    FORTRAN library odepack.\n",
    "    \n",
    "    Solves the initial value problem for stiff or non-stiff systems\n",
    "    of first order ode-s::\n",
    "    \n",
    "        dy/dt = func(y, t0, ...)\n",
    "    \n",
    "    where y can be a vector.\n",
    "    \n",
    "    *Note*: The first two arguments of ``func(y, t0, ...)`` are in the\n",
    "    opposite order of the arguments in the system definition function used\n",
    "    by the `scipy.integrate.ode` class.\n",
    "    \n",
    "    Parameters\n",
    "    ----------\n",
    "    func : callable(y, t0, ...)\n",
    "        Computes the derivative of y at t0.\n",
    "    y0 : array\n",
    "        Initial condition on y (can be a vector).\n",
    "    t : array\n",
    "        A sequence of time points for which to solve for y.  The initial\n",
    "        value point should be the first element of this sequence.\n",
    "    args : tuple, optional\n",
    "        Extra arguments to pass to function.\n",
    "    Dfun : callable(y, t0, ...)\n",
    "        Gradient (Jacobian) of `func`.\n",
    "    col_deriv : bool, optional\n",
    "        True if `Dfun` defines derivatives down columns (faster),\n",
    "        otherwise `Dfun` should define derivatives across rows.\n",
    "    full_output : bool, optional\n",
    "        True if to return a dictionary of optional outputs as the second output\n",
    "    printmessg : bool, optional\n",
    "        Whether to print the convergence message\n",
    "    \n",
    "    Returns\n",
    "    -------\n",
    "    y : array, shape (len(t), len(y0))\n",
    "        Array containing the value of y for each desired time in t,\n",
    "        with the initial value `y0` in the first row.\n",
    "    infodict : dict, only returned if full_output == True\n",
    "        Dictionary containing additional output information\n",
    "    \n",
    "        =======  ============================================================\n",
    "        key      meaning\n",
    "        =======  ============================================================\n",
    "        'hu'     vector of step sizes successfully used for each time step.\n",
    "        'tcur'   vector with the value of t reached for each time step.\n",
    "                 (will always be at least as large as the input times).\n",
    "        'tolsf'  vector of tolerance scale factors, greater than 1.0,\n",
    "                 computed when a request for too much accuracy was detected.\n",
    "        'tsw'    value of t at the time of the last method switch\n",
    "                 (given for each time step)\n",
    "        'nst'    cumulative number of time steps\n",
    "        'nfe'    cumulative number of function evaluations for each time step\n",
    "        'nje'    cumulative number of jacobian evaluations for each time step\n",
    "        'nqu'    a vector of method orders for each successful step.\n",
    "        'imxer'  index of the component of largest magnitude in the\n",
    "                 weighted local error vector (e / ewt) on an error return, -1\n",
    "                 otherwise.\n",
    "        'lenrw'  the length of the double work array required.\n",
    "        'leniw'  the length of integer work array required.\n",
    "        'mused'  a vector of method indicators for each successful time step:\n",
    "                 1: adams (nonstiff), 2: bdf (stiff)\n",
    "        =======  ============================================================\n",
    "    \n",
    "    Other Parameters\n",
    "    ----------------\n",
    "    ml, mu : int, optional\n",
    "        If either of these are not None or non-negative, then the\n",
    "        Jacobian is assumed to be banded.  These give the number of\n",
    "        lower and upper non-zero diagonals in this banded matrix.\n",
    "        For the banded case, `Dfun` should return a matrix whose\n",
    "        rows contain the non-zero bands (starting with the lowest diagonal).\n",
    "        Thus, the return matrix `jac` from `Dfun` should have shape\n",
    "        ``(ml + mu + 1, len(y0))`` when ``ml >=0`` or ``mu >=0``.\n",
    "        The data in `jac` must be stored such that ``jac[i - j + mu, j]``\n",
    "        holds the derivative of the `i`th equation with respect to the `j`th\n",
    "        state variable.  If `col_deriv` is True, the transpose of this\n",
    "        `jac` must be returned.\n",
    "    rtol, atol : float, optional\n",
    "        The input parameters `rtol` and `atol` determine the error\n",
    "        control performed by the solver.  The solver will control the\n",
    "        vector, e, of estimated local errors in y, according to an\n",
    "        inequality of the form ``max-norm of (e / ewt) <= 1``,\n",
    "        where ewt is a vector of positive error weights computed as\n",
    "        ``ewt = rtol * abs(y) + atol``.\n",
    "        rtol and atol can be either vectors the same length as y or scalars.\n",
    "        Defaults to 1.49012e-8.\n",
    "    tcrit : ndarray, optional\n",
    "        Vector of critical points (e.g. singularities) where integration\n",
    "        care should be taken.\n",
    "    h0 : float, (0: solver-determined), optional\n",
    "        The step size to be attempted on the first step.\n",
    "    hmax : float, (0: solver-determined), optional\n",
    "        The maximum absolute step size allowed.\n",
    "    hmin : float, (0: solver-determined), optional\n",
    "        The minimum absolute step size allowed.\n",
    "    ixpr : bool, optional\n",
    "        Whether to generate extra printing at method switches.\n",
    "    mxstep : int, (0: solver-determined), optional\n",
    "        Maximum number of (internally defined) steps allowed for each\n",
    "        integration point in t.\n",
    "    mxhnil : int, (0: solver-determined), optional\n",
    "        Maximum number of messages printed.\n",
    "    mxordn : int, (0: solver-determined), optional\n",
    "        Maximum order to be allowed for the non-stiff (Adams) method.\n",
    "    mxords : int, (0: solver-determined), optional\n",
    "        Maximum order to be allowed for the stiff (BDF) method.\n",
    "    \n",
    "    See Also\n",
    "    --------\n",
    "    ode : a more object-oriented integrator based on VODE.\n",
    "    quad : for finding the area under a curve.\n",
    "    \n",
    "    Examples\n",
    "    --------\n",
    "    The second order differential equation for the angle `theta` of a\n",
    "    pendulum acted on by gravity with friction can be written::\n",
    "    \n",
    "        theta''(t) + b*theta'(t) + c*sin(theta(t)) = 0\n",
    "    \n",
    "    where `b` and `c` are positive constants, and a prime (') denotes a\n",
    "    derivative.  To solve this equation with `odeint`, we must first convert\n",
    "    it to a system of first order equations.  By defining the angular\n",
    "    velocity ``omega(t) = theta'(t)``, we obtain the system::\n",
    "    \n",
    "        theta'(t) = omega(t)\n",
    "        omega'(t) = -b*omega(t) - c*sin(theta(t))\n",
    "    \n",
    "    Let `y` be the vector [`theta`, `omega`].  We implement this system\n",
    "    in python as:\n",
    "    \n",
    "    >>> def pend(y, t, b, c):\n",
    "    ...     theta, omega = y\n",
    "    ...     dydt = [omega, -b*omega - c*np.sin(theta)]\n",
    "    ...     return dydt\n",
    "    ...\n",
    "    \n",
    "    We assume the constants are `b` = 0.25 and `c` = 5.0:\n",
    "    \n",
    "    >>> b = 0.25\n",
    "    >>> c = 5.0\n",
    "    \n",
    "    For initial conditions, we assume the pendulum is nearly vertical\n",
    "    with `theta(0)` = `pi` - 0.1, and it initially at rest, so\n",
    "    `omega(0)` = 0.  Then the vector of initial conditions is\n",
    "    \n",
    "    >>> y0 = [np.pi - 0.1, 0.0]\n",
    "    \n",
    "    We generate a solution 101 evenly spaced samples in the interval\n",
    "    0 <= `t` <= 10.  So our array of times is:\n",
    "    \n",
    "    >>> t = np.linspace(0, 10, 101)\n",
    "    \n",
    "    Call `odeint` to generate the solution.  To pass the parameters\n",
    "    `b` and `c` to `pend`, we give them to `odeint` using the `args`\n",
    "    argument.\n",
    "    \n",
    "    >>> from scipy.integrate import odeint\n",
    "    >>> sol = odeint(pend, y0, t, args=(b, c))\n",
    "    \n",
    "    The solution is an array with shape (101, 2).  The first column\n",
    "    is `theta(t)`, and the second is `omega(t)`.  The following code\n",
    "    plots both components.\n",
    "    \n",
    "    >>> import matplotlib.pyplot as plt\n",
    "    >>> plt.plot(t, sol[:, 0], 'b', label='theta(t)')\n",
    "    >>> plt.plot(t, sol[:, 1], 'g', label='omega(t)')\n",
    "    >>> plt.legend(loc='best')\n",
    "    >>> plt.xlabel('t')\n",
    "    >>> plt.grid()\n",
    "    >>> plt.show()\n",
    "\n",
    "```"
   ]
  },
  {
   "cell_type": "markdown",
   "metadata": {},
   "source": [
    "### Esercizio: usare `odeint`\n",
    "\n",
    "1.  Aprite un nuovo file chiamato `testodeint.py` con un text editor.\n",
    "\n",
    "2.  Scrivete un programma che calcola la soluzione *y(t)* della ODE seguente, usando l'algoritmo `odeint`,\n",
    "    $$\\frac{\\mathrm{d}y}{\\mathrm{d}t} =  -\\exp(-t)(10\\sin(10t)+\\cos(10t))$$\n",
    "     da $t=0$ a $t = 10$. Il valore iniziale è $y(0)=1$.\n",
    "\n",
    "3.  Mostrate graficamente la soluzione, valutandola nei punti $t=0$, $t=0.01$, $t=0.02$, ..., $t=9.99$, $t=10$.\n",
    "\n",
    "Aiutino: una parte della soluzione $y(t)$ è presentata nella figura seguente.\n",
    "\n",
    "<img src=\"../Images/11_odeintsolution8to10.png\" alt=\"image\" style=\"width:100.0%\" />\n",
    "<p><br><\\p>\n",
    "<p> <\\p>\n"
   ]
  },
  {
   "cell_type": "markdown",
   "metadata": {},
   "source": [
    "\n",
    "Ricerca delle radici\n",
    "------------\n",
    "\n",
    "Cercare una $x$ tale che\n",
    "$$f(x)=0$$\n",
    "si chiama *ricerca delle radici*. Si noti che un problema del tipo $g(x)=h(x)$ può essere riformulato come $f(x)=g(x)−h(x)=0$.\n",
    "\n",
    "Il modulo `optimize` di `scipy` fornisce diversi strumenti per la ricerca delle radici.\n",
    "\n",
    "<p><br><\\p>\n",
    "<p> <\\p>\n",
    "\n",
    "<img src=\"../Images/comic_root.png\" width=\"900\" align=\"left\"/>\n",
    "(Svein Linge, Hans Petter Langtangen - Programming for Computations)<br>\n",
    "\n",
    "<p><br><\\p>\n",
    "<p> <\\p>\n",
    "    \n",
    "### Ricerca delle radici usando il metodo della bisezione \n",
    "\n",
    "L'algoritmo `bisect` è (i) robusto e (ii) concettualmente molto semplice (ma lento).\n",
    "\n",
    "Supponiamo di dover calcolare le radici di $f(x)= x^3 − 2 x^2$. Questa funzione ha una radice (doppia) in $x = 0$ e un'altra fra $x = 1.5$ (dove $f(1.5) = − 1.125$) e $x = 3$ (dove $f(3) = 9$). È facile vedere che questa altra radice si trova in $x = 2$. Ecco il programma che determina la radice numericamente:"
   ]
  },
  {
   "cell_type": "code",
   "execution_count": null,
   "metadata": {},
   "outputs": [],
   "source": [
    "from scipy.optimize import bisect\n",
    "\n",
    "def f(x):\n",
    "    \"\"\"returns f(x)=x^3-2x^2. Has roots at\n",
    "    x=0 (double root) and x=2\"\"\"\n",
    "    return x ** 3 - 2 * x ** 2\n",
    "\n",
    "# main program starts here\n",
    "x = bisect(f, 1.5, 3, xtol=1e-6)\n",
    "\n",
    "print(f\"The root x is approximately x={x:14.12g},\\n\"\n",
    "      f\"the error is less than 1e-6.\")\n",
    "print(f\"The exact error is {2 - x:g}.\")"
   ]
  },
  {
   "cell_type": "markdown",
   "metadata": {},
   "source": [
    "Il metodo `bisect()` richiede obbligatoriamente tre argomenti: (i) la funzione *f(x)*, (ii) il limite inferiore *a* (che abbiamo scelto uguale a 1.5 nell'esempio) e (ii) il limite superiore *b* (scelto uguale a 3). Il parametro opzionale `xtol` determina l'errore massimo del metodo.\n",
    "\n",
    "Uno dei presupposti del metodo di bisezione è che l'intervallo \\[*a*, *b*\\] sia scelto in modo tale che la funzione abbia in *a* segno opposto a quello che ha in *b* in modo che nell'intervallo, se la funzione è continua, cada almeno una radice.\n",
    "\n",
    "### Esercizio: trovare le radici usando il metodo di bisezione\n",
    "\n",
    "1.  Scrivete un programma chiamato `sqrttwo.py` per determinare un valore approssimato di $\\sqrt{2}$ cercando la radice *x* della funzione $f(x)=2 − x^2$ usando il metodo di bisezione. Scegliete come tolleranza per l'approssimazione alla radice di 10<sup>−8</sup>.\n",
    "\n",
    "2.  Documentate la scelta dell'intervallo iniziale $[a, b]$ per la ricerca: che valori evte scelto per *a* e *b*? Perchè?\n",
    "\n",
    "3.  Esaminate i risultati:\n",
    "\n",
    "    -   Che valore restituisce l'algoritmo di bisezione per la radice *x*?\n",
    "\n",
    "    -   Calcolate il valore di $\\sqrt{2}$ usando `math.sqrt(2)` e confrontatelo il risultato precedente. Quanto è grande l'errore assoluto? Come si confronta con `xtol`?\n",
    "    \n",
    "__Morale della favola: mai accettare il risultato di una routine numerica senza esaminarlo con attenzione e per quanto possibile verificarlo.__ "
   ]
  },
  {
   "cell_type": "markdown",
   "metadata": {},
   "source": [
    "### Ricerca delle radici usando la funzione `fsolve`\n",
    "\n",
    "Un algoritmo per la ricerca delle radici che è (spesso) migliore (nel senso di “più efficiente”) di quello di bisezione è codificato nella funzione `fsolve()` che funziona anche per problemi a più dimensioni. Questo algoritmo richiede solamente un punto di partenza vicino a dove ci si aspetta che ci sia una radice (Non è però detto che il metodo converga).\n",
    "\n",
    "Ecco un esempio:"
   ]
  },
  {
   "cell_type": "code",
   "execution_count": null,
   "metadata": {},
   "outputs": [],
   "source": [
    "from scipy.optimize import fsolve\n",
    "\n",
    "def f(x):\n",
    "    return x ** 3 - 2 * x ** 2\n",
    "\n",
    "xstart = 3\n",
    "x = fsolve(f, xstart)      # one root is at x=2.0\n",
    "                           # search starts at x=3\n",
    "                           # fsolve returns a numpy array\n",
    "\n",
    "print(f\"The root x is approximately x={x[0]:21.19g}\")\n",
    "print(f\"The exact error is {2 - x[0]:g}.\")"
   ]
  },
  {
   "cell_type": "markdown",
   "metadata": {},
   "source": [
    "Il valore restituito da `fsolve` è un array di numpy di lunghezza $n$ per un problema di ricerca di radici con $n$ variabili. Nell'esempio precedente, $n = 1$.\n",
    "\n",
    "Interpolazione\n",
    "-------------\n",
    "\n",
    "Dato un insieme di *N* punti $(x_i, y_i)$ con $i = 1, 2, …N$, talvolta abbiamo bisogno di una funzione $\\hat{f}(x)$ che passi per i punti, cioè tale che $y_i = \\hat{f}(x_i)$ e che, inoltre, fornisca un'interpolazione dei dati per qualsiasi valore di $x$ (Si noti la differenza rispetto all'interpolazione basata sulla minimizzazione degli scarti quadratici.). \n",
    "\n",
    "La funzione `y0 = scipy.interpolate.interp1d(x,y,kind=’nearest’)` provvede questa interpolazione basandosi su *splines* (Google!) di ordine variabile.\n",
    "\n",
    "Il codice che segue dimostra l'uso di `interp1d` ed esemplifica diversi tipi di interpolazione."
   ]
  },
  {
   "cell_type": "code",
   "execution_count": null,
   "metadata": {},
   "outputs": [],
   "source": [
    "import scipy.interpolate\n",
    "help(scipy.interpolate.interp1d)"
   ]
  },
  {
   "cell_type": "code",
   "execution_count": null,
   "metadata": {},
   "outputs": [],
   "source": [
    "import numpy as np\n",
    "import scipy.interpolate\n",
    "import matplotlib.pyplot as plt\n",
    "\n",
    "\n",
    "def create_data(n):\n",
    "    \"\"\"Given an integer n, returns n data points\n",
    "    x and values y as a numpy.array.\"\"\"\n",
    "    xmax = 5.\n",
    "    x = np.linspace(0, xmax, n)\n",
    "    y = - x**2\n",
    "    #make x-data somewhat irregular\n",
    "    y += 1.5 * np.random.normal(size=len(x))\n",
    "    return x, y\n",
    "\n",
    "#main program\n",
    "n = 10\n",
    "x, y = create_data(n)\n",
    "\n",
    "#use finer and regular mesh for plot\n",
    "xfine = np.linspace(0.1, 4.9, n * 100)\n",
    "#interpolate with piecewise constant function (p=0)\n",
    "y0 = scipy.interpolate.interp1d(x, y, kind='nearest')\n",
    "#interpolate with piecewise linear func (p=1)\n",
    "y1 = scipy.interpolate.interp1d(x, y, kind='linear')\n",
    "#interpolate with piecewise quadratic func (p=2)\n",
    "y2 = scipy.interpolate.interp1d(x, y, kind='quadratic')\n",
    "\n",
    "fig, ax = plt.subplots(figsize=(10, 8))\n",
    "ax.plot(x, y, 'o', label='data point')\n",
    "ax.plot(xfine, y0(xfine), label='nearest')\n",
    "ax.plot(xfine, y1(xfine), label='linear')\n",
    "ax.plot(xfine, y2(xfine), label='quadratic')\n",
    "ax.set_xlabel('x')\n",
    "ax.set_ylabel('y(x)')\n",
    "ax.legend()"
   ]
  },
  {
   "cell_type": "markdown",
   "metadata": {},
   "source": [
    "Fit di una curva\n",
    "-------------\n",
    "\n",
    "Abbiamo già visto nel notebook su numpy (08_numpy) come fare un fit di un set di dati con un polinomio usando la funzione `numpy.polyfit`. Qui, introduciamo un algoritmo per fittare una curva con una funzione più generale.\n",
    "\n",
    "Scipy fornisce una funzione piuttosto flessibile (basato sull'algoritmo di Levenburg-Marquardt), `scipy.optimize.curve_fit`, per interpolare un set di dati. L'assunzione è che vengano dati un set di punti\n",
    "$x_1, x_2, …x_N$, i corrispondenti valori $y_i$ e una dipendenza funzionale $y=f(x,\\vec{p})$.\n",
    "Per fare un esempio, il numero di atomi non decaduti in un campione di una sostanza radioattiva segue la legge\n",
    "$y(t) = N_0 \\exp(\\alpha t)$.\n",
    "Si vuole determinare i parametri $\\vec{p}=(p_1, p_2, \\ldots,p_k)$ in modo che $r$, la somma degli scarti quadratici, sia la più piccola possibile:\n",
    "\n",
    "$$r = \\sum\\limits_{i=1}^N \\left(y_i - f(x_i, \\vec{p})\\right)^2$$\n",
    "\n",
    "Questo approccio è particolarmente utile quando i dati sono affetti da *rumore*: per ogni coppia $x_i,y_i$ è presente un termine di errore (ignoto) $\\epsilon_i$, tale che $y_i=f(x_i,\\vec{p})+\\epsilon_i$.\n",
    "\n",
    "Un esempio per chiarire: assumiamo di avere dei dati che sappiamo essere descritti dalla funzione:\n",
    "$$f(x,\\vec{p}) = a \\exp(-b x) + c,$$\n",
    "che dipende dai parametri $\\vec{p}=\\mathtt{a,b,c}$, che devono essere determinati usando i dati."
   ]
  },
  {
   "cell_type": "code",
   "execution_count": null,
   "metadata": {},
   "outputs": [],
   "source": [
    "import numpy as np\n",
    "from scipy.optimize import curve_fit\n",
    "\n",
    "\n",
    "def f(x, a, b, c):\n",
    "    \"\"\"Fit function y=f(x,p) with parameters p=(a,b,c). \"\"\"\n",
    "    return a * np.exp(- b * x) + c\n",
    "\n",
    "#create fake data\n",
    "x = np.linspace(0, 4, 50)\n",
    "y = f(x, a=2.5, b=1.3, c=0.5)\n",
    "#add noise\n",
    "yi = y + 0.2 * np.random.normal(size=len(x))\n",
    "\n",
    "#call curve fit function\n",
    "popt, pcov = curve_fit(f, x, yi)\n",
    "# extract fit parameters\n",
    "af, bf, cf = popt\n",
    "print(f\"Optimal parameters are af={af:g}, bf={bf:g}, and cf={cf:g}.\")\n",
    "\n",
    "# best fit curve\n",
    "yfitted = f(x,af,bf,cf)\n",
    "\n",
    "#plot\n",
    "import matplotlib.pyplot as plt\n",
    "fig, ax = plt.subplots(figsize=(6,4))\n",
    "ax.scatter(x, yi, marker='o', label='data $y_i$')\n",
    "ax.plot(x, yfitted, c='r', label='fit $f(x_i)$')\n",
    "ax.set_xlabel('x')\n",
    "ax.legend()"
   ]
  },
  {
   "cell_type": "markdown",
   "metadata": {},
   "source": [
    "Si noti che nell'esempio precedente abbiamo definito la funzione da utilizzare per il fit y = f(x)$ usando del codice Python. Quindi possiamo utilizzare una funzione (quasi) arbitraria nel metodo `curve_fit`.\n",
    "\n",
    "La funzione `curve_fit` restituisce una tuple `popt, pcov`. Il primo elemento, `popt`, contiene l'ntupla dei parametri ottimali (OPTimal Parameters), cioè i parametri che minimizzano la somma degli scarti quadratici. Il secondo elemento contiene la matrice di covarianza di tutti i parametri (Sperimentazioni di Fisica). La diagonale fornisce la varianza della stima dei parametri.\n",
    "\n",
    "L'algoritmo di Levenburg-Marquardt richiede, per iniziare la sua procedura, una stima iniziale dei parametri. Se questa non viene fornita, come nell'esempio precedente, il valore “1.0“ viene assunto come stima di partenza.\n",
    "\n",
    "Se l'algoritmo non riesce a fittare i dati con la funzione ipotizzata, è necessario fornire a `curve_fit` una stima migliore per i parametri iniziali. Nell'esempio precedente potremmo passare le nostre stime cambiando la linea\n",
    "\n",
    "```python\n",
    "popt, pcov = curve_fit(f, x, yi)\n",
    "```\n",
    "\n",
    "in\n",
    "\n",
    "```python\n",
    "popt, pcov = curve_fit(f, x, yi, p0=(2,1,0.6))\n",
    "```\n",
    "se avessimo ragione di ritenere che *a* = 2, *b* = 1 and *c* = 0.6 siano dei valori \"ragionevoli\". Una volta che la stima iniziale è \"più o meno corretta\" il fit funziona bene. "
   ]
  },
  {
   "cell_type": "markdown",
   "metadata": {},
   "source": [
    "Ottimizzazione\n",
    "------------\n",
    "\n",
    "Spesso è necessario trovare il massimo o il minimo di una particolare funzione *f(x)* dove *f* è una funzione scalare mentre *x* può essere un vettore. Applicazioni tipiche sono la minimizzazione di quantità come il costo, il rischio o l'errore, oppure la massimizzazione della produttività, efficienza o profitto. Le routines di ottimizzazione tipicamente forniscono un metodo per minimizzare una funzione data: per massimizzare *f(x)* è sufficiente minimizzare *g(x)= − f(x)*.\n",
    "\n",
    "Di seguito, un esempio che mostra (i) the definizione din funzione di test function e (ii) la chiamata a `scipy.optimize.fmin` a cui vengono passati la funzione *f* da minimizzare e un valore iniziale *x*<sub>0</sub> da cui partire per la ricerca del minimo, e che restituisce il valore *x* per cui *f(x)* ha un minimo locale. Tipicamente, la ricerca del minimo è locale, nel senso che l'algoritmo segue il gradiente (derivata multidimensionale) nel punto in cui si trova. Cerchiamo il minimo partendo da due punti diversi (*x*<sub>0</sub> = 1.0 e *x*<sub>0</sub> = 2.0, respectively) per dimostrare che, a seconda del punto di partenza, possiamo trovare minimi diversi della funzione *f*.\n",
    "\n",
    "La maggior parte dei comandi, dopo le due chiamate a `fmin`, generano il plot della funzione, mostrando i punti iniziali delle due ricerche e i minimi ottenuti:"
   ]
  },
  {
   "cell_type": "code",
   "execution_count": null,
   "metadata": {},
   "outputs": [],
   "source": [
    "import numpy as np\n",
    "from scipy.optimize import fmin\n",
    "import matplotlib.pyplot as plt\n",
    "\n",
    "def f(x):\n",
    "    return np.cos(x) - 3 * np.exp( -(x - 0.2) ** 2)\n",
    "\n",
    "# find minima of f(x),\n",
    "# starting from 1.0 and 2.0 respectively\n",
    "minimum1 = fmin(f, 1.0)\n",
    "print(\"Start search at x=1., minimum is\", minimum1)\n",
    "minimum2 = fmin(f, 2.0)\n",
    "print(\"Start search at x=2., minimum is\", minimum2)\n",
    "\n",
    "# plot function\n",
    "x = np.arange(-10, 10, 0.1)\n",
    "y = f(x)\n",
    "\n",
    "fig, ax = plt.subplots(figsize=(6,4))\n",
    "ax.set_xlabel('x')\n",
    "ax.grid(b=True,which='both')\n",
    "ax.set_xlim(-5.,5.)\n",
    "ax.set_ylim(-2.2,0.5)\n",
    "\n",
    "ax.plot(x, y, label='$\\cos(x)-3e^{-(x-0.2)^2}$')\n",
    "# add minimum1 to plot\n",
    "ax.scatter(minimum1, f(minimum1), marker='v', c='r', label='minimum 1')\n",
    "# add start1 to plot\n",
    "ax.scatter(1.0, f(1.0), marker='o', c='r', label='start 1')\n",
    "\n",
    "# add minimum2 to plot\n",
    "ax.scatter(minimum2,f(minimum2), marker='v', c='g', label='minimum 2')\n",
    "# add start2 to plot\n",
    "ax.scatter(2.0,f(2.0), marker='o', c='g',label='start 2')\n",
    "\n",
    "ax.legend(loc='lower left')"
   ]
  },
  {
   "cell_type": "markdown",
   "metadata": {},
   "source": [
    "Come si vede, la chiamata a `fmin` produce anche dell'output addizionale che può essere utile per analizzare la procedura.\n",
    "\n",
    "##### Valori ritornati da `fmin`\n",
    "\n",
    "Si noti che la funzione `fmin` restituisce un numpy `array` che – nel caso precedente – contiene un solo numero dal momento che abbiamo una sola variabile (qui *x*) da variare. In generale, `fmin` può essre usata per trovare il minimo in uno spazio pluridimensionale. In questo caso, il numpy array contiene le coordinate del punto che minimizza la funzione obiettivo."
   ]
  },
  {
   "cell_type": "markdown",
   "metadata": {},
   "source": [
    "Altri metodi numerici\n",
    "-----------------------\n",
    "\n",
    "Scientific Python and Numpy forniscono molti altri algoritmi numerici: per esempio interpolazione di funzioni, trasformate di Fourier, ottimizzazione, funzioni speciali (Funzioni di Bessel etc.), generazione di numeri casuali, signal processing e filtri."
   ]
  },
  {
   "cell_type": "markdown",
   "metadata": {},
   "source": [
    "\n",
    "Ulteriori informazioni ed esempi: [Scipy-lectures](http://scipy-lectures.org/index.html)."
   ]
  }
 ],
 "metadata": {
  "hide_input": false,
  "kernelspec": {
   "display_name": "Python 3",
   "language": "python",
   "name": "python3"
  },
  "language_info": {
   "codemirror_mode": {
    "name": "ipython",
    "version": 3
   },
   "file_extension": ".py",
   "mimetype": "text/x-python",
   "name": "python",
   "nbconvert_exporter": "python",
   "pygments_lexer": "ipython3",
   "version": "3.7.3"
  },
  "toc": {
   "base_numbering": 1,
   "nav_menu": {},
   "number_sections": true,
   "sideBar": true,
   "skip_h1_title": true,
   "title_cell": "Table of Contents",
   "title_sidebar": "Contents",
   "toc_cell": false,
   "toc_position": {},
   "toc_section_display": true,
   "toc_window_display": false
  },
  "varInspector": {
   "cols": {
    "lenName": 16,
    "lenType": 16,
    "lenVar": 40
   },
   "kernels_config": {
    "python": {
     "delete_cmd_postfix": "",
     "delete_cmd_prefix": "del ",
     "library": "var_list.py",
     "varRefreshCmd": "print(var_dic_list())"
    },
    "r": {
     "delete_cmd_postfix": ") ",
     "delete_cmd_prefix": "rm(",
     "library": "var_list.r",
     "varRefreshCmd": "cat(var_dic_list()) "
    }
   },
   "types_to_exclude": [
    "module",
    "function",
    "builtin_function_or_method",
    "instance",
    "_Feature"
   ],
   "window_display": false
  }
 },
 "nbformat": 4,
 "nbformat_minor": 4
}
