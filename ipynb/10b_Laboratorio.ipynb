{
 "cells": [
  {
   "cell_type": "markdown",
   "metadata": {},
   "source": [
    "# Programmare in Python\n",
    "\n",
    "## Laboratorio: Scipy\n"
   ]
  },
  {
   "cell_type": "markdown",
   "metadata": {},
   "source": [
    "__1 - Trovate le radici dell'equazione $x = \\sqrt{8/x -1}$ usando il metodo di bisezione. Prima di procedere determinate in quale intervallo l'equazione è definita. Fate il grafico della funzione in modo da scegliere opportunamente i parametri per il metodo di bisezione.__"
   ]
  },
  {
   "cell_type": "code",
   "execution_count": null,
   "metadata": {},
   "outputs": [],
   "source": []
  },
  {
   "cell_type": "markdown",
   "metadata": {},
   "source": [
    "__2 - Calcolate l'integrale:__\n",
    "$$\\int_0^{\\frac{\\pi}{2}} \\sin^2(x)$$\n",
    "__Confrontate il risultato esatto $\\frac{\\pi}{4}$.__<br>\n",
    "__Calcolate lo stesso integrale usando il metodo dei trapezi, variando il numero di trapezi utilizzato.__"
   ]
  },
  {
   "cell_type": "code",
   "execution_count": null,
   "metadata": {},
   "outputs": [],
   "source": []
  },
  {
   "cell_type": "markdown",
   "metadata": {},
   "source": [
    "__3 - Trovate gli zeri della funzione:__\n",
    "$$ y(t) = t\\,(1-t) + t\\, e^{-t}$$"
   ]
  },
  {
   "cell_type": "code",
   "execution_count": null,
   "metadata": {},
   "outputs": [],
   "source": []
  },
  {
   "cell_type": "markdown",
   "metadata": {},
   "source": [
    "__4 - Importate i dati contenuti in `../Data/decay_data.txt`. I dati (falsi) rappresentano il numero di particelle $\\alpha$ rilevate al secondo vicino a un elemento radioattivo $X$. Il tempo delle misure è dato nella prima colonna in giorni a partire dall'inizio dell'esperimento. La seconda e terza colonna forniscono il numero di particelle al secondo e la corrispondente incertezza.__\n",
    "\n",
    "- __Fate un plot dei dati, incluse le barre di errore. Inserite i titoli opportuni per i due assi.__\n",
    "\n",
    "- __Il tasso di decadimento di un elemento radioattivo segue una legge del tipo:__\n",
    "$$R(t) = R_0~e^{-t/\\tau}$$\n",
    "__dove $R_0$ è il tasso di decadimento a $t=0$, e $\\tau$ è la vita media. Fate un fit dei dati utilizzando la funzione $R(t)$ con $R_0$ e $\\tau$ come parametri liberi.__\n",
    "\n",
    "- __Sovrapponete ai dati la funzione ottenuta dal fit.__\n"
   ]
  },
  {
   "cell_type": "code",
   "execution_count": null,
   "metadata": {},
   "outputs": [],
   "source": []
  }
 ],
 "metadata": {
  "hide_input": false,
  "kernelspec": {
   "display_name": "Python 3",
   "language": "python",
   "name": "python3"
  },
  "language_info": {
   "codemirror_mode": {
    "name": "ipython",
    "version": 3
   },
   "file_extension": ".py",
   "mimetype": "text/x-python",
   "name": "python",
   "nbconvert_exporter": "python",
   "pygments_lexer": "ipython3",
   "version": "3.7.3"
  },
  "toc": {
   "base_numbering": 1,
   "nav_menu": {},
   "number_sections": true,
   "sideBar": true,
   "skip_h1_title": true,
   "title_cell": "Table of Contents",
   "title_sidebar": "Contents",
   "toc_cell": false,
   "toc_position": {},
   "toc_section_display": true,
   "toc_window_display": false
  },
  "varInspector": {
   "cols": {
    "lenName": 16,
    "lenType": 16,
    "lenVar": 40
   },
   "kernels_config": {
    "python": {
     "delete_cmd_postfix": "",
     "delete_cmd_prefix": "del ",
     "library": "var_list.py",
     "varRefreshCmd": "print(var_dic_list())"
    },
    "r": {
     "delete_cmd_postfix": ") ",
     "delete_cmd_prefix": "rm(",
     "library": "var_list.r",
     "varRefreshCmd": "cat(var_dic_list()) "
    }
   },
   "types_to_exclude": [
    "module",
    "function",
    "builtin_function_or_method",
    "instance",
    "_Feature"
   ],
   "window_display": false
  }
 },
 "nbformat": 4,
 "nbformat_minor": 4
}
