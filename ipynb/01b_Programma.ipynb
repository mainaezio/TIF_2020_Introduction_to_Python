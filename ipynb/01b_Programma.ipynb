{
 "cells": [
  {
   "cell_type": "markdown",
   "metadata": {},
   "source": [
    "Che cos'è un programma\n",
    "======================\n",
    "\n",
    "- Un programma è una successione di comandi che possono essere eseguiti (generalmente da un calcolatore)\n",
    "- Un programma è l'implementazione di un **Algoritmo**\n",
    "- In ultima istanza un calcolatore agisce su numeri binari. \n",
    "- Oltre ai numeri interi, reali, complessi, si possono, per esempio, rappresentare in modo numerico: <P>\n",
    "$\\hspace{1cm}$ - un punto nel piano (oppure sullo schermo di un terminale, ovvero in una stampante)<BR>\n",
    "$\\hspace{1cm}$ - i risultati di una misurazione<BR>\n",
    "$\\hspace{1cm}$ - un testo: codice ASCII, Unicode<BR>\n",
    "$\\hspace{1cm}$ - un colore: RGB(127, 220, 180)<BR>"
   ]
  },
  {
   "cell_type": "markdown",
   "metadata": {},
   "source": [
    "- Un programma normalmente viene scritto in un file e poi eseguito\n",
    "<P>\n",
    "- Richiede un editor da programmazione\n",
    "    "
   ]
  },
  {
   "cell_type": "markdown",
   "metadata": {},
   "source": [
    "## Esempi"
   ]
  },
  {
   "cell_type": "markdown",
   "metadata": {},
   "source": [
    "### Programma Branzino_al_Cartoccio\n",
    "\n",
    "INGREDIENTI\n",
    "- 2 branzini da porzione\n",
    "- 4 rametti di rosmarino\n",
    "- 2 spicchi di aglio\n",
    "- Sale grosso\n",
    "- Olio extravergine di oliva\n",
    "- Pepe nero macinato al momento\n",
    "- Sale fino\n",
    "\n",
    "PREPARAZIONE\n",
    "\n",
    "- Lavare accuratamente il branzino, praticare una apertura sulla pancia per rimuovere le viscere e squamarlo.\n",
    "- Mettere nella pancia un rametto di rosmarino, uno spicchio di aglio affettato, un pizzico di sale grosso ed un filo d'olio di oliva.\n",
    "- Tagliare un foglio di carta stagnola lungo una decina di centimetri in più del branzino.\n",
    "- Disporre sul foglio di carta stagnola un filo d'olio, spennellarlo accuratamente, quindi disporvi il pesce.\n",
    "- Cospargere il pesce con un filo di olio di oliva, una macinata di pepe, un pizzico di sale e decorare con un rametto di rosmarino.\n",
    "- Chiudere il cartoccio sovrapponendo un altro foglio di alluminio e sigillare accuratamente lungo i bordi.\n",
    "- Infornare nel forno preriscaldato a 200°C per 30 minuti.\n",
    "- Servire immediatamente.\n"
   ]
  },
  {
   "cell_type": "markdown",
   "metadata": {},
   "source": [
    "### Programma Soluzione_equazione_secondo grado\n",
    "$$ a x^2 + b x + c = 0$$ \n",
    "I valori numerici di $a,\\, b,\\, c$ sono gli input viene dato al nostro programma<BR>\n",
    "I valori numerici della variabile $x$ per cui l'equazione è soddisfatta (a valori fissati di $a,\\, b,\\, c$) sono l'output del programma.<P>\n",
    "    \n",
    "- Se $a = b = 0 $: se $c = 0 $ ogni $x$ è soluzione; se $c \\neq 0 $ nessun $x$ è soluzione \n",
    "- Se $a = 0$, una sola soluzione $x_1 = -c/b$\n",
    "- Se $a \\neq 0$:<P>\n",
    "$\\hspace{1cm}$ - Se $ d = b^2 -4ac \\lt 0$ : non ci sono soluzioni reali<BR>\n",
    "$\\hspace{1cm}$ - Se $  d = 0$ : una soluzione $x_1 = -b/(2a)$<BR>\n",
    "$\\hspace{1cm}$ - Se $  d \\gt 0$ : due soluzion1 $x_{1,2} = (-b\\pm\\sqrt{d})/(2a)$<BR>\n",
    "    "
   ]
  },
  {
   "cell_type": "code",
   "execution_count": null,
   "metadata": {},
   "outputs": [],
   "source": []
  }
 ],
 "metadata": {
  "kernelspec": {
   "display_name": "Python 3",
   "language": "python",
   "name": "python3"
  },
  "language_info": {
   "codemirror_mode": {
    "name": "ipython",
    "version": 3
   },
   "file_extension": ".py",
   "mimetype": "text/x-python",
   "name": "python",
   "nbconvert_exporter": "python",
   "pygments_lexer": "ipython3",
   "version": "3.7.3"
  }
 },
 "nbformat": 4,
 "nbformat_minor": 4
}
