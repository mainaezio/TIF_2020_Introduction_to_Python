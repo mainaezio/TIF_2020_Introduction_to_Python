{
 "cells": [
  {
   "cell_type": "markdown",
   "metadata": {},
   "source": [
    "# Programmare in Python\n",
    "\n",
    "## Laboratorio: Tipi di dati\n"
   ]
  },
  {
   "cell_type": "markdown",
   "metadata": {},
   "source": [
    "### Esercizi"
   ]
  },
  {
   "cell_type": "markdown",
   "metadata": {},
   "source": [
    "__1 - Costruite la lista L1 dei numeri pari fra 16 e 42, estremi inclusi. A partire da L1 costruite la lista L2 che contiene gli stessi valori in ordine decrescente.__"
   ]
  },
  {
   "cell_type": "code",
   "execution_count": null,
   "metadata": {},
   "outputs": [],
   "source": []
  },
  {
   "cell_type": "markdown",
   "metadata": {},
   "source": [
    "__2 - Costruite la lista A dei numeri pari fra 11 e 33. Estraete da A la lista B che contiene gli elementi di indice da 3 a 8.__"
   ]
  },
  {
   "cell_type": "code",
   "execution_count": null,
   "metadata": {},
   "outputs": [],
   "source": []
  },
  {
   "cell_type": "markdown",
   "metadata": {},
   "source": [
    "__3 - Da \"Nel mezzo del cammin di nostra vita mi ritrovai in una selva oscura.\" estraete la nona parola__"
   ]
  },
  {
   "cell_type": "code",
   "execution_count": null,
   "metadata": {},
   "outputs": [],
   "source": []
  },
  {
   "cell_type": "markdown",
   "metadata": {},
   "source": [
    "__4 - Costruite un dizionario `mesi` che abbia come keys i nomi dei mesi e come valore la loro rappresentazione numerica.__\n",
    "__Esempio: mesi(\"Giugno\") deve ritornare 6.__"
   ]
  },
  {
   "cell_type": "code",
   "execution_count": null,
   "metadata": {},
   "outputs": [],
   "source": []
  },
  {
   "cell_type": "markdown",
   "metadata": {},
   "source": [
    "__5 - Costruite una funzione che prenda come input una lista di interi L e un intero n, contenuto nella lista, e restituisca l'indice dell'elemento n in L.__"
   ]
  },
  {
   "cell_type": "code",
   "execution_count": null,
   "metadata": {},
   "outputs": [],
   "source": []
  },
  {
   "cell_type": "markdown",
   "metadata": {},
   "source": [
    "__6 - Scrivete una funzione `copy_to_len_whole(s, l)` che restituisce la stringa più lunga possibile composta di copie complete di `s`. La lunghezza del risultato deve essere minore o uguale a `l`.__\n",
    "\n",
    "__Per esempio,__\n",
    "* `copy_to_len_whole(\"12345\", 17)` deve restituire `\"123451234512345\"` (length 15);\n",
    "\n",
    "__Potete assumere che `s` non sia vuota e che `l >= 0`. Suggerimento: usate l'operatore `//`.__"
   ]
  },
  {
   "cell_type": "code",
   "execution_count": null,
   "metadata": {},
   "outputs": [],
   "source": []
  },
  {
   "cell_type": "markdown",
   "metadata": {},
   "source": [
    "__7 - Usando `help(str)` esplorate l'uso del metodo count. Utilizzatelo per trovare quante volte il carattere `a` compare in \"Nel mezzo del cammin di nostra vita mi ritrovai in una selva oscura.__"
   ]
  },
  {
   "cell_type": "code",
   "execution_count": null,
   "metadata": {},
   "outputs": [],
   "source": []
  },
  {
   "cell_type": "markdown",
   "metadata": {},
   "source": [
    "__8 - Scrivere una funzione che prenda come input due vettori, v1 e v2, nel piano, espressi attraverso due liste di componenti cartesiane, e restituisca la scomposizione di v1 in due vettori w1 e w2, il primo parallelo a v2 e il secondo ortogonale a v2. La scomposizione è unica? Se i vettori fossero vettori in tre dimensioni la scomposizione sarebbe unica?__"
   ]
  },
  {
   "cell_type": "code",
   "execution_count": null,
   "metadata": {},
   "outputs": [],
   "source": []
  }
 ],
 "metadata": {
  "hide_input": false,
  "kernelspec": {
   "display_name": "Python 3",
   "language": "python",
   "name": "python3"
  },
  "language_info": {
   "codemirror_mode": {
    "name": "ipython",
    "version": 3
   },
   "file_extension": ".py",
   "mimetype": "text/x-python",
   "name": "python",
   "nbconvert_exporter": "python",
   "pygments_lexer": "ipython3",
   "version": "3.7.3"
  },
  "toc": {
   "base_numbering": 1,
   "nav_menu": {},
   "number_sections": true,
   "sideBar": true,
   "skip_h1_title": true,
   "title_cell": "Table of Contents",
   "title_sidebar": "Contents",
   "toc_cell": false,
   "toc_position": {},
   "toc_section_display": true,
   "toc_window_display": false
  },
  "varInspector": {
   "cols": {
    "lenName": 16,
    "lenType": 16,
    "lenVar": 40
   },
   "kernels_config": {
    "python": {
     "delete_cmd_postfix": "",
     "delete_cmd_prefix": "del ",
     "library": "var_list.py",
     "varRefreshCmd": "print(var_dic_list())"
    },
    "r": {
     "delete_cmd_postfix": ") ",
     "delete_cmd_prefix": "rm(",
     "library": "var_list.r",
     "varRefreshCmd": "cat(var_dic_list()) "
    }
   },
   "types_to_exclude": [
    "module",
    "function",
    "builtin_function_or_method",
    "instance",
    "_Feature"
   ],
   "window_display": false
  }
 },
 "nbformat": 4,
 "nbformat_minor": 4
}
