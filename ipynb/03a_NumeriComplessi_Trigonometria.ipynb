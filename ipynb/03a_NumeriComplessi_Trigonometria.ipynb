{
 "cells": [
  {
   "cell_type": "markdown",
   "metadata": {},
   "source": [
    "Numeri Complessi e Trigonometria\n",
    "================================\n",
    "\n",
    "Una delle equazioni più importanti della matematica è la Formula di Eulero:\n",
    "\n",
    "$$ e^{i \\theta} = \\cos(\\theta) + i \\sin(\\theta)\\qquad \\theta \\in \\mathbb{R}.$$\n",
    "\n",
    "Usando le regole usuali per il prodotto di esponenziali e per il prodotto fra numeri complessi si ottengono facilmente tutte le formule trigonometriche.<BR>\n",
    "Per esempio:\n",
    "    \n",
    "$$e^{i \\theta}\\,  e^{-i \\theta} =  e^{0} = 1 = \\cos(\\theta)^2 + \\sin(\\theta)^2$$\n",
    "    \n",
    "$$e^{i \\theta_1}\\,  e^{i \\theta_2} = e^{i (\\theta_1 +\\theta_2)} =\n",
    "        \\cos(\\theta_1+\\theta_2) + i \\sin(\\theta_1+\\theta_2) = \n",
    "        (\\cos(\\theta_1)\\, \\cos(\\theta_2) - \\sin(\\theta_1)\\, \\sin(\\theta_2)) \n",
    "        + i\\, (\\sin(\\theta_1)\\, \\cos(\\theta_2) + \\cos(\\theta_1)\\, \\sin(\\theta_2))$$ "
   ]
  },
  {
   "cell_type": "markdown",
   "metadata": {},
   "source": [
    "<img src=\"../Images/NumeriComplessiGrafica.gif\" width=\"500\" align=\"center\"/>"
   ]
  },
  {
   "cell_type": "markdown",
   "metadata": {},
   "source": [
    "In questo notebook potrete esplorare esponenziali e relazioni trigonometriche sotto forma di esercizi in Python."
   ]
  },
  {
   "cell_type": "markdown",
   "metadata": {},
   "source": [
    "__1 - Verificate numericamente che per qualunque `a` e `b`, reali o complessi, $e^{a}\\,  e^{b} = e^{a + b}$. Controllate il caso `a` = `-b`.__"
   ]
  },
  {
   "cell_type": "code",
   "execution_count": null,
   "metadata": {},
   "outputs": [],
   "source": []
  },
  {
   "cell_type": "markdown",
   "metadata": {},
   "source": [
    "__2 - Verificate numericamente che per qualunque `a` reale, $e^{i a} = \\cos(a) + i \\sin(a)$. Verificate il risultato per $ a = 0, \\pi/2, \\pi , 3 \\pi/2$.__"
   ]
  },
  {
   "cell_type": "code",
   "execution_count": null,
   "metadata": {},
   "outputs": [],
   "source": []
  },
  {
   "cell_type": "markdown",
   "metadata": {},
   "source": [
    "__3 - Verificate numericamente usando la Formula di Eulero che per qualunque `a` e `b` reali, \n",
    "$\\cos(a+b) = \\cos(a)\\, \\cos(b) - \\sin(a)\\, \\sin(b)$ e $\\sin(a+b) = \\sin(a)\\, \\cos(b) + \\cos(a)\\, \\sin(b)$.__"
   ]
  },
  {
   "cell_type": "code",
   "execution_count": null,
   "metadata": {},
   "outputs": [],
   "source": []
  },
  {
   "cell_type": "markdown",
   "metadata": {},
   "source": [
    "__4 - Verificate numericamente che per qualunque `a`, `b`, `c`,`d` reali, \n",
    "$(a + i b)\\,(c + i d) = a c - b d + i\\, (a d + b c)$.__"
   ]
  },
  {
   "cell_type": "code",
   "execution_count": null,
   "metadata": {},
   "outputs": [],
   "source": []
  },
  {
   "cell_type": "markdown",
   "metadata": {},
   "source": [
    "__5 - Verificate numericamente che per qualunque `a` e `b` reali, \n",
    "$a + i b = \\sqrt{a^2+b^2}\\, e^{i\\arctan(b/a)}$.__"
   ]
  },
  {
   "cell_type": "code",
   "execution_count": null,
   "metadata": {},
   "outputs": [],
   "source": []
  }
 ],
 "metadata": {
  "kernelspec": {
   "display_name": "Python 3",
   "language": "python",
   "name": "python3"
  },
  "language_info": {
   "codemirror_mode": {
    "name": "ipython",
    "version": 3
   },
   "file_extension": ".py",
   "mimetype": "text/x-python",
   "name": "python",
   "nbconvert_exporter": "python",
   "pygments_lexer": "ipython3",
   "version": "3.7.3"
  }
 },
 "nbformat": 4,
 "nbformat_minor": 4
}
