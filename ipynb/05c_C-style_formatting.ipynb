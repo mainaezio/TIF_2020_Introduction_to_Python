{
 "cells": [
  {
   "cell_type": "markdown",
   "metadata": {},
   "source": [
    "Print formattato in stile \"C\"\n",
    "================"
   ]
  },
  {
   "cell_type": "markdown",
   "metadata": {},
   "source": [
    "In questa sezione, descriviamo come stampare informazioni usando la specificazione di format vecchio-stile con `%`. Questo modo di formattare l'output utilizza una sintassi molto simile a quella di `fprintf`  in Matlab (e quindi simile a quella `printf` del C). Nel notebook 05_input-output-files vengono presentate specificazioni più semplici e recenti.\n",
    "\n",
    "La struttura globale si basa su una stringa che contiene le specificazioni di format, seguite dal segno di percento e da una ntupla contenente le variabili da stampare al posto delle specificazioni di format."
   ]
  },
  {
   "cell_type": "code",
   "execution_count": null,
   "metadata": {},
   "outputs": [],
   "source": [
    "print(\"a         = %d b = %x\" % (10,20))"
   ]
  },
  {
   "cell_type": "markdown",
   "metadata": {},
   "source": [
    "Una stringa può contenere delle specificazioni di formato: `%f` per formattare come reale, `%d` per formattare come un intero, `%x` per formattare come un numero esadecimale (Se non li conoscete, cercate in rete cosa sono) e `%s` per formattare come una stringa."
   ]
  },
  {
   "cell_type": "code",
   "execution_count": null,
   "metadata": {},
   "outputs": [],
   "source": [
    "from math import pi\n",
    "print(\"Pi = %5.2f\" % pi)"
   ]
  },
  {
   "cell_type": "code",
   "execution_count": null,
   "metadata": {},
   "outputs": [],
   "source": [
    "print(\"Pi = %10.3f\" % pi)"
   ]
  },
  {
   "cell_type": "code",
   "execution_count": null,
   "metadata": {},
   "outputs": [],
   "source": [
    "print(\"Pi = %10.17f\" % pi)"
   ]
  },
  {
   "cell_type": "code",
   "execution_count": null,
   "metadata": {},
   "outputs": [],
   "source": [
    "print(\"Pi = %d\" % 3.8)"
   ]
  },
  {
   "cell_type": "markdown",
   "metadata": {},
   "source": [
    "Una specificazione di formato del tipo `%W.Df` significa che il numero reale deve essere stampato con una lunghezza totale di `W` caratteri e `D` cifre dopo il punto decimale.\n",
    "\n",
    "Per stampare più di un oggetto si possono fornire più specificazioni di formato e una ntupla di oggetti da stampare:"
   ]
  },
  {
   "cell_type": "code",
   "execution_count": null,
   "metadata": {},
   "outputs": [],
   "source": [
    "print(\"Pi = %3.3f, 142*pi = %10.8f and pi^2 = %17.15f.\" % (pi,142*pi,pi**2))"
   ]
  },
  {
   "cell_type": "markdown",
   "metadata": {},
   "source": [
    "Notate che la conversione di una specificazione di formato e una ntupla di variabili in una stringa non necessita del comando `print`:"
   ]
  },
  {
   "cell_type": "code",
   "execution_count": null,
   "metadata": {},
   "outputs": [],
   "source": [
    "from math import pi\n",
    "\"pi = %f\" % pi"
   ]
  },
  {
   "cell_type": "markdown",
   "metadata": {},
   "source": [
    "Questo significa che possiamo convertire oggetti in stringhe ogni qual volta sia necessario, e che possiamo decidere di stampare le stringhe in un momento successivo – non è necessario che la formattazione sia strettamente accoppiato con il codice che effettua la stampa. In questo caso la stringa formattata deve essere assegnata ad una variabile.\n",
    "\n",
    "Una lista dei formati comunemente usati usando l'unità astronomica (distanza media Sole-Terra in metri) come esempio:"
   ]
  },
  {
   "cell_type": "code",
   "execution_count": null,
   "metadata": {},
   "outputs": [],
   "source": [
    "AU = 149597870700  # unità astronomica [m]\n",
    "\"%f\" % AU        # la prima linee della tavola"
   ]
  },
  {
   "cell_type": "code",
   "execution_count": null,
   "metadata": {},
   "outputs": [],
   "source": [
    "\"%e\" % AU       # la seconda linee della tavola"
   ]
  },
  {
   "cell_type": "markdown",
   "metadata": {},
   "source": [
    "| specifier         |         style         |  Example output for AU|\n",
    "|:------------------|:---------------------:|----------------------:|\n",
    "| `%f` |     floating point    |  `149597870700.000000`|\n",
    "| `%e` |  exponential notation |         `1.495979e+11`|\n",
    "| `%g` |  shorter of %e or %f  |          `1.49598e+11`|\n",
    "| `%d` |        integer        |         `149597870700`|\n",
    "| `%x` |       exadecimal      |           `22d4ba5a6c`|\n",
    "| `%o` |       octal      |           `2132456455154`|\n",
    "| `%s` |  `str()` |         `149597870700`|\n",
    "| `%r` | `repr()` |        `149597870700L`|\n",
    "\n",
    "### “str” and “\\_\\_str\\_\\_”\n",
    "\n",
    "Tutti gli oggetti in Python dovrebbero avere un metodo `__str__` che restituisce una rappresentazione sotto forma di stringa dell'oggetto. Questo metodo `a.__str__()` viene chiamato quando applichiamo la funzione `str` all'oggetto `a`:"
   ]
  },
  {
   "cell_type": "code",
   "execution_count": null,
   "metadata": {},
   "outputs": [],
   "source": [
    "a = 3.14\n",
    "a.__str__()"
   ]
  },
  {
   "cell_type": "code",
   "execution_count": null,
   "metadata": {},
   "outputs": [],
   "source": [
    "str(a)"
   ]
  },
  {
   "cell_type": "markdown",
   "metadata": {},
   "source": [
    "La funzione `str` è molto utile perchè permette di stampare anche oggetti complicati, come"
   ]
  },
  {
   "cell_type": "code",
   "execution_count": null,
   "metadata": {},
   "outputs": [],
   "source": [
    "b = [3, 4.2, ['apple', 'banana'], (0, 1)]\n",
    "str(b)"
   ]
  },
  {
   "cell_type": "markdown",
   "metadata": {},
   "source": [
    "Python stampa `b` usando il metodo  `__str__` dell'oggetto lista. Questo stampa la parentesi quadra iniziale `[` e poi chiama il metodo `__str__` sul primo elemento della stringa, l'intero 3. Questo produce `3`. Poi il metodo  `__str__` dell'oggetto lista stampa la virgola `,` e passa a chiamare il metodo `__str__` sull'elemento successivo, cioè `4.2`, in modo che stampi se stesso. In questo modo qualsiasi oggetto complesso può essere rappresentato come una stringa chiedendo a ciascuno degli elementi contenuti di convertire se stesso in stringa.\n",
    "\n",
    "Il metodo  `__str__` dell'oggetto `x` viene chiamato implicitamente quando\n",
    "\n",
    "-   usiamo il formato “%s” per stampare `x`\n",
    "\n",
    "-   passiamo l'oggetto `x` direttamente al comando print:\n"
   ]
  },
  {
   "cell_type": "code",
   "execution_count": null,
   "metadata": {},
   "outputs": [],
   "source": [
    "print(b)"
   ]
  },
  {
   "cell_type": "code",
   "execution_count": null,
   "metadata": {},
   "outputs": [],
   "source": [
    "print(\"%s\" % b)"
   ]
  },
  {
   "cell_type": "markdown",
   "metadata": {},
   "source": [
    "##### Ulteriori informazioni\n",
    "\n",
    "-   Esempi <http://docs.python.org/library/string.html#format-examples>\n",
    "\n",
    "-   [Python Enhancement Proposal 3101](http://www.python.org/dev/peps/pep-3101/)\n",
    "\n",
    "-   [Python library String Formatting Operations](http://docs.python.org/library/stdtypes.html#string-formatting-operations)\n",
    "\n",
    "-   [Old string formatting](http://docs.python.org/tutorial/inputoutput.html#old-string-formatting)\n",
    "\n",
    "-   [Introduction to Fancier Output Formatting, Python tutorial, section 7.1](http://docs.python.org/tutorial/inputoutput.html)\n",
    "\n",
    "- [pyformat.info](https://pyformat.info/)"
   ]
  }
 ],
 "metadata": {
  "hide_input": false,
  "kernelspec": {
   "display_name": "Python 3",
   "language": "python",
   "name": "python3"
  },
  "language_info": {
   "codemirror_mode": {
    "name": "ipython",
    "version": 3
   },
   "file_extension": ".py",
   "mimetype": "text/x-python",
   "name": "python",
   "nbconvert_exporter": "python",
   "pygments_lexer": "ipython3",
   "version": "3.7.3"
  },
  "toc": {
   "base_numbering": 1,
   "nav_menu": {},
   "number_sections": true,
   "sideBar": true,
   "skip_h1_title": true,
   "title_cell": "Table of Contents",
   "title_sidebar": "Contents",
   "toc_cell": false,
   "toc_position": {},
   "toc_section_display": true,
   "toc_window_display": false
  },
  "varInspector": {
   "cols": {
    "lenName": 16,
    "lenType": 16,
    "lenVar": 40
   },
   "kernels_config": {
    "python": {
     "delete_cmd_postfix": "",
     "delete_cmd_prefix": "del ",
     "library": "var_list.py",
     "varRefreshCmd": "print(var_dic_list())"
    },
    "r": {
     "delete_cmd_postfix": ") ",
     "delete_cmd_prefix": "rm(",
     "library": "var_list.r",
     "varRefreshCmd": "cat(var_dic_list()) "
    }
   },
   "types_to_exclude": [
    "module",
    "function",
    "builtin_function_or_method",
    "instance",
    "_Feature"
   ],
   "window_display": false
  }
 },
 "nbformat": 4,
 "nbformat_minor": 4
}
