{
 "cells": [
  {
   "cell_type": "markdown",
   "metadata": {},
   "source": [
    "Come usare un Notebook\n",
    "======================\n",
    "\n",
    "- Celle\n",
    "- Celle di testo (Markdown)\n",
    "- Celle eseguibili (Code)\n",
    "- Creare nuova cella\n",
    "- Eliminare una cella\n",
    "- Spostare celle"
   ]
  },
  {
   "cell_type": "markdown",
   "metadata": {},
   "source": [
    "Editor per programmazione\n",
    "-------------------------"
   ]
  },
  {
   "cell_type": "code",
   "execution_count": null,
   "metadata": {},
   "outputs": [],
   "source": []
  },
  {
   "cell_type": "markdown",
   "metadata": {},
   "source": [
    "Per selezionare una cella, cliccate nella finestra. Comparire un bordino blu sulla sinistra. \n",
    "Quando una cella eseguibile è selezionata ilcodice che contiene può essere modificato.\n",
    "Per eseguire la cella, schiacciate Shift-Enter.<BR>\n",
    "Per vedere o modificare il formato originale delle celle di testo, cliccate due volte nella finestra. Per tornare alla versione graficamente migliore, schiacciate Shift-Enter."
   ]
  },
  {
   "cell_type": "markdown",
   "metadata": {},
   "source": [
    "#### Regole base per scrivere comandi in Python:\n",
    "\n",
    "- Ritorno a capo conclude un comando\n",
    "- Comandi multilinea possono essere inseriti usando il carattere di continuazine `\\` (modo scoraggiato)\n",
    "- Comandi multilinea possono essere inseriti racchiudendo i comandi fra parentesi tonde (modo preferito)"
   ]
  },
  {
   "cell_type": "code",
   "execution_count": 3,
   "metadata": {},
   "outputs": [
    {
     "data": {
      "text/plain": [
       "7"
      ]
     },
     "execution_count": 3,
     "metadata": {},
     "output_type": "execute_result"
    }
   ],
   "source": [
    "3 + \\\n",
    "\\\n",
    "4"
   ]
  },
  {
   "cell_type": "code",
   "execution_count": 1,
   "metadata": {},
   "outputs": [
    {
     "data": {
      "text/plain": [
       "9"
      ]
     },
     "execution_count": 1,
     "metadata": {},
     "output_type": "execute_result"
    }
   ],
   "source": [
    "(3\n",
    "+\n",
    "6\n",
    ")"
   ]
  },
  {
   "cell_type": "code",
   "execution_count": null,
   "metadata": {},
   "outputs": [],
   "source": []
  }
 ],
 "metadata": {
  "kernelspec": {
   "display_name": "Python 3",
   "language": "python",
   "name": "python3"
  },
  "language_info": {
   "codemirror_mode": {
    "name": "ipython",
    "version": 3
   },
   "file_extension": ".py",
   "mimetype": "text/x-python",
   "name": "python",
   "nbconvert_exporter": "python",
   "pygments_lexer": "ipython3",
   "version": "3.7.3"
  }
 },
 "nbformat": 4,
 "nbformat_minor": 4
}
