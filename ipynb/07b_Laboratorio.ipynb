{
 "cells": [
  {
   "cell_type": "markdown",
   "metadata": {},
   "source": [
    "# Programmare in Python\n",
    "\n",
    "## Laboratorio: Numpy\n"
   ]
  },
  {
   "cell_type": "code",
   "execution_count": 1,
   "metadata": {},
   "outputs": [],
   "source": [
    "import numpy as np"
   ]
  },
  {
   "cell_type": "markdown",
   "metadata": {},
   "source": [
    "Come importare un dataset che contiene sia numeri che testo, lasciando il testo inalterato. Si veda https://archive.ics.uci.edu/ml/datasets/Iris "
   ]
  },
  {
   "cell_type": "code",
   "execution_count": 7,
   "metadata": {},
   "outputs": [
    {
     "data": {
      "text/plain": [
       "array([[b'5.1', b'3.5', b'1.4', b'0.2', b'Iris-setosa'],\n",
       "       [b'4.9', b'3.0', b'1.4', b'0.2', b'Iris-setosa'],\n",
       "       [b'4.7', b'3.2', b'1.3', b'0.2', b'Iris-setosa']], dtype=object)"
      ]
     },
     "execution_count": 7,
     "metadata": {},
     "output_type": "execute_result"
    }
   ],
   "source": [
    "url = 'https://archive.ics.uci.edu/ml/machine-learning-databases/iris/iris.data'\n",
    "iris = np.genfromtxt(url, delimiter=',', dtype='object')\n",
    "names = ('sepallength', 'sepalwidth', 'petallength', 'petalwidth', 'species')\n",
    "\n",
    "# Print the first 3 rows\n",
    "iris[:3]\n",
    "\n",
    "# Il prefisso b prima di ciascun risultato deriva dal fatto che genfromtxt lavora in bytes, \n",
    "# che era il tipo di default per le strighe in Python 2.\n",
    "# Python 3 usa Unicode e premette b per segnalare stringhe in bytes."
   ]
  },
  {
   "cell_type": "code",
   "execution_count": null,
   "metadata": {},
   "outputs": [],
   "source": [
    "help(np.genfromtxt)"
   ]
  },
  {
   "cell_type": "markdown",
   "metadata": {},
   "source": [
    "### Esercizi"
   ]
  },
  {
   "cell_type": "markdown",
   "metadata": {},
   "source": [
    "__1 - Scrivere (usando NumPy) una funzione che calcoli $\\sin (x)/x$. Cosa succede in $x \\,=\\, 0$? Come superare il problema?<br>\n",
    "Confrontate la funzione con lo sviluppo in serie di $\\sin (x)/x$ nell'intorno di $x \\,=\\, 0$.__"
   ]
  },
  {
   "cell_type": "code",
   "execution_count": null,
   "metadata": {},
   "outputs": [],
   "source": []
  },
  {
   "cell_type": "markdown",
   "metadata": {},
   "source": [
    "__2 - Usando NumPy completate le seguenti operazioni. Ciascun problema può essere risolto in modo elegante con poche (1-3) linee di codice. Ricordate però il principio \"Start now, perfect later\".<br>\n",
    "(a) Create un array 8 × 8 che abbia uno su tutti i bordi e zero in tutte le altre posizioni.<br>\n",
    "(b) Create un array 8 × 8 con una disposizione a scacchiera di uno e zero.<br>\n",
    "(c) Dato l'array c = np.arange(2, 50, 5), rendete negativi tutti i numeri non divisibili per tre.\n",
    "(d) Determinate il size e la shape degli array creati ai punti (a)–(c).__"
   ]
  },
  {
   "cell_type": "code",
   "execution_count": null,
   "metadata": {},
   "outputs": [],
   "source": []
  },
  {
   "cell_type": "markdown",
   "metadata": {},
   "source": [
    "__3 - Risolvete il sistema di equazioni lineari:__\n",
    "$$ 2 x_1 + 4 x_2 + 6 x_3 = 4$$\n",
    "$$ x_1 − 3 x_2 − 9 x_3 = −11$$\n",
    "$$8 x_1 + 5 x_2 − 7 x_3 = 1$$"
   ]
  },
  {
   "cell_type": "code",
   "execution_count": null,
   "metadata": {},
   "outputs": [],
   "source": []
  },
  {
   "cell_type": "markdown",
   "metadata": {},
   "source": [
    "__4 - La posizione, al tempo t, di una palla che sia stata lasciata cadere con velocità iniziale nulla da una altezza $h_0$ è data da:\n",
    "$$y = h_0 − \\frac{1}{2}\\, g\\, t^2$$ \n",
    "dove $g = 9.81 m/s^2$. Supponiamo $h0 = 10\\, m$. Trovate la sequenza di tempi a cui la palla completa ciascun intervallo di lunghezza mezzo metro, supponendo che la palla sia lasciata cadere a t=0. <br>\n",
    "Suggerimento: create un array NumPy per y che va da 10 a 0 in incrementi di −0.5 usando la funzione arange.<br>\n",
    "Salvate il vostro codice in una funzione. Una volta creati gli array y e t eseguite il comando `list(zip(t, y))`. Interpretate il risultato.__(D.J.Pine - Introduction to Python for Science and Engineering)"
   ]
  },
  {
   "cell_type": "code",
   "execution_count": null,
   "metadata": {},
   "outputs": [],
   "source": []
  },
  {
   "cell_type": "markdown",
   "metadata": {},
   "source": [
    "__5 - Ricordando che la velocità media su un intervallo $\\Delta t$ è definita come $\\bar{v} = \\Delta y/\\Delta t$, trovate la velocità media per ciascun intervallo del problema precedente utilizzando gli array NumPy.<br>\n",
    "Suggerimento: cosa sono gli array y[1:20] e y[0:19]?.<br> \n",
    "Bonus 1: riuscite a immaginare un modo più elegante di rappresentare y[1:20]-y[0:19] che non fa riferimento esplicito al numero di elementi dell'array y, cioè che funzionerebbe per un array di lunghezza arbitraria?<br>\n",
    "Bonus 2: Calcolate l'accelerazione in funzione del tempo usando la formula $\\bar{a} = \\Delta v/\\Delta t$. Esprimete i tempi a cui le velocità sono calcolate prendendo il punto medio degli intervalli dell'array dei tempi usato in precedenza. Spiegate il risultato ottenuto per le accelerazioni.__(D.J.Pine - Introduction to Python for Science and Engineering)"
   ]
  },
  {
   "cell_type": "code",
   "execution_count": null,
   "metadata": {},
   "outputs": [],
   "source": []
  }
 ],
 "metadata": {
  "hide_input": false,
  "kernelspec": {
   "display_name": "Python 3",
   "language": "python",
   "name": "python3"
  },
  "language_info": {
   "codemirror_mode": {
    "name": "ipython",
    "version": 3
   },
   "file_extension": ".py",
   "mimetype": "text/x-python",
   "name": "python",
   "nbconvert_exporter": "python",
   "pygments_lexer": "ipython3",
   "version": "3.7.3"
  },
  "toc": {
   "base_numbering": 1,
   "nav_menu": {},
   "number_sections": true,
   "sideBar": true,
   "skip_h1_title": true,
   "title_cell": "Table of Contents",
   "title_sidebar": "Contents",
   "toc_cell": false,
   "toc_position": {},
   "toc_section_display": true,
   "toc_window_display": false
  },
  "varInspector": {
   "cols": {
    "lenName": 16,
    "lenType": 16,
    "lenVar": 40
   },
   "kernels_config": {
    "python": {
     "delete_cmd_postfix": "",
     "delete_cmd_prefix": "del ",
     "library": "var_list.py",
     "varRefreshCmd": "print(var_dic_list())"
    },
    "r": {
     "delete_cmd_postfix": ") ",
     "delete_cmd_prefix": "rm(",
     "library": "var_list.r",
     "varRefreshCmd": "cat(var_dic_list()) "
    }
   },
   "types_to_exclude": [
    "module",
    "function",
    "builtin_function_or_method",
    "instance",
    "_Feature"
   ],
   "window_display": false
  }
 },
 "nbformat": 4,
 "nbformat_minor": 4
}
