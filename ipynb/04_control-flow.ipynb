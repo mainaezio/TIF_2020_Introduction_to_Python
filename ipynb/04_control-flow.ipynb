{
 "cells": [
  {
   "cell_type": "markdown",
   "metadata": {},
   "source": [
    "Control Flow\n",
    "============\n",
    "\n"
   ]
  },
  {
   "cell_type": "markdown",
   "metadata": {},
   "source": [
    "\n",
    "Valori logici\n",
    "--------------\n",
    "Python ha due oggetti built-in che hanno i valori logici <span>`True`</span> e <span>`False`</span>:"
   ]
  },
  {
   "cell_type": "code",
   "execution_count": null,
   "metadata": {},
   "outputs": [],
   "source": [
    "a = True\n",
    "print(a)"
   ]
  },
  {
   "cell_type": "code",
   "execution_count": null,
   "metadata": {},
   "outputs": [],
   "source": [
    "int(a)"
   ]
  },
  {
   "cell_type": "code",
   "execution_count": null,
   "metadata": {},
   "outputs": [],
   "source": [
    "type(a)"
   ]
  },
  {
   "cell_type": "code",
   "execution_count": null,
   "metadata": {},
   "outputs": [],
   "source": [
    "b = False\n",
    "print(b)"
   ]
  },
  {
   "cell_type": "code",
   "execution_count": null,
   "metadata": {},
   "outputs": [],
   "source": [
    "type(b)"
   ]
  },
  {
   "cell_type": "markdown",
   "metadata": {},
   "source": [
    "Possiamo operare su questi valori usando la logica di Boole, per esempio con l'operazione  <span>`and`</span>:"
   ]
  },
  {
   "cell_type": "code",
   "execution_count": null,
   "metadata": {},
   "outputs": [],
   "source": [
    "True and True          #logical and operation"
   ]
  },
  {
   "cell_type": "code",
   "execution_count": null,
   "metadata": {},
   "outputs": [],
   "source": [
    "True and False"
   ]
  },
  {
   "cell_type": "code",
   "execution_count": null,
   "metadata": {},
   "outputs": [],
   "source": [
    "False and True"
   ]
  },
  {
   "cell_type": "code",
   "execution_count": null,
   "metadata": {},
   "outputs": [],
   "source": [
    "True and True"
   ]
  },
  {
   "cell_type": "code",
   "execution_count": null,
   "metadata": {},
   "outputs": [],
   "source": [
    "c = a and b\n",
    "print(c)"
   ]
  },
  {
   "cell_type": "markdown",
   "metadata": {},
   "source": [
    "Ci sono anche l'or logico (<span>`or`</span>) e la negazione (<span>`not`</span>):"
   ]
  },
  {
   "cell_type": "code",
   "execution_count": null,
   "metadata": {},
   "outputs": [],
   "source": [
    "True or False"
   ]
  },
  {
   "cell_type": "code",
   "execution_count": null,
   "metadata": {},
   "outputs": [],
   "source": [
    "not True"
   ]
  },
  {
   "cell_type": "code",
   "execution_count": null,
   "metadata": {},
   "outputs": [],
   "source": [
    "not False"
   ]
  },
  {
   "cell_type": "code",
   "execution_count": null,
   "metadata": {},
   "outputs": [],
   "source": [
    "True and not False"
   ]
  },
  {
   "cell_type": "markdown",
   "metadata": {},
   "source": [
    "Nel codice, si ha spesso la necessità di valutare delle espressioni che possono essere vere oppure false (Talvolta dette “predicati”). Gli operatori `==`, `!=`, `>`,`>=`, `<`, `<=` servono a confrontare i valori di due oggetti.\n",
    "Restituiscono True oppure False.\n",
    "Per esempio:"
   ]
  },
  {
   "cell_type": "code",
   "execution_count": null,
   "metadata": {},
   "outputs": [],
   "source": [
    "x = 30          # assegna 30 to x\n",
    "x > 15          # x è più grande di 15?"
   ]
  },
  {
   "cell_type": "code",
   "execution_count": null,
   "metadata": {},
   "outputs": [],
   "source": [
    "x > 42"
   ]
  },
  {
   "cell_type": "code",
   "execution_count": null,
   "metadata": {},
   "outputs": [],
   "source": [
    "x == 30         # x è uguale a 30?"
   ]
  },
  {
   "cell_type": "code",
   "execution_count": null,
   "metadata": {},
   "outputs": [],
   "source": [
    "x == 42"
   ]
  },
  {
   "cell_type": "code",
   "execution_count": null,
   "metadata": {},
   "outputs": [],
   "source": [
    "not x == 42     #  x è diverso da 42? (\"not\" nega il risultato del confronto x == 42) "
   ]
  },
  {
   "cell_type": "code",
   "execution_count": null,
   "metadata": {},
   "outputs": [],
   "source": [
    "x != 42         #  x è diverso da 42?"
   ]
  },
  {
   "cell_type": "code",
   "execution_count": null,
   "metadata": {},
   "outputs": [],
   "source": [
    "x > 30          #  x è più grande di 30?"
   ]
  },
  {
   "cell_type": "code",
   "execution_count": null,
   "metadata": {},
   "outputs": [],
   "source": [
    "x >= 30  #  x è più grande di oppure uguale a 30?"
   ]
  },
  {
   "cell_type": "markdown",
   "metadata": {},
   "source": [
    "<img src=\"../Humour/ComparisonOperators.jpg\" width=\"400\" align=\"center\"/>"
   ]
  },
  {
   "cell_type": "markdown",
   "metadata": {},
   "source": [
    "If-then-else\n",
    "------------\n",
    "\n",
    "La costruzione <span>`if`</span> permette di eseguire del codice in modo condizionato, per esempio:"
   ]
  },
  {
   "cell_type": "code",
   "execution_count": null,
   "metadata": {},
   "outputs": [],
   "source": [
    "a = -34\n",
    "if a > 0:\n",
    "    print(\"a is positive\")"
   ]
  },
  {
   "cell_type": "markdown",
   "metadata": {},
   "source": [
    "La costruzione <span>`if`</span> può avere un branch <span>`else`</span> che viene eseguito se la condizione è falsa:"
   ]
  },
  {
   "cell_type": "code",
   "execution_count": null,
   "metadata": {},
   "outputs": [],
   "source": [
    "a = -34\n",
    "if a > 0:\n",
    "    print(\"a is positive\")\n",
    "else:\n",
    "    print(\"a is non-positive (i.e. negative or zero)\")"
   ]
  },
  {
   "cell_type": "markdown",
   "metadata": {},
   "source": [
    "Infine, esiste la costruzione <span>`elif`</span> (significa “else if”) che permette di di verificare più di due possibilità esclusive. Le verifiche vengono eseguite nell'ordine in cui compaiono. Non appena una delle condizioni è verificata il codice corrispondente viene eseguito e le possibilità seguenti vengono ignorate:"
   ]
  },
  {
   "cell_type": "code",
   "execution_count": null,
   "metadata": {},
   "outputs": [],
   "source": [
    "a = 0\n",
    "if a == 0:\n",
    "    print(\"a is zero\")\n",
    "elif a < 0:\n",
    "    print(\"a is negative\")\n",
    "else:\n",
    "    print(\"a is positive\")"
   ]
  },
  {
   "cell_type": "markdown",
   "metadata": {},
   "source": [
    "Riuscite ad immaginare una situazione in cui questo pezzetto di codice non dà il risultato corretto?\n",
    "\n",
    "### Informazioni ulteriori\n",
    "\n",
    "-   Introduzione a If-then in [Python tutorial, section 4.1](http://docs.python.org/tutorial/controlflow.html#if-statements)\n",
    "\n"
   ]
  },
  {
   "cell_type": "markdown",
   "metadata": {},
   "source": [
    "<img src=\"../Humour/ControlFlow1.jpg\" width=\"450\" align=\"center\"/>"
   ]
  },
  {
   "cell_type": "markdown",
   "metadata": {},
   "source": [
    "For loop\n",
    "--------\n",
    "\n",
    "I <span>`for`</span>-loop permettono di iterare su una sequenza (per esempio una stringa o una lista). Ecco un esempio:"
   ]
  },
  {
   "cell_type": "code",
   "execution_count": null,
   "metadata": {},
   "outputs": [],
   "source": [
    "for animal in ['dog','cat','mouse']:\n",
    "    print(animal, animal.upper())"
   ]
  },
  {
   "cell_type": "markdown",
   "metadata": {},
   "source": [
    "Usando il comando `range()` (lezione 3), è possibile iterare su degli interi crescenti o decrescenti:"
   ]
  },
  {
   "cell_type": "code",
   "execution_count": null,
   "metadata": {},
   "outputs": [],
   "source": [
    "import math\n",
    "for i in range(5,10):\n",
    "    print(i)\n",
    "    print (math.sin(10**33 *i/math.pi))"
   ]
  },
  {
   "cell_type": "markdown",
   "metadata": {},
   "source": [
    "I for-loop possono essere usate per creare facilmente sequenze: "
   ]
  },
  {
   "cell_type": "code",
   "execution_count": null,
   "metadata": {},
   "outputs": [],
   "source": [
    "a = tuple(i**2 for i in range(10))\n",
    "a"
   ]
  },
  {
   "cell_type": "code",
   "execution_count": null,
   "metadata": {},
   "outputs": [],
   "source": [
    "b = [i**0.5/3. for i in range(3,9,2)]\n",
    "b"
   ]
  },
  {
   "cell_type": "markdown",
   "metadata": {},
   "source": [
    "While loop\n",
    "----------\n",
    "\n",
    "La parola chiave <span>`while`</span> permette di ripetere una operazione mentre una condizione è vera (True). Supponiamo di voler sapere per quanti anni è necessario tenere 100 euro in un conto bancario per arrivare a 200 euro grazie ad un interesse del 5% annuo. Ecco un programma che lo calcola:"
   ]
  },
  {
   "cell_type": "code",
   "execution_count": null,
   "metadata": {},
   "outputs": [],
   "source": [
    "mymoney = 100         # in euro\n",
    "rate = 1.05           # 5% interesse\n",
    "years = 0\n",
    "while mymoney < 200:  # ripeti fino a raggiungere 200 euro\n",
    "    mymoney = mymoney * rate\n",
    "    years = years + 1\n",
    "print('We need', years, 'years to reach', mymoney, 'euros.')"
   ]
  },
  {
   "cell_type": "markdown",
   "metadata": {},
   "source": [
    "### Informazioni ulteriori\n",
    "\n",
    "-   Introduzione ai for-loops in [Python tutorial, section 4.2](http://docs.python.org/tutorial/controlflow.html#for-statements)\n",
    "\n"
   ]
  },
  {
   "cell_type": "markdown",
   "metadata": {},
   "source": [
    "Operatori Relazionali  (di confronto) nelle dichiarazioni <span>`if`</span> e <span>`while`</span>\n",
    "-------------------------------------------------------------------------------------------\n",
    "\n",
    "La forma generale delle dichiarazioni per i loop <span>`if`</span> e <span>`while`</span> è la stessa: dopo la parola chiave <span>`if`</span> o <span>`while`</span>, c'è una *condizione* seguita da due punti (`:`). Nella riga successiva inizia un nuovo blocco di comandi (che quindi deve essere indentato!) che viene eseguito se la condizione è True).\n",
    "\n",
    "Per esempio, la condizione potrebbe essere l'uguaglianza di due variabili <span>`a1`</span> e <span>`a2`</span> che viene espressa come <span>`a1==a2`</span>:"
   ]
  },
  {
   "cell_type": "code",
   "execution_count": null,
   "metadata": {},
   "outputs": [],
   "source": [
    "a1 = 42\n",
    "a2 = 42\n",
    "if a1 == a2:\n",
    "    print(\"a1 and a2 are the same\")"
   ]
  },
  {
   "cell_type": "markdown",
   "metadata": {},
   "source": [
    "Un'altra possibilità è testare se <span>`a1`</span> e <span>`a2`</span> *non* sono uguali. Per questo, abbiamo due opzioni. L'opzione numero 1 usa l'*inequality operator* <span>`!=`</span>:"
   ]
  },
  {
   "cell_type": "code",
   "execution_count": null,
   "metadata": {},
   "outputs": [],
   "source": [
    "if a1 != a2:\n",
    "    print(\"a1 and a2 are different\")"
   ]
  },
  {
   "cell_type": "markdown",
   "metadata": {},
   "source": [
    "La seconda opzione usa la keyword <span>`not`</span> davanti alla condizione:"
   ]
  },
  {
   "cell_type": "code",
   "execution_count": null,
   "metadata": {},
   "outputs": [],
   "source": [
    "if not a1 == a2:\n",
    "    print(\"a1 and a2 are different\")"
   ]
  },
  {
   "cell_type": "markdown",
   "metadata": {},
   "source": [
    "I confronti per “maggiore” (<span>`>`</span>), “minore” (<span>`<`</span>), “maggiore o uguale” (<span>`>=`</span>) e “minore o uguale” (<span>`<=`</span>) sono ovvi.\n",
    "\n",
    "Infine, possiamo usare gli operatori logici “<span>`and`</span>” e “<span>`or`</span>” per combinare diverse condizioni:"
   ]
  },
  {
   "cell_type": "code",
   "execution_count": null,
   "metadata": {},
   "outputs": [],
   "source": [
    "a = 5\n",
    "b = 21\n",
    "if a > 10 and b > 20:\n",
    "    print(\"A is greater than 10 and b is greater than 20\")\n",
    "\n",
    "a = 5\n",
    "b = -21\n",
    "if a > 10 or b < -5:\n",
    "    print(\"Either a is greater than 10, or \"\n",
    "          \"b is smaller than -5, or both.\")"
   ]
  },
  {
   "cell_type": "markdown",
   "metadata": {},
   "source": [
    "Usate il prompt di Python per sperimentare con questi operatori di confronto e con le espressioni logiche. Per esempio:"
   ]
  },
  {
   "cell_type": "code",
   "execution_count": null,
   "metadata": {},
   "outputs": [],
   "source": [
    "T = -12.5\n",
    "if T < -20:\n",
    "    print(\"very cold\")\n",
    "\n",
    "if T < -10:\n",
    "    print(\"quite cold\")"
   ]
  },
  {
   "cell_type": "code",
   "execution_count": null,
   "metadata": {},
   "outputs": [],
   "source": [
    "T < -20"
   ]
  },
  {
   "cell_type": "code",
   "execution_count": null,
   "metadata": {},
   "outputs": [],
   "source": [
    "T < -10"
   ]
  },
  {
   "cell_type": "markdown",
   "metadata": {},
   "source": [
    "Come filtrare una lista con <span>`if`</span>\n",
    "----------------------------------------------\n",
    "\n",
    "Spesso è necessario estrarre da una lista gli elementi che soddisfano una certa condizione. Lo si può ottenere con un `if` *all'interno* della definizione della lista:"
   ]
  },
  {
   "cell_type": "code",
   "execution_count": null,
   "metadata": {},
   "outputs": [],
   "source": [
    "my_list = list(range(5,20))\n",
    "my_list"
   ]
  },
  {
   "cell_type": "markdown",
   "metadata": {},
   "source": [
    "Per selezionare solo gli elementi divisibile per 3:"
   ]
  },
  {
   "cell_type": "code",
   "execution_count": null,
   "metadata": {},
   "outputs": [],
   "source": [
    "[i for i in my_list if i % 3 == 0]"
   ]
  },
  {
   "cell_type": "markdown",
   "metadata": {},
   "source": [
    "Per selezionare solo gli elementi pari, maggiori di 6 e minori di 17:"
   ]
  },
  {
   "cell_type": "code",
   "execution_count": null,
   "metadata": {},
   "outputs": [],
   "source": [
    "[i for i in my_list if i % 2 == 0 and i > 6 and i < 17]"
   ]
  },
  {
   "cell_type": "markdown",
   "metadata": {},
   "source": [
    "È possibile applicare un filtro direttamente quando si crea una lista:"
   ]
  },
  {
   "cell_type": "code",
   "execution_count": 2,
   "metadata": {},
   "outputs": [
    {
     "data": {
      "text/plain": [
       "[0, 4, 16, 36, 64, 100, 144, 196, 256, 324, 400]"
      ]
     },
     "execution_count": 2,
     "metadata": {},
     "output_type": "execute_result"
    }
   ],
   "source": [
    "my_list = [i**2 for i in range(21) if i%2 == 0]\n",
    "my_list"
   ]
  },
  {
   "cell_type": "markdown",
   "metadata": {},
   "source": [
    "La keyword `in` serve anche a etstare se un oggetto è presente in una lista/stringa/ntupla:"
   ]
  },
  {
   "cell_type": "code",
   "execution_count": 1,
   "metadata": {},
   "outputs": [
    {
     "data": {
      "text/plain": [
       "True"
      ]
     },
     "execution_count": 1,
     "metadata": {},
     "output_type": "execute_result"
    }
   ],
   "source": [
    "a = 3\n",
    "my_list = [5,3,-1,'pie']\n",
    "a in my_list"
   ]
  },
  {
   "cell_type": "code",
   "execution_count": 2,
   "metadata": {},
   "outputs": [
    {
     "data": {
      "text/plain": [
       "False"
      ]
     },
     "execution_count": 2,
     "metadata": {},
     "output_type": "execute_result"
    }
   ],
   "source": [
    "'pippo' in my_list"
   ]
  },
  {
   "cell_type": "markdown",
   "metadata": {},
   "source": [
    "#### Accedere in modo sicuro agli elementi di una lista. `get` artigianale."
   ]
  },
  {
   "cell_type": "code",
   "execution_count": null,
   "metadata": {},
   "outputs": [],
   "source": [
    "l = [1,2,3]\n",
    "l[10] if 10 < len(l) else 'fail'"
   ]
  },
  {
   "cell_type": "markdown",
   "metadata": {},
   "source": [
    "Interrompere un loop\n",
    "---------------------"
   ]
  },
  {
   "cell_type": "markdown",
   "metadata": {},
   "source": [
    "Se è necessario interrompere il loop prima della sua conclusione naturale, si può usare il comando `break` che termina le operazioni all'interno del loop e passa ad eseguire il primo comando successivo al loop. Un paio di esempi:"
   ]
  },
  {
   "cell_type": "code",
   "execution_count": null,
   "metadata": {},
   "outputs": [],
   "source": [
    "for letter in 'Python':     # Primo Esempio\n",
    "   if letter == 'h':\n",
    "      break\n",
    "   print ('Current Letter :', letter)"
   ]
  },
  {
   "cell_type": "code",
   "execution_count": null,
   "metadata": {},
   "outputs": [],
   "source": [
    "  \n",
    "var = 10                    # Secondo Esempio\n",
    "while var > 0:              \n",
    "   print ('Current variable value :', var)\n",
    "   var = var -1\n",
    "   if var == 5:\n",
    "      break\n",
    "\n",
    "print (\"Good bye!\")"
   ]
  },
  {
   "cell_type": "markdown",
   "metadata": {},
   "source": [
    "Se è necessario interrompere l'esecuzione di uno dei passi del loop (per esempio perchè uno dei dati non è valido) e passare al caso successivo, si può usare il comando `continue`. Un esempio:"
   ]
  },
  {
   "cell_type": "code",
   "execution_count": null,
   "metadata": {},
   "outputs": [],
   "source": [
    "for letter in 'Python':\n",
    "   if letter == 'h':\n",
    "      continue\n",
    "   print ('Current Letter :', letter)\n"
   ]
  },
  {
   "cell_type": "code",
   "execution_count": null,
   "metadata": {},
   "outputs": [],
   "source": []
  }
 ],
 "metadata": {
  "hide_input": false,
  "kernelspec": {
   "display_name": "Python 3",
   "language": "python",
   "name": "python3"
  },
  "language_info": {
   "codemirror_mode": {
    "name": "ipython",
    "version": 3
   },
   "file_extension": ".py",
   "mimetype": "text/x-python",
   "name": "python",
   "nbconvert_exporter": "python",
   "pygments_lexer": "ipython3",
   "version": "3.7.3"
  },
  "toc": {
   "base_numbering": 1,
   "nav_menu": {},
   "number_sections": true,
   "sideBar": true,
   "skip_h1_title": true,
   "title_cell": "Table of Contents",
   "title_sidebar": "Contents",
   "toc_cell": false,
   "toc_position": {},
   "toc_section_display": true,
   "toc_window_display": false
  },
  "varInspector": {
   "cols": {
    "lenName": 16,
    "lenType": 16,
    "lenVar": 40
   },
   "kernels_config": {
    "python": {
     "delete_cmd_postfix": "",
     "delete_cmd_prefix": "del ",
     "library": "var_list.py",
     "varRefreshCmd": "print(var_dic_list())"
    },
    "r": {
     "delete_cmd_postfix": ") ",
     "delete_cmd_prefix": "rm(",
     "library": "var_list.r",
     "varRefreshCmd": "cat(var_dic_list()) "
    }
   },
   "types_to_exclude": [
    "module",
    "function",
    "builtin_function_or_method",
    "instance",
    "_Feature"
   ],
   "window_display": false
  }
 },
 "nbformat": 4,
 "nbformat_minor": 4
}
