{
 "cells": [
  {
   "cell_type": "markdown",
   "metadata": {},
   "source": [
    "Simulazione del passaggio di fotoni attraverso un materiale.\n",
    "-----------------------------------------------------------\n",
    "\n",
    "Usiamo l'attenuazione esponenziale di un fascio di fotoni e la sezione d'urto di Thomson per descrivere lo scattering di un fotone su un elettrone.<BR>\n",
    "Da\n",
    "    $$ N(z) = N_0\\,e^{-\\frac{z}{\\lambda}}$$\n",
    "si ricava che il numero di fotoni per unità di lunghezza che interagiscono fra $z_0$ e $z_0 +\\Delta$ è\n",
    "     $$ \\lim_{\\Delta\\rightarrow 0} \\frac{N(z_0)-N(z_0+\\Delta)}{\\Delta} = \\frac{d\\,N}{d\\,z} {\\bigg \\vert}_{z_0}.$$\n",
    "Di conseguenza, la densità di probabilità che un fotone interagisca nel punto di coordinata $x$\n",
    "nel materiale è\n",
    "    $$P(z) = \\frac{1}{\\lambda}\\,e^{-\\frac{z}{\\lambda}}.$$\n",
    "Un valore ragionevole per fotoni di 100 keV in un materiale di densità 1.8 $g/cm^3$ (osso) è $\\lambda = 2 \\,cm$.<BR>\n",
    "La densità di probabilità che un fotone che si propaga lungo l'asse $z$ sia deflesso in una direzione caratterizzata dagli angoli $\\theta,\\,\\phi$ è data da $$Q(\\cos\\theta,\\phi) = \\frac{3}{16\\,\\pi}\\,(1+\\cos^2\\theta).$$\n",
    "    <P>\n",
    "Se il materiale si estende per 10 $cm\\,=\\,5\\,\\lambda$, qual'è la probabilità che un fotone fuoriesca dalla\n",
    "        lastra con un angolo $\\theta_f$? Quale frazioni dei fotoni iniziali passerà la lastra?"
   ]
  },
  {
   "cell_type": "markdown",
   "metadata": {},
   "source": [
    "Si procede come segue:<BR>\n",
    "\n",
    "1) Inizialmente il fotone si trova nel punto $X_0\\,=\\,(x,y,z)\\,=\\,(0,0,0)$ e si propaga in direzione $z$<BR>\n",
    "2) generiamo una distanza $d_0$ usando la distribuzione $N(z)$<BR>\n",
    "   \n",
    "Assumiamo che, alla prima interazione, il fotone si trovi nel punto $X_1\\,=\\,(0,0,d_0)$.\n",
    "    \n",
    "3) generiamo dei valori $d1,\\,\\cos\\theta_1,\\,\\phi_1$ secondo le distribuzion1 $N(z),\\,Q(\\cos\\theta,\\phi)$.\n",
    "    Il fotone si sposta nel punto $X_2\\,=\\,X_1 + d1*(\\sin\\theta\\,\\cos\\phi,\\sin\\theta\\,\\sin\\phi, \\cos\\theta)$.<BR>\n",
    "        \n",
    "\n",
    "4) Ripetiamo la procedura partendo dai nuovi valori: generiamo $d_2,\\cos\\theta_2,\\phi_2$; calcoliamo il punto \n",
    "    $X_2\\,=\\,(x_2,y_2,y_2)$ in cui il fotone avrà la terza interazione.\n",
    "    \n",
    "5) Se $y_2 > 10\\,cm$ il fotone sarà uscito dalla lastra. Ne calcolo l'angolo  $\\theta_f$ e lo salvo in un file.<BR> &nbsp;&nbsp;&nbsp;&nbsp; Se $y_2 < 10\\,cm$ sottopongo il fotone ad una ulteriore interazione.\n",
    "   \n"
   ]
  },
  {
   "cell_type": "markdown",
   "metadata": {},
   "source": [
    "#### Una figura vale più di mille parole:"
   ]
  },
  {
   "cell_type": "code",
   "execution_count": 8,
   "metadata": {},
   "outputs": [
    {
     "data": {
      "image/png": "[encoded data removed]",
      "text/plain": [
       "<Figure size 792x360 with 1 Axes>"
      ]
     },
     "metadata": {
      "needs_background": "light"
     },
     "output_type": "display_data"
    }
   ],
   "source": [
    "import matplotlib.pyplot as plt\n",
    "from matplotlib import patches\n",
    "\n",
    "fig, ax = plt.subplots(figsize=(11,5))\n",
    "ax.set_xlim(-1,14)\n",
    "ax.set_ylim(-5,5)\n",
    "ax.plot([-1,12],[0,0])\n",
    "ax.plot([0,0],[-5,5],c='0',label='estremi della lastra')\n",
    "ax.plot([10,10],[-5,5],c='0')\n",
    "\n",
    "ax.plot([0,2],[0,0],c='r',label='percorso del fotone')\n",
    "arc1 = patches.Arc((2.,0),2.5,2.5,theta1=0.,theta2=18.,color='0')\n",
    "ax.add_patch(arc1);\n",
    "\n",
    "ax.plot([2.,5.5],[0,1],c='r')\n",
    "ax.plot([5.5,9],[1,2],linestyle='--',c='0')\n",
    "arc2 = patches.Arc((5.5,1),2,2,angle=20.,theta1=-50.,theta2=0.,color='0')\n",
    "ax.add_patch(arc2)\n",
    "\n",
    "ax.plot([5.5,8.],[1.,-0.5],c='r')\n",
    "ax.plot([8.,10.5],[-0.5,-2.0],linestyle='--',color='0')\n",
    "\n",
    "ax.plot([8.,13],[-0.5,-1.5],c='r')\n",
    "arc3 = patches.Arc((8.,-0.5),2.5,2.5,angle=-33.,theta1=0.,theta2=22.,color='0')\n",
    "ax.add_patch(arc3);\n",
    "\n",
    "plt.text(0.9, .3, r'$d_0$', {'color': 'k', 'fontsize': 14})\n",
    "plt.text(3.6, 1., r'$d_1$', {'color': 'k', 'fontsize': 14})\n",
    "plt.text(6.8, -0.7, r'$d_2$', {'color': 'k', 'fontsize': 14})\n",
    "plt.text(10.2, -0.7, r'$d_3$', {'color': 'k', 'fontsize': 14})\n",
    "\n",
    "plt.text(3.9, 0.11, r'$\\theta_1$', {'color': 'k', 'fontsize': 14})\n",
    "plt.text(6.6, 0.6, r'$\\theta_2$', {'color': 'k', 'fontsize': 14})\n",
    "plt.text(9.5, -1.35, r'$\\theta_3$', {'color': 'k', 'fontsize': 14})\n",
    "ax.legend( fontsize= 14);"
   ]
  },
  {
   "cell_type": "code",
   "execution_count": 1,
   "metadata": {},
   "outputs": [],
   "source": [
    "import numpy as np\n",
    "\n",
    "def new_step(beta):\n",
    "    '''\n",
    "    Generates randomly a distance and two angles:\n",
    "    beta is the parameter in P(d)=exp(-d/beta)/beta;\n",
    "    the distribution in cos(theta) is f=3/8*(1+cos(theta)**2));\n",
    "    the distribution for phi is uniform in (0,2*pi).\n",
    "    '''\n",
    "    d=np.array([0,0,np.random.exponential(beta)])\n",
    "    ctheta=generate_f(f_Thomson,-1,1,0.75)\n",
    "    phi=np.random.uniform(0,2*np.pi)\n",
    "    return d,ctheta,phi\n",
    "\n",
    "\n",
    "def generate_f(f,a,b,max):\n",
    "    '''\n",
    "    Generate random points distributed according to an input distribution\n",
    "    Input:\n",
    "    f: the probability distribution\n",
    "    a,b: extrema of the range for the desired random number\n",
    "    max: a real number such that f(x) < max for each x\n",
    "    Returns:\n",
    "    ranval: random number\n",
    "    '''\n",
    "    not_found=True\n",
    "    while not_found:\n",
    "        x=np.random.uniform(a,b)\n",
    "        y=np.random.uniform(0,max)\n",
    "        if f(x)>y:\n",
    "            not_found=False\n",
    "    \n",
    "    return x\n",
    "    \n",
    "def f_Thomson(x):\n",
    "    val=3./8.*(1+x**2)\n",
    "    \n",
    "    return val    \n",
    "\n",
    "def Rx_M(c):\n",
    "    \"\"\"\n",
    "    Rotation matrix of an angle defined by cos(theta) around the x-axis\n",
    "    \"\"\"\n",
    "    # Trusting -1 =< c =< 1\n",
    "    s = np.sqrt(1.-c**2)\n",
    "    R = np.array(\n",
    "        [[1, 0, 0], \n",
    "         [0, c, -s], \n",
    "         [0, s, c]]\n",
    "    )\n",
    "    return R\n",
    "\n",
    "def Rz_M(phi):\n",
    "    \"\"\"\n",
    "    Rotation matrix of an angle phi around the z-axis\n",
    "    \"\"\"\n",
    "    c = np.cos(phi)\n",
    "    s = np.sin(phi)\n",
    "    R = np.array(\n",
    "        [[c, -s, 0], \n",
    "         [s, c, 0],\n",
    "         [0, 0, 1]]\n",
    "    )\n",
    "    return R\n",
    "\n",
    "def R_M(c,phi):\n",
    "    return np.dot(Rz_M(phi),Rx_M(c))\n"
   ]
  },
  {
   "cell_type": "markdown",
   "metadata": {},
   "source": [
    "#### Seguiamo un fotone per qualche urto\n",
    "\n",
    "Teniamo in memoria gli ultimi due punti per poter calcolare la direzione del fotone."
   ]
  },
  {
   "cell_type": "code",
   "execution_count": 11,
   "metadata": {},
   "outputs": [
    {
     "name": "stdout",
     "output_type": "stream",
     "text": [
      "[0.         0.         1.91913244]\n"
     ]
    }
   ],
   "source": [
    "beta=2. # distances are mesured in cm\n",
    "d=np.random.exponential(beta)\n",
    "Xpos=np.array([0,0,d])\n",
    "Xpos_old=np.array([0,0,0])\n",
    "print(Xpos)"
   ]
  },
  {
   "cell_type": "code",
   "execution_count": 12,
   "metadata": {},
   "outputs": [
    {
     "name": "stdout",
     "output_type": "stream",
     "text": [
      "[[-0.49313338  0.40382697  0.77054737]\n",
      " [ 0.86995372  0.22890937  0.43678488]\n",
      " [ 0.          0.88573375 -0.46419363]]\n",
      "[0.65851646 0.37328014 1.52242854]\n"
     ]
    }
   ],
   "source": [
    "# interaction 1\n",
    "d,ctheta,phi=new_step(beta)\n",
    "#print(d,ctheta,phi)\n",
    "mat=R_M(ctheta,phi)\n",
    "print(mat)\n",
    "delta_X=np.dot(mat,d)\n",
    "#print(delta_X)\n",
    "Xpos_old=Xpos\n",
    "Xpos+=delta_X\n",
    "print(Xpos)"
   ]
  },
  {
   "cell_type": "code",
   "execution_count": 13,
   "metadata": {},
   "outputs": [
    {
     "name": "stdout",
     "output_type": "stream",
     "text": [
      "[0.91367852 0.73011629 1.74969682]\n"
     ]
    }
   ],
   "source": [
    "# interaction 2\n",
    "d,ctheta,phi=new_step(beta)\n",
    "#print(d,ctheta,phi)\n",
    "mat=np.matmul(R_M(ctheta,phi),mat) # accumulate rotations\n",
    "#print(mat)\n",
    "delta_X=np.dot(mat,d)\n",
    "#print(delta_X)\n",
    "Xpos_old=Xpos\n",
    "Xpos+=delta_X\n",
    "print(Xpos)"
   ]
  },
  {
   "cell_type": "code",
   "execution_count": 14,
   "metadata": {},
   "outputs": [
    {
     "name": "stdout",
     "output_type": "stream",
     "text": [
      "[3.41810947 0.58073309 2.3380425 ]\n"
     ]
    }
   ],
   "source": [
    "# interaction 3\n",
    "d,ctheta,phi=new_step(beta)\n",
    "#print(d,ctheta,phi)\n",
    "mat=np.matmul(R_M(ctheta,phi),mat) # accumulate rotations\n",
    "#print(mat)\n",
    "delta_X=np.dot(mat,d)\n",
    "#print(delta_X)\n",
    "Xpos_old=Xpos\n",
    "Xpos+=delta_X\n",
    "print(Xpos)"
   ]
  },
  {
   "cell_type": "code",
   "execution_count": 15,
   "metadata": {},
   "outputs": [
    {
     "name": "stdout",
     "output_type": "stream",
     "text": [
      "[3.85432507 0.03890282 2.46219617]\n"
     ]
    }
   ],
   "source": [
    "# interaction 4\n",
    "d,ctheta,phi=new_step(beta)\n",
    "#print(d,ctheta,phi)\n",
    "mat=np.matmul(R_M(ctheta,phi),mat) # accumulate rotations\n",
    "#print(mat)\n",
    "delta_X=np.dot(mat,d)\n",
    "#print(delta_X)\n",
    "Xpos_old=Xpos\n",
    "Xpos+=delta_X\n",
    "print(Xpos)"
   ]
  },
  {
   "cell_type": "markdown",
   "metadata": {},
   "source": [
    "Programma di simulazione\n",
    "------------------------"
   ]
  },
  {
   "cell_type": "code",
   "execution_count": 46,
   "metadata": {},
   "outputs": [],
   "source": [
    "import matplotlib.pyplot as plt\n",
    "\n",
    "def MC_gamma(ngamma,zmax,lam,nbin):\n",
    "    \n",
    "    '''\n",
    "    Input:\n",
    "    ngamma: numero di fotoni da simulare.\n",
    "    zmax: spessore della lastra.\n",
    "    lam: lunghezza caratteristica del materiale. Entra nella legge di decadimento del fascio.\n",
    "    nbin: numero di bin della distribuzione in cos(theta) dei fotoni che escono dalla lastra.\n",
    "\n",
    "    Output:\n",
    "    dist: distribuzione in cos(theta) dei fotoni che escono dalla lastra.\n",
    "    nout: numero di fotoni che escono dalla lastra.\n",
    "    '''\n",
    "    \n",
    "# Inizializzazione\n",
    "    dist=[]\n",
    "    nout=0\n",
    "#    print('delc:',delc)\n",
    "# Plot di controllo\n",
    "    dist_c=[]\n",
    "    dist_phi=[]\n",
    "    dist_dz=[]\n",
    "    dist_X1=[]\n",
    "    \n",
    "    for i in range(ngamma): \n",
    "# primo punto\n",
    "        mat=np.identity(3)\n",
    "        d=np.random.exponential(lam)\n",
    "        Xpos=np.array([0,0,d])\n",
    "        Xpos_old=np.array([0,0,0])\n",
    "        delta_X=Xpos     # Necessario perchè uso delta_X per calcolare il coseno del fotone finale\n",
    "#        print(Xpos)\n",
    "# Interazioni successive. Stop quando il fotone esce dalla lastra.    \n",
    "        while 0 < Xpos[2] < zmax:\n",
    "            d,ctheta,phi=new_step(lam)\n",
    "# Plot di controllo\n",
    "            dist_dz.append(d[2])\n",
    "            dist_c.append(ctheta)\n",
    "            dist_phi.append(phi)\n",
    "            \n",
    "            mat=np.dot(R_M(ctheta,phi),mat) # accumulate rotations\n",
    "            delta_X=np.dot(mat,d)\n",
    "            Xpos_old=np.copy(Xpos)\n",
    "# Xpos_old=Xpos non funzionerebbe. Perchè?\n",
    "# Neanche  Xpos_old=Xpos[:] che invece va bene per le liste.\n",
    "            Xpos+=delta_X\n",
    "#            print(Xpos)\n",
    "# Plot di controllo\n",
    "            dist_X1.append(Xpos[1])\n",
    "\n",
    "        if Xpos[2] > zmax:\n",
    "            nout+=1\n",
    "            ct= delta_X[2]/np.sqrt(np.sum(delta_X*delta_X))\n",
    "            dist.append(ct)\n",
    "\n",
    "# Plot di controllo\n",
    "# cos(theta)\n",
    "    nb =20\n",
    "    xrange=(-1,1)\n",
    "    fig, ax = plt.subplots()\n",
    "    ax.set_title('Distribuzione di cos(theta) generato')\n",
    "    ax.set_xlabel('cos(theta)')\n",
    "    ax.set_ylabel('Numero eventi')\n",
    "    nevent, bins, patches = ax.hist(dist_c, nb, range=xrange) \n",
    "# phi\n",
    "    nb =20\n",
    "    xrange=(0,2.*np.pi)\n",
    "    fig, ax = plt.subplots()\n",
    "    ax.set_title('Distribuzione di phi generato')\n",
    "    ax.set_xlabel('phi')\n",
    "    ax.set_ylabel('Numero eventi')\n",
    "    nevent, bins, patches = ax.hist(dist_phi, nb, range=xrange) \n",
    "# d[2]\n",
    "    nb =20\n",
    "    xrange=(0,10)\n",
    "    fig, ax = plt.subplots()\n",
    "    ax.set_yscale('log')\n",
    "    ax.set_title('Distribuzione di d(z)')\n",
    "    ax.set_xlabel('d(z)')\n",
    "    ax.set_ylabel('Numero eventi')\n",
    "    nevent, bins, patches = ax.hist(dist_dz, nb, range=xrange)\n",
    "# X[1]\n",
    "    nb =20\n",
    "    xrange=(-10,10)\n",
    "    fig, ax = plt.subplots()\n",
    "    ax.set_title('Distribuzione di Xpos(y)')\n",
    "    ax.set_xlabel('Xpos(y)')\n",
    "    ax.set_ylabel('Numero eventi')\n",
    "    nevent, bins, patches = ax.hist(dist_X1, nb, range=xrange)\n",
    "    \n",
    "    return nout,dist"
   ]
  },
  {
   "cell_type": "code",
   "execution_count": 47,
   "metadata": {},
   "outputs": [
    {
     "data": {
      "image/png": "[encoded data removed]",
      "text/plain": [
       "<Figure size 432x288 with 1 Axes>"
      ]
     },
     "metadata": {
      "needs_background": "light"
     },
     "output_type": "display_data"
    },
    {
     "data": {
      "image/png": "[encoded data removed]",
      "text/plain": [
       "<Figure size 432x288 with 1 Axes>"
      ]
     },
     "metadata": {
      "needs_background": "light"
     },
     "output_type": "display_data"
    },
    {
     "data": {
      "image/png": "[encoded data removed]",
      "text/plain": [
       "<Figure size 432x288 with 1 Axes>"
      ]
     },
     "metadata": {
      "needs_background": "light"
     },
     "output_type": "display_data"
    },
    {
     "data": {
      "image/png": "[encoded data removed]",
      "text/plain": [
       "<Figure size 432x288 with 1 Axes>"
      ]
     },
     "metadata": {
      "needs_background": "light"
     },
     "output_type": "display_data"
    },
    {
     "data": {
      "image/png": "[encoded data removed]",
      "text/plain": [
       "<Figure size 792x576 with 1 Axes>"
      ]
     },
     "metadata": {
      "needs_background": "light"
     },
     "output_type": "display_data"
    }
   ],
   "source": [
    "ngamma=10000\n",
    "zmax=5\n",
    "lam=2\n",
    "nbin=20\n",
    "\n",
    "nout,dist=MC_gamma(ngamma,zmax,lam,nbin)\n",
    "\n",
    "# Plot\n",
    "nb =20\n",
    "xrange=(-1,1)\n",
    "fig, ax = plt.subplots(figsize=(11,8))\n",
    "ax.set_title('Distribuzione finale di cos(theta) dei fotoni')\n",
    "ax.set_xlabel('cos(theta)')\n",
    "ax.set_ylabel('Numero eventi')\n",
    "nevent, bins, patches = ax.hist(dist, nb, range=xrange) \n"
   ]
  },
  {
   "cell_type": "code",
   "execution_count": null,
   "metadata": {},
   "outputs": [],
   "source": []
  }
 ],
 "metadata": {
  "kernelspec": {
   "display_name": "Python 3",
   "language": "python",
   "name": "python3"
  },
  "language_info": {
   "codemirror_mode": {
    "name": "ipython",
    "version": 3
   },
   "file_extension": ".py",
   "mimetype": "text/x-python",
   "name": "python",
   "nbconvert_exporter": "python",
   "pygments_lexer": "ipython3",
   "version": "3.7.3"
  }
 },
 "nbformat": 4,
 "nbformat_minor": 4
}
