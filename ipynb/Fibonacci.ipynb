{
 "cells": [
  {
   "cell_type": "markdown",
   "metadata": {},
   "source": [
    "I numeri di Fibonacci,\n",
    "=======================\n",
    "ovvero come soluzioni diverse possono richiedere tempi di esecuzioni molto differenti\n",
    "-------------------------\n",
    "\n",
    "I numeri di Fibonacci sono definiti da:\n",
    "$$ F(0) = 0,\\, F(1) = 1,\\, F(n) = F(n-1) + F(n-2) \\quad per\\ n > 1$$"
   ]
  },
  {
   "cell_type": "markdown",
   "metadata": {},
   "source": [
    "In 1202, Leonardo da Pisa (comunemente noto come Fibonacci. Cercatelo su Wikipedia. Ha un ruolo fondamentale per l'Europa medioevale.) studiò un problema relativo alla riproduzione dei conigli. Fece le seguenti assunzioni semplificatorie:\n",
    "\n",
    "La popolazione inizia il primo mese con una coppia di conigli neonati. I conigli raggiungono l'età riproduttiva dopo un mese.\n",
    "Ogni mese, ciascun paio di conigli in età riproduttiva si accoppia.\n",
    "Esattamente dopo un mese dall'accoppiamento, nascono un coniglio maschio e una femmina.\n",
    "I conigli non muoiono mai né smettono di riprodursi.\n",
    "Fibonacci voleva calcolare quante coppie di conigli sarebbero state presenti all'n-esimo mese. Il secondo mese, la coppia iniziale raggiunge l'età riproduttiva e si accoppia. Nel terzo mese, nasce una coppia di conigli e sono presenti due coppie; la coppia iniziale torna ad accoppiarsi. Al quarto mese, nasce un'altra coppia di conigli\n",
    "al paio iniziale, mentre il secondo paio raggiunge l'età riproduttiva e si accoppia. Abbiamo un totale di tre coppie. Dopo un anno, ci sono 144 coppie.\n",
    "\n",
    "Benchè l'assunzione di Fibonacci che i conigli siano immortali sia irrealistica, il suo modello descrive piuttosto bene la riproduzione di una specie in un ambiente privo di redatori: quando i conigli europei furono introdotti in  Australia a metà del 19-esimo secolo, non c'era alcun predatore in grado di ridurne seriamente la popolazione. Nello spazio di 50 anni, i conigli avevano completamente eliminato diverse specie di piante in tutto il continente, modificando l'ecosistema australiano in modo irreversibile e trasformando una gran parte delle terre erbose nelle aree erose, praticamente inabitabili, che costituiscono l'odierno Outback. In questo esempio useremo la semplice idea di contare coppie di conigli per introdurre la tecnica computazionale di costruire soluzioni complesse a partire da elementi più piccoli.\n",
    "\n",
    "Una relazione di ricorrenza è un modo di definire gli elementi di una sequenza a partire dal volore dei termini precedenti. Nel caso dei conigli di Fibonacci, in ogni mese ci saranno tutti i conigli che erano vivi il mese precedente più i neonati. L'osservazione chiave è che il numero di coppie di neonati è uguale al numero di coppie che erano presenti due mesi prima e che si sono accoppiati il mese precedente. Di conseguenza, se $F(n)$ rappresenta il numero di coppie vive nel mese n-esimo, otteniamo la sequenza di Fibonacci calcolando $F(n)$ attraverso la relazione di ricorrenza $ F(0) = 0,\\, F(1) = 1,\\, F(n) = F(n-1) + F(n-2)$ (con $F(1)\\,=\\,F(2)\\,=\\,1$ per iniziare la sequenza). Benchè la sequenza porti il nome di Fibonacci, era già nota ai matematici indiani più di duemila anni fa."
   ]
  },
  {
   "cell_type": "markdown",
   "metadata": {},
   "source": [
    "<img src=\"../Images/FibonacciMerz.jpg\" width=\"600\" align=\"center\"/>\n",
    "Mario Merz"
   ]
  },
  {
   "cell_type": "markdown",
   "metadata": {},
   "source": [
    "### Soluzione recursiva\n",
    "Sfrutta la possibilità di una funzione di chiamare se stessa. Lenta: calcola più volte gli stessi valori.\n",
    "Restituisce un solo $F(n)$."
   ]
  },
  {
   "cell_type": "code",
   "execution_count": 6,
   "metadata": {},
   "outputs": [
    {
     "data": {
      "text/plain": [
       "[0, 3, 6, 9, 12, 15, 18]"
      ]
     },
     "execution_count": 6,
     "metadata": {},
     "output_type": "execute_result"
    }
   ],
   "source": [
    "def fib_recur(n):\n",
    "    if n == 0:\n",
    "        return 0\n",
    "    elif n == 1:\n",
    "        return 1\n",
    "    else:\n",
    "        return fib_recur(n-1) + fib_recur(n-2)\n",
    "# Per avere la lista dei primi 19 numeri di Fibonacci partiamo da:\n",
    "list1 = [x for x in range(20)]\n",
    "# Per avere gli **indici** dei numeri di Fibonacci pari nei primi 19 numeri:\n",
    "list2 = [i for i in list1 if fib_recur(i) % 2 == 0]\n",
    "list2"
   ]
  },
  {
   "cell_type": "markdown",
   "metadata": {},
   "source": [
    "Per valutare il tempo richiesto per trovare la risposta possiamo usare il comando \"magico\" `%timeit`."
   ]
  },
  {
   "cell_type": "code",
   "execution_count": 5,
   "metadata": {},
   "outputs": [
    {
     "name": "stdout",
     "output_type": "stream",
     "text": [
      "4.95 ms ± 63.7 µs per loop (mean ± std. dev. of 7 runs, 100 loops each)\n"
     ]
    }
   ],
   "source": [
    "%timeit list2 = [i for i in list1 if fib_recur(i) % 2 == 0]    "
   ]
  },
  {
   "cell_type": "markdown",
   "metadata": {},
   "source": [
    "Si può ottenere il risultato anche producendo tutta la lista e poi filtrandola:"
   ]
  },
  {
   "cell_type": "code",
   "execution_count": 8,
   "metadata": {},
   "outputs": [
    {
     "data": {
      "text/plain": [
       "[0, 2, 8, 34, 144, 610, 2584]"
      ]
     },
     "execution_count": 8,
     "metadata": {},
     "output_type": "execute_result"
    }
   ],
   "source": [
    "list2_new = [fib_recur(i) for i in list1]\n",
    "list2_new = [i for i in list2_new if i% 2 == 0]\n",
    "list2_new"
   ]
  },
  {
   "cell_type": "markdown",
   "metadata": {},
   "source": [
    "### Soluzione costruendo la lista degli $F(n)$ fino al valore cercato \n",
    "Calcola ciascun valore una sola volta. Restituisce tutta la lista fino a $F(n)$."
   ]
  },
  {
   "cell_type": "code",
   "execution_count": 2,
   "metadata": {},
   "outputs": [
    {
     "name": "stdout",
     "output_type": "stream",
     "text": [
      "[0, 1, 1, 2, 3, 5, 8, 13, 21, 34, 55, 89, 144, 233, 377, 610, 987, 1597, 2584, 4181, 6765]\n"
     ]
    }
   ],
   "source": [
    "def fib_to(n):\n",
    "     fibs = [0, 1]\n",
    "     for i in range(2, n+1):\n",
    "         fibs.append(fibs[-1] + fibs[-2])\n",
    "     return fibs\n",
    "list4 = fib_to(20)\n",
    "print(list4)"
   ]
  },
  {
   "cell_type": "markdown",
   "metadata": {},
   "source": [
    "Tempo richiesto:"
   ]
  },
  {
   "cell_type": "code",
   "execution_count": 3,
   "metadata": {},
   "outputs": [
    {
     "name": "stdout",
     "output_type": "stream",
     "text": [
      "3.05 µs ± 56.1 ns per loop (mean ± std. dev. of 7 runs, 100000 loops each)\n"
     ]
    }
   ],
   "source": [
    "%timeit list4 = fib_to(20)"
   ]
  },
  {
   "cell_type": "code",
   "execution_count": 4,
   "metadata": {},
   "outputs": [
    {
     "name": "stdout",
     "output_type": "stream",
     "text": [
      "[0, 2, 8, 34, 144, 610, 2584]\n"
     ]
    }
   ],
   "source": [
    "# Per avere i numeri di Fibonacci pari nei primi 19 numeri:\n",
    "print([i for i in list4 if i % 2 == 0])    "
   ]
  },
  {
   "cell_type": "markdown",
   "metadata": {},
   "source": [
    "Ricordiamo che il comando `enumerate` restituisce (sotto forma di iteratore) sia l'indice che il valore degli elementi di una lista."
   ]
  },
  {
   "cell_type": "code",
   "execution_count": 5,
   "metadata": {},
   "outputs": [
    {
     "data": {
      "text/plain": [
       "[(0, 0),\n",
       " (1, 1),\n",
       " (2, 1),\n",
       " (3, 2),\n",
       " (4, 3),\n",
       " (5, 5),\n",
       " (6, 8),\n",
       " (7, 13),\n",
       " (8, 21),\n",
       " (9, 34),\n",
       " (10, 55),\n",
       " (11, 89),\n",
       " (12, 144),\n",
       " (13, 233),\n",
       " (14, 377),\n",
       " (15, 610),\n",
       " (16, 987),\n",
       " (17, 1597),\n",
       " (18, 2584),\n",
       " (19, 4181),\n",
       " (20, 6765)]"
      ]
     },
     "execution_count": 5,
     "metadata": {},
     "output_type": "execute_result"
    }
   ],
   "source": [
    "list(enumerate(list4))"
   ]
  },
  {
   "cell_type": "code",
   "execution_count": 7,
   "metadata": {},
   "outputs": [
    {
     "name": "stdout",
     "output_type": "stream",
     "text": [
      "[0, 3, 6, 9, 12, 15, 18]\n"
     ]
    }
   ],
   "source": [
    "# Per avere gli indici dei numeri di Fibonacci pari nei primi 19 numeri:\n",
    "print([t[0] for t in enumerate(list4) if t[1] % 2 == 0])"
   ]
  },
  {
   "cell_type": "markdown",
   "metadata": {},
   "source": [
    "### Soluzione recursiva 2\n",
    "\n",
    "Non calcola tutta la lista."
   ]
  },
  {
   "cell_type": "code",
   "execution_count": 10,
   "metadata": {},
   "outputs": [],
   "source": [
    "def fib_recur_fast(n):\n",
    "     a, b = 0, 1\n",
    "     for i in range(n):\n",
    "         a, b = b, a+b\n",
    "     return a"
   ]
  },
  {
   "cell_type": "markdown",
   "metadata": {},
   "source": [
    "Tempo richiesto per il calcolo del singolo $F(n)$:"
   ]
  },
  {
   "cell_type": "code",
   "execution_count": 11,
   "metadata": {},
   "outputs": [
    {
     "name": "stdout",
     "output_type": "stream",
     "text": [
      "1.32 µs ± 9.65 ns per loop (mean ± std. dev. of 7 runs, 1000000 loops each)\n"
     ]
    }
   ],
   "source": [
    "%timeit fib_recur_fast(20)"
   ]
  },
  {
   "cell_type": "code",
   "execution_count": 12,
   "metadata": {},
   "outputs": [
    {
     "data": {
      "text/plain": [
       "6765"
      ]
     },
     "execution_count": 12,
     "metadata": {},
     "output_type": "execute_result"
    }
   ],
   "source": [
    "fib_recur_fast(20)"
   ]
  },
  {
   "cell_type": "markdown",
   "metadata": {},
   "source": [
    "Per avere tutta la lista e poi filtrarla:"
   ]
  },
  {
   "cell_type": "code",
   "execution_count": 12,
   "metadata": {},
   "outputs": [
    {
     "data": {
      "text/plain": [
       "[0, 2, 8, 34, 144, 610, 2584]"
      ]
     },
     "execution_count": 12,
     "metadata": {},
     "output_type": "execute_result"
    }
   ],
   "source": [
    "list5 = [fib_recur_fast(i) for i in list1]\n",
    "list5 = [i for i in list5 if i% 2 == 0]\n",
    "list5"
   ]
  },
  {
   "cell_type": "markdown",
   "metadata": {},
   "source": [
    "### Soluzione recursiva 3\n",
    "Provate a capire come calcola i numeri di Fibonacci la funzione seguente. Che strutture dati utilizza?\n",
    "Verificate che restituisca la risposta corretta. Valutate se è una soluzione veloce oppure lenta."
   ]
  },
  {
   "cell_type": "code",
   "execution_count": 13,
   "metadata": {},
   "outputs": [],
   "source": [
    "def fib_memo(n, computed = {0: 0, 1: 1}):\n",
    "     if n not in computed:\n",
    "         computed[n] = fib_memo(n-1, computed) + fib_memo(n-2, computed)\n",
    "     return computed[n]"
   ]
  },
  {
   "cell_type": "markdown",
   "metadata": {},
   "source": [
    "#### Problema 1\n",
    "\n",
    "Dati due interi positivi n≤40 e k≤5,\n",
    "scrivete una funzione che restituisca: Il numero totale di coppie di conigli che saranno presenti dopo n mesi, se all'inizio abbiamo una coppia e ogni coppia di conigli in età riproduttiva ( età ≥ 1) produce una cucciolata di k coppie di conigli (invece di una sola)."
   ]
  },
  {
   "cell_type": "code",
   "execution_count": null,
   "metadata": {},
   "outputs": [],
   "source": []
  },
  {
   "cell_type": "markdown",
   "metadata": {},
   "source": [
    "#### Problema 2\n",
    "\n",
    "Modificate la funzione che calcola la relazione di ricorrenza di Fibonacci per adattarla al caso in cui tutti i conigli muoiono dopo un numero fisso m≥0 di mesi."
   ]
  },
  {
   "cell_type": "code",
   "execution_count": null,
   "metadata": {},
   "outputs": [],
   "source": []
  }
 ],
 "metadata": {
  "hide_input": false,
  "kernelspec": {
   "display_name": "Python 3",
   "language": "python",
   "name": "python3"
  },
  "language_info": {
   "codemirror_mode": {
    "name": "ipython",
    "version": 3
   },
   "file_extension": ".py",
   "mimetype": "text/x-python",
   "name": "python",
   "nbconvert_exporter": "python",
   "pygments_lexer": "ipython3",
   "version": "3.7.3"
  },
  "toc": {
   "base_numbering": 1,
   "nav_menu": {},
   "number_sections": true,
   "sideBar": true,
   "skip_h1_title": true,
   "title_cell": "Table of Contents",
   "title_sidebar": "Contents",
   "toc_cell": false,
   "toc_position": {},
   "toc_section_display": true,
   "toc_window_display": false
  },
  "varInspector": {
   "cols": {
    "lenName": 16,
    "lenType": 16,
    "lenVar": 40
   },
   "kernels_config": {
    "python": {
     "delete_cmd_postfix": "",
     "delete_cmd_prefix": "del ",
     "library": "var_list.py",
     "varRefreshCmd": "print(var_dic_list())"
    },
    "r": {
     "delete_cmd_postfix": ") ",
     "delete_cmd_prefix": "rm(",
     "library": "var_list.r",
     "varRefreshCmd": "cat(var_dic_list()) "
    }
   },
   "types_to_exclude": [
    "module",
    "function",
    "builtin_function_or_method",
    "instance",
    "_Feature"
   ],
   "window_display": false
  }
 },
 "nbformat": 4,
 "nbformat_minor": 4
}
