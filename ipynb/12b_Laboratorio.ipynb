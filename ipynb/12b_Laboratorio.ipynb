{
 "cells": [
  {
   "cell_type": "markdown",
   "metadata": {},
   "source": [
    "# Programmare in Python\n",
    "\n",
    "## Laboratorio: Calcolo Simbolico\n"
   ]
  },
  {
   "cell_type": "markdown",
   "metadata": {},
   "source": [
    "__1 - Derivate l'espressione della retta tangente a:\n",
    "$$ f(x) = \\frac{x^2+6x-1}{4x^2-x+3}$$\n",
    "nel punto $x = 1$. Suggerimento: $y(x) = a\\, (x-1) + b$.__"
   ]
  },
  {
   "cell_type": "code",
   "execution_count": null,
   "metadata": {},
   "outputs": [],
   "source": []
  },
  {
   "cell_type": "markdown",
   "metadata": {},
   "source": [
    "__2 - Il teorema fondamentale dell'analisi afferma che l'integrazione e la derivazioni sono una l'operazione inversa dell'altra:__\n",
    "\n",
    "$$\\left( \\frac{d}{dx} \\circ \\int dx \\right) = \\frac{d}{dx} \\int_a^x f(y)\\, dy = f(x)$$\n",
    "\n",
    "$$\\left( \\int dx  \\circ \\frac{d}{dx} \\right) =\\int_a^x \\frac{df(y)}{dy}\\, dy = f(x) + C$$\n",
    "\n",
    "__Verificare il teorema per le funzioni $f_1 = x^3$ e $f_2 = \\cos(x)$.__"
   ]
  },
  {
   "cell_type": "code",
   "execution_count": null,
   "metadata": {},
   "outputs": [],
   "source": []
  },
  {
   "cell_type": "markdown",
   "metadata": {},
   "source": [
    "__3 - Calcolate la derivata prima e la derivata seconda di:__\n",
    "$$ f(x) = \\frac{x^2+6x-1}{4x^2-x+3}$$\n",
    "__Quali sono i punti in cui la funzione $f$ non è definita?__<br>\n",
    "__Trovate eventuali massimi e minimi.__"
   ]
  },
  {
   "cell_type": "code",
   "execution_count": null,
   "metadata": {},
   "outputs": [],
   "source": []
  },
  {
   "cell_type": "markdown",
   "metadata": {},
   "source": [
    "__4 - Create l'espressione:__\n",
    "$$f = x e^{-x} + x (1-x)$$\n",
    "__Valutatela per:__\n",
    "$x = 0, 0.1, 0.2, 0.4, 0.8$"
   ]
  },
  {
   "cell_type": "code",
   "execution_count": null,
   "metadata": {},
   "outputs": [],
   "source": []
  },
  {
   "cell_type": "markdown",
   "metadata": {},
   "source": [
    "__5 - Fattorizzate il polinomio $x^{4} - 6 x^{3} + x^{2} + 24 x + 16$. Poi trovate i suoi zeri.__"
   ]
  },
  {
   "cell_type": "code",
   "execution_count": null,
   "metadata": {},
   "outputs": [],
   "source": []
  },
  {
   "cell_type": "markdown",
   "metadata": {},
   "source": [
    "__6 - Sviluppate in serie fino al terzo ordine $f = x e^{-x} + x (1-x)$ in $x = -0.5$.\n",
    "Valutate la differenza assoluta e percentuale fra la funzione $f$ e lo sviluppo in serie per $x = -0.7,-0.6,-0.5,-0.4,-0.3$.__ "
   ]
  },
  {
   "cell_type": "code",
   "execution_count": null,
   "metadata": {},
   "outputs": [],
   "source": []
  }
 ],
 "metadata": {
  "hide_input": false,
  "kernelspec": {
   "display_name": "Python 3",
   "language": "python",
   "name": "python3"
  },
  "language_info": {
   "codemirror_mode": {
    "name": "ipython",
    "version": 3
   },
   "file_extension": ".py",
   "mimetype": "text/x-python",
   "name": "python",
   "nbconvert_exporter": "python",
   "pygments_lexer": "ipython3",
   "version": "3.7.3"
  },
  "toc": {
   "base_numbering": 1,
   "nav_menu": {},
   "number_sections": true,
   "sideBar": true,
   "skip_h1_title": true,
   "title_cell": "Table of Contents",
   "title_sidebar": "Contents",
   "toc_cell": false,
   "toc_position": {},
   "toc_section_display": true,
   "toc_window_display": false
  },
  "varInspector": {
   "cols": {
    "lenName": 16,
    "lenType": 16,
    "lenVar": 40
   },
   "kernels_config": {
    "python": {
     "delete_cmd_postfix": "",
     "delete_cmd_prefix": "del ",
     "library": "var_list.py",
     "varRefreshCmd": "print(var_dic_list())"
    },
    "r": {
     "delete_cmd_postfix": ") ",
     "delete_cmd_prefix": "rm(",
     "library": "var_list.r",
     "varRefreshCmd": "cat(var_dic_list()) "
    }
   },
   "types_to_exclude": [
    "module",
    "function",
    "builtin_function_or_method",
    "instance",
    "_Feature"
   ],
   "window_display": false
  }
 },
 "nbformat": 4,
 "nbformat_minor": 4
}
