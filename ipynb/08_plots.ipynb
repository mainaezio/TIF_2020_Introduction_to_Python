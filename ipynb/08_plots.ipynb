{
 "cells": [
  {
   "cell_type": "markdown",
   "metadata": {},
   "source": [
    "## Nozioni fondamentali\n",
    "Potete trovare una eccellente introduzione a Matplotlib nella Sezione 5 di<br/> \n",
    "[Robert Johanson - Scientific Computing with Python](http://raw.github.com/jrjohansson/scientific-python-lectures/master/Scientific-Computing-with-Python.pdf)<br/>\n",
    "Johanson utilizza lo stesso approccio \"object oriented\" che viene adottato in queste lezioni."
   ]
  },
  {
   "cell_type": "code",
   "execution_count": null,
   "metadata": {},
   "outputs": [],
   "source": [
    "import matplotlib.pyplot as plt\n",
    "import numpy as np"
   ]
  },
  {
   "cell_type": "markdown",
   "metadata": {},
   "source": [
    "<img src=\"../Humour/MisleadingGraphs.jpg\" width=\"500\" align=\"center\"/>"
   ]
  },
  {
   "cell_type": "markdown",
   "metadata": {},
   "source": [
    "### Plot di una lista di  numeri. Scatterplots"
   ]
  },
  {
   "cell_type": "code",
   "execution_count": null,
   "metadata": {},
   "outputs": [],
   "source": [
    "fig1, ax1 = plt.subplots(nrows=1, ncols=1, figsize=(8, 5))\n",
    "ax1.plot(np.array([1,2,4,3])) \n",
    "ax1.set_ylabel('some numbers')"
   ]
  },
  {
   "cell_type": "markdown",
   "metadata": {},
   "source": [
    "Disegna punti (x,y). La prima lista contiene le coordinate x, la seconda le coordinate y.\n",
    "'ro' significa rosso (red: r) con markers rotondi (o). Di default non ci sono marker e i punti sono uniti da linee."
   ]
  },
  {
   "cell_type": "code",
   "execution_count": null,
   "metadata": {},
   "outputs": [],
   "source": [
    "fig2, ax2 = plt.subplots(figsize=(5, 7)) \n",
    "ax2.set_ylabel('y')\n",
    "ax2.set_xlabel('x')\n",
    "ax2.scatter(np.array([1,2,3,4]),np.array([1,4,9,16]), marker='o', c='b') \n"
   ]
  },
  {
   "cell_type": "markdown",
   "metadata": {},
   "source": [
    "### Plot multipli"
   ]
  },
  {
   "cell_type": "code",
   "execution_count": null,
   "metadata": {},
   "outputs": [],
   "source": [
    "def f(t):\n",
    "    return np.exp(-t) * np.cos(2*np.pi*t)\n",
    "t1 = np.arange(0.0, 5.0, 0.1)\n",
    "t2 = np.arange(0.0, 5.0, 0.02)\n",
    "\n",
    "fig3, (ax3a,ax3b) = plt.subplots(nrows=1, ncols=2, figsize=(14, 5))\n",
    "\n",
    "ax3a.plot(t1, f(t1),  marker='o', c='b')\n",
    "ax3a.set_xlabel('x value') \n",
    "ax3a.set_ylabel('f(x)') \n",
    "ax3a.set_title('Plot 1')\n",
    "\n",
    "ax3b.plot(t2, np.cos(2*np.pi*t2),  linestyle='--', c='r')\n",
    "ax3b.set_xlabel('x value') \n",
    "ax3b.set_ylabel('cos(2 pi x)') \n",
    "ax3b.set_title('Plot 2')\n",
    "\n",
    "fig3.tight_layout()\n",
    "\n",
    "# linestyle='-','--',':'"
   ]
  },
  {
   "cell_type": "markdown",
   "metadata": {},
   "source": [
    "Per ottenere quattro plot in due file da due utilizzare:"
   ]
  },
  {
   "cell_type": "code",
   "execution_count": null,
   "metadata": {},
   "outputs": [],
   "source": [
    "fig, ((ax1,ax2),(ax3,ax4)) = plt.subplots(nrows=2, ncols=2)"
   ]
  },
  {
   "cell_type": "markdown",
   "metadata": {},
   "source": [
    "### Salvare un plot in un file"
   ]
  },
  {
   "cell_type": "code",
   "execution_count": null,
   "metadata": {},
   "outputs": [],
   "source": [
    "fig3.savefig('plot3.pdf')\n",
    "fig3.savefig('plot3.jpg')"
   ]
  },
  {
   "cell_type": "markdown",
   "metadata": {},
   "source": [
    "### Curve multiple"
   ]
  },
  {
   "cell_type": "code",
   "execution_count": null,
   "metadata": {},
   "outputs": [],
   "source": [
    "t = np.arange(0.0, 2*np.pi, 0.01)\n",
    "\n",
    "fig, ax = plt.subplots(figsize=(12, 5))\n",
    "ax.plot(t,np.cos(t),c='r')\n",
    "ax.plot(t,np.cos(2*t),c='b')\n",
    "ax.plot(t,np.cos(10*t),c='g')"
   ]
  },
  {
   "cell_type": "markdown",
   "metadata": {},
   "source": [
    "## Log plots"
   ]
  },
  {
   "cell_type": "markdown",
   "metadata": {},
   "source": [
    "Passiamo ai plot logaritmici."
   ]
  },
  {
   "cell_type": "code",
   "execution_count": null,
   "metadata": {},
   "outputs": [],
   "source": [
    "fig4, (ax4a,ax4b) = plt.subplots(nrows=1, ncols=2, figsize=(14, 7))\n",
    "\n",
    "t = np.arange(0.01, 20.0, 0.01)\n",
    "\n",
    "# log y axis\n",
    "ax4a.set_yscale('log')\n",
    "ax4a.plot(t, np.exp(-t/5.0))\n",
    "ax4a.set_xlabel('x value') \n",
    "ax4a.set_ylabel('exp(-t/5.0)') \n",
    "ax4a.set_title('semilogy')\n",
    "ax4a.grid(b=True,which='both')      # b significa boolean\n",
    "\n",
    "# log x axis\n",
    "ax4b.set_xscale('log')\n",
    "ax4b.plot(t, np.sin(2*np.pi*t))\n",
    "ax4b.set_xlabel('x value') \n",
    "ax4b.set_ylabel('sin(2*pi*t)') \n",
    "ax4b.set_title('semilogx')\n",
    "ax4b.grid(b=True,which='both')\n"
   ]
  },
  {
   "cell_type": "code",
   "execution_count": null,
   "metadata": {},
   "outputs": [],
   "source": [
    "t = np.arange(0.01, 20.0, 0.01)\n",
    "\n",
    "fig5, ax5 = plt.subplots(nrows=1, ncols=1, figsize=(7, 7))\n",
    "\n",
    "ax5.set_xscale('log',basex=2)\n",
    "ax5.set_yscale('log')\n",
    "ax5.plot(t,t,c='r')\n",
    "ax5.plot(t,t**2,c='b')\n",
    "ax5.grid(b=True,which='both')\n",
    "ax5.set_title('loglog base 2 on x')"
   ]
  },
  {
   "cell_type": "markdown",
   "metadata": {},
   "source": [
    "A cosa servono i plot logaritmici?"
   ]
  },
  {
   "cell_type": "code",
   "execution_count": null,
   "metadata": {},
   "outputs": [],
   "source": [
    "t = np.arange(0.01, 10.0, 0.01)\n",
    "\n",
    "fig6, (ax6a,ax6b) = plt.subplots(nrows=1, ncols=2, figsize=(8, 6))\n",
    "\n",
    "ax6a.plot(t,t,c='r')\n",
    "ax6a.plot(t,t**2,c='b')\n",
    "ax6a.plot(t,t**4)\n",
    "ax6a.set_title('linear')\n",
    "ax6a.grid(b=True,which='both')\n",
    "\n",
    "ax6b.set_yscale('log')\n",
    "ax6b.plot(t,t,c='r')\n",
    "ax6b.plot(t,t**2,c='b')\n",
    "ax6b.plot(t,t**4)\n",
    "ax6b.set_title('y-log')\n",
    "ax6b.grid(b=True,which='both')"
   ]
  },
  {
   "cell_type": "markdown",
   "metadata": {},
   "source": [
    "## Istogrammi"
   ]
  },
  {
   "cell_type": "code",
   "execution_count": null,
   "metadata": {},
   "outputs": [],
   "source": [
    "dati = np.array([1.95,1.96,1.9,1.9,1.84,1.81,2.06,1.99,1.93,1.97,2.02,1.92,1.95,1.88,1.87,2.03,1.85,2.08,1.96,1.81,\n",
    "                2.07,1.91,1.79,1.99,1.97,1.95,1.96,1.93,1.83,2.09,2.02,2.09,1.84,1.86,1.96,2.03,1.93,1.9,1.94,1.87,\n",
    "                1.97,1.91,1.87,1.81,2.06,2.02,1.96,1.81,1.93,2.03,1.92,1.96,1.8,1.95,1.9,2.02,2.03,1.9,2.03,2.02,\n",
    "                1.96,1.9,1.98,1.87,1.9,1.89,1.84,2.06,1.93,2.06,1.93,1.93,1.9,1.9,1.9,1.93,1.86,1.83,1.96,1.81,2.03,\n",
    "                1.98,1.84,1.86,1.96,1.81,1.98,1.84,1.86,1.96,1.92,1.96,1.85,2.04,2,1.92,1.9,2.15,1.94,1.92])"
   ]
  },
  {
   "cell_type": "code",
   "execution_count": null,
   "metadata": {},
   "outputs": [],
   "source": [
    "nbins = 10\n",
    "xrange = (1.75,2.20)    # ntupla"
   ]
  },
  {
   "cell_type": "code",
   "execution_count": null,
   "metadata": {},
   "outputs": [],
   "source": [
    "fig, ax = plt.subplots()\n",
    "nevent, bins, patches = ax.hist(dati, nbins, range=xrange)"
   ]
  },
  {
   "cell_type": "code",
   "execution_count": null,
   "metadata": {},
   "outputs": [],
   "source": [
    "nevent       # Numero di eventi in ciacun bin"
   ]
  },
  {
   "cell_type": "code",
   "execution_count": null,
   "metadata": {},
   "outputs": [],
   "source": [
    "bins         # Estremi dei bin"
   ]
  },
  {
   "cell_type": "markdown",
   "metadata": {},
   "source": [
    "I patches sono i rettangoli (blu in questo caso) che vengono usati per disegnare l'istogramma."
   ]
  },
  {
   "cell_type": "markdown",
   "metadata": {},
   "source": [
    "## Altri elementi dei plot"
   ]
  },
  {
   "cell_type": "markdown",
   "metadata": {},
   "source": [
    "### Legende"
   ]
  },
  {
   "cell_type": "markdown",
   "metadata": {},
   "source": [
    "Basato su https://realpython.com/python-matplotlib-guide/"
   ]
  },
  {
   "cell_type": "code",
   "execution_count": null,
   "metadata": {},
   "outputs": [],
   "source": [
    "xc = np.arange(-5.0, 5.0, 0.02)"
   ]
  },
  {
   "cell_type": "code",
   "execution_count": null,
   "metadata": {},
   "outputs": [],
   "source": [
    "def g1(x):\n",
    "    return x*(x-1)/(x**2+1)-1"
   ]
  },
  {
   "cell_type": "code",
   "execution_count": null,
   "metadata": {},
   "outputs": [],
   "source": [
    "yc1 = g1(xc)"
   ]
  },
  {
   "cell_type": "code",
   "execution_count": null,
   "metadata": {},
   "outputs": [],
   "source": [
    "def g2(x):\n",
    "    return (x-1)/(x**2+1)"
   ]
  },
  {
   "cell_type": "code",
   "execution_count": null,
   "metadata": {},
   "outputs": [],
   "source": [
    "yc2 = g2(xc)"
   ]
  },
  {
   "cell_type": "code",
   "execution_count": null,
   "metadata": {},
   "outputs": [],
   "source": [
    "fig, ax = plt.subplots(figsize=(10, 8))\n",
    "ax.set_title('g1=x*(x-1)/(x**2+1)-1, g2=(x-1)/(x**2+1)')\n",
    "ax.set_xlabel('x value')\n",
    "ax.set_ylabel('g(x)')\n",
    "ax.grid(True)\n",
    "ax.margins(x=0.,y=0.05)\n",
    "ax.plot(xc, yc1, c='b', label='pippo rules', linestyle = '--');\n",
    "ax.plot(xc, 3*yc2, 'k', label='g2');\n",
    "ax.legend(fontsize='30');"
   ]
  },
  {
   "cell_type": "markdown",
   "metadata": {},
   "source": [
    "### Estremi degli assi\n"
   ]
  },
  {
   "cell_type": "code",
   "execution_count": null,
   "metadata": {},
   "outputs": [],
   "source": [
    "fig, ax = plt.subplots(figsize=(10, 8))\n",
    "ax.plot(xc, yc1, c='b', label='g1')\n",
    "ax.set_xlim(-2.,2.)\n",
    "ax.set_ylim(-1.5,0.)"
   ]
  },
  {
   "cell_type": "markdown",
   "metadata": {},
   "source": [
    "### Griglie"
   ]
  },
  {
   "cell_type": "code",
   "execution_count": null,
   "metadata": {},
   "outputs": [],
   "source": [
    "fig, ax = plt.subplots(figsize=(10, 8))\n",
    "x = np.linspace(0,4,201)\n",
    "ax.plot(x,x*x)\n",
    "ax.grid()"
   ]
  },
  {
   "cell_type": "markdown",
   "metadata": {},
   "source": [
    "### Annotazioni"
   ]
  },
  {
   "cell_type": "code",
   "execution_count": null,
   "metadata": {},
   "outputs": [],
   "source": [
    "annotate('testo',)"
   ]
  },
  {
   "cell_type": "code",
   "execution_count": null,
   "metadata": {},
   "outputs": [],
   "source": [
    "fig, ax = plt.subplots(figsize=(10, 8))\n",
    "ax.plot(xc, yc1, c='b', label='g1')\n",
    "\n",
    "# xy sono le coordinate della punta della freccia\n",
    "# xytext sono le coordinate del testo\n",
    "ax.annotate('figure pixels',\n",
    "            xy=(150, 200), xycoords='figure pixels',\n",
    "            xytext=(350, 450), textcoords='figure pixels',\n",
    "            arrowprops=dict(facecolor='black', shrink=0.05),\n",
    "            horizontalalignment='right', verticalalignment='top',)\n",
    "ax.annotate('axes fraction',\n",
    "            xy=(0., -0.2), xycoords='data',\n",
    "            xytext=(0.8, 0.95), textcoords='axes fraction',\n",
    "            arrowprops=dict(facecolor='red'),\n",
    "            horizontalalignment='left', verticalalignment='center',)"
   ]
  },
  {
   "cell_type": "markdown",
   "metadata": {},
   "source": [
    "### Testo"
   ]
  },
  {
   "cell_type": "markdown",
   "metadata": {},
   "source": [
    "Il prefisso `r` davanti alle stringhe di testo inibisce l'interpretazione dei caratteri di \"escape\" come caratteri speciali. Importante perchè LateX usa il carattere \"\\\" per introdurre i comandi e \"\\\" è il carattere standard di \"escape\"."
   ]
  },
  {
   "cell_type": "code",
   "execution_count": null,
   "metadata": {},
   "outputs": [],
   "source": [
    "def f0(t, omega, gamma, tau):\n",
    "    wt = omega*t\n",
    "    f1 = np.sin(wt) + (np.cos(wt)-1.0)/wt\n",
    "    f2 = 1.0+(gamma/omega)*f1\n",
    "    return np.exp(-t*f2/tau)\n",
    "\n",
    "omega = 12.0\n",
    "gamma = 8.0\n",
    "tau = 1.0\n",
    "\n",
    "t = np.linspace(0.01, 10.0, 500)\n",
    "f = f0(t, omega, gamma, tau)\n",
    "\n",
    "fig, ax = plt.subplots(figsize=(7.5, 4.5))\n",
    "ax.plot(t, f)\n",
    "ax.set_ylabel(r'$f_0(t)$', fontsize=14)\n",
    "#ax.set_ylabel('$f_0(t)$', fontsize=14)   # r è superfluo per questa stringa \n",
    "ax.set_xlabel(r'$t/\\tau\\quad\\rm(ms)}$', fontsize=14)\n",
    "#ax.set_xlabel('$t/\\tau\\quad\\rm(ms)}$', fontsize=14)       # r è necessario per questa stringa \n",
    "plt.text(1.8, 0.85, r'$\\Gamma(z)=\\int_0^\\infty x^{z-1}e^{-x}dx$', {'color': 'k', 'fontsize': 14})\n",
    "plt.text(4.0, 0.4, r'$\\Gamma(z)=\\int_0^\\infty x^{z-1}e^{-x}dx$', {'color': 'b', 'fontsize': 20})"
   ]
  },
  {
   "cell_type": "markdown",
   "metadata": {},
   "source": [
    "### Subplots"
   ]
  },
  {
   "cell_type": "code",
   "execution_count": null,
   "metadata": {},
   "outputs": [],
   "source": [
    "ax1 = plt.axes()  # standard axes\n",
    "ax2 = plt.axes([0.4, 0.2, 0.6, 0.75]) # [x_left_lower_corner,y_left_lower_corner,x_width,y_width] in axis coordinates"
   ]
  },
  {
   "cell_type": "markdown",
   "metadata": {},
   "source": [
    "### Plot parametrici\n",
    "\n",
    "Spesso per descrivere una curva esprimiamo le coordinate `y` dei punti sulla curva in funzione delle loro coordinate `x`. Per esempio una semicirconferenza centrata nell'origine è descritta dalla relazione $ y(x) = \\sqrt{r^2 - x^2}$, dove $r$ è il raggio.<BR>\n",
    "Un modo alternativo di costruire i punti sul cerchio di raggio $r$ è di notare che possiamo usare come coordinata l'angolo del punto rispetto all'asse $\\hat{x}$ come:\n",
    "    $$ x(\\theta) = r \\cos\\theta,\\qquad y(\\theta) = r \\sin\\theta$$\n",
    "Se creiamo due array sufficientemente fitti in questo modo, possiamo disegnare una circonferenza."
   ]
  },
  {
   "cell_type": "code",
   "execution_count": null,
   "metadata": {},
   "outputs": [],
   "source": [
    "raggio = 3.\n",
    "npoints = 100\n",
    "x0 = np.array([np.cos(i*2*np.pi/npoints) for i in range(npoints+1)])\n",
    "y0 = np.array([np.sin(i*2*np.pi/npoints) for i in range(npoints+1)])"
   ]
  },
  {
   "cell_type": "code",
   "execution_count": null,
   "metadata": {},
   "outputs": [],
   "source": [
    "fig, ax = plt.subplots(figsize=(10, 10))\n",
    "ax.plot(x0, y0)"
   ]
  },
  {
   "cell_type": "markdown",
   "metadata": {},
   "source": [
    "Provate a vedere cosa succede per npoints = 3,4,8,12."
   ]
  },
  {
   "cell_type": "markdown",
   "metadata": {},
   "source": [
    "Informazini addizionali e buoni esempi: https://www.machinelearningplus.com/plots/matplotlib-tutorial-complete-guide-python-plot-examples/"
   ]
  },
  {
   "cell_type": "markdown",
   "metadata": {},
   "source": [
    "Problema:\n",
    "---------\n",
    "\n",
    "Studiare la funzione $g(x)\\, = \\, \\cos \\left( \\frac{x^4 - 5 x^3 - 3 x^2 + 17 x - 10}{x^4 + 2 x^2 + 1} \\right)$"
   ]
  }
 ],
 "metadata": {
  "hide_input": false,
  "kernelspec": {
   "display_name": "Python 3",
   "language": "python",
   "name": "python3"
  },
  "language_info": {
   "codemirror_mode": {
    "name": "ipython",
    "version": 3
   },
   "file_extension": ".py",
   "mimetype": "text/x-python",
   "name": "python",
   "nbconvert_exporter": "python",
   "pygments_lexer": "ipython3",
   "version": "3.7.3"
  },
  "toc": {
   "base_numbering": 1,
   "nav_menu": {
    "height": "17px",
    "width": "160px"
   },
   "number_sections": true,
   "sideBar": true,
   "skip_h1_title": true,
   "title_cell": "Table of Contents",
   "title_sidebar": "Contents",
   "toc_cell": false,
   "toc_position": {},
   "toc_section_display": true,
   "toc_window_display": false
  },
  "varInspector": {
   "cols": {
    "lenName": 16,
    "lenType": 16,
    "lenVar": 40
   },
   "kernels_config": {
    "python": {
     "delete_cmd_postfix": "",
     "delete_cmd_prefix": "del ",
     "library": "var_list.py",
     "varRefreshCmd": "print(var_dic_list())"
    },
    "r": {
     "delete_cmd_postfix": ") ",
     "delete_cmd_prefix": "rm(",
     "library": "var_list.r",
     "varRefreshCmd": "cat(var_dic_list()) "
    }
   },
   "types_to_exclude": [
    "module",
    "function",
    "builtin_function_or_method",
    "instance",
    "_Feature"
   ],
   "window_display": false
  }
 },
 "nbformat": 4,
 "nbformat_minor": 4
}
