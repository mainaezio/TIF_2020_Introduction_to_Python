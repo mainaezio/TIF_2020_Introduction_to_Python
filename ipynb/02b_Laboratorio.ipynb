{
 "cells": [
  {
   "cell_type": "markdown",
   "metadata": {},
   "source": [
    "# Programmare in Python\n",
    "\n",
    "Leggete attentamente il testo di ciascun esercizio. Il primo passo deve essere la comprensione del problema, partendo dall'individuazione di quali dati sono necessari per calcolare la quantità richiesta.\n",
    "Assegnate i valori di input a delle variabili ed esprimete le formule necessarie in termini di queste variabili.\n",
    "Fate scrivere il risultato in modo chiaro e descrittivo.\n",
    "\n",
    "### Esempio\n",
    "\n",
    "__- Calcolare la somma di due numeri.__"
   ]
  },
  {
   "cell_type": "code",
   "execution_count": null,
   "metadata": {},
   "outputs": [],
   "source": [
    "a = 3.1\n",
    "b = 4.7\n",
    "c = a + b\n",
    "print('La somma di',a,'+',b,'=',c)"
   ]
  },
  {
   "cell_type": "markdown",
   "metadata": {},
   "source": [
    "## Laboratorio: primi passi\n",
    "\n",
    "![](../Images/SinCos_def.gif)"
   ]
  },
  {
   "cell_type": "markdown",
   "metadata": {},
   "source": [
    "__1 - Dato come input il seno e il coseno di un angolo alfa, trovare il valore dell'angolo. La risposta è univoca?__"
   ]
  },
  {
   "cell_type": "code",
   "execution_count": null,
   "metadata": {},
   "outputs": [],
   "source": []
  },
  {
   "cell_type": "markdown",
   "metadata": {},
   "source": [
    "__2 - Dato come input un punto p del piano, trovare la distanza dall'origine e l'angolo che il vettore forma con l'asse x (rappresentazione polare).__"
   ]
  },
  {
   "cell_type": "code",
   "execution_count": null,
   "metadata": {},
   "outputs": [],
   "source": []
  },
  {
   "cell_type": "markdown",
   "metadata": {},
   "source": [
    "__3 - Dato come input la distanza dall'origine e l'angolo che un vettore bidimensionale p forma con l'asse x (rappresentazione polare), trovare le componenti lungo gli assi.__"
   ]
  },
  {
   "cell_type": "code",
   "execution_count": null,
   "metadata": {},
   "outputs": [],
   "source": []
  },
  {
   "cell_type": "markdown",
   "metadata": {},
   "source": [
    "__4 - Calcolare la radice di un'equazione algebrica di primo grado. Quali sono gli input necessari?__"
   ]
  },
  {
   "cell_type": "code",
   "execution_count": null,
   "metadata": {},
   "outputs": [],
   "source": []
  },
  {
   "cell_type": "markdown",
   "metadata": {},
   "source": [
    "__5 - Calcolare l'area di un triangolo usando la lunghezza di due lati adiacenti e l'ampiezza dell'angolo compreso.__"
   ]
  },
  {
   "cell_type": "code",
   "execution_count": null,
   "metadata": {},
   "outputs": [],
   "source": []
  },
  {
   "cell_type": "markdown",
   "metadata": {},
   "source": [
    "__6 - Dato come input il tempo T,  calcolare la posizione di un corpo di massa M che si muove, lungo la verticale, nel campo gravitazionale terrestre con g = 9.81 m/s\\*\\*2. Quali informazioni sono necessarie per poter rispondere?__"
   ]
  },
  {
   "cell_type": "code",
   "execution_count": null,
   "metadata": {},
   "outputs": [],
   "source": []
  },
  {
   "cell_type": "markdown",
   "metadata": {},
   "source": [
    "__7 - Dato come input un angolo alfa, calcolare il seno e il coseno di 2\\*alfa usando le formule di duplicazione.\n",
    "Calcolare la differenza relativa fra il risultato ottenuto e quello che si ottiene caolando direttamente sin(2\\*alfa) e cos(2\\*alfa).__"
   ]
  },
  {
   "cell_type": "code",
   "execution_count": null,
   "metadata": {},
   "outputs": [],
   "source": []
  },
  {
   "cell_type": "markdown",
   "metadata": {},
   "source": [
    "__8 - Dato un numero intero n minore di 10, calcolare n + nn + nnn.__"
   ]
  },
  {
   "cell_type": "code",
   "execution_count": null,
   "metadata": {},
   "outputs": [],
   "source": []
  },
  {
   "cell_type": "markdown",
   "metadata": {},
   "source": [
    "__9 - Dato un capitale iniziale C, il tasso di interesse annuale T e il numero di anni N, calcolare il capitale alla scadenza, assumendo che alla fine di ogni anno gli interessivengano aggiunti al capitale.__"
   ]
  },
  {
   "cell_type": "code",
   "execution_count": null,
   "metadata": {},
   "outputs": [],
   "source": []
  },
  {
   "cell_type": "markdown",
   "metadata": {},
   "source": [
    "__10 - Calcolare il punto medio di un segmento nel piano. Che input sono necessari?__"
   ]
  },
  {
   "cell_type": "code",
   "execution_count": null,
   "metadata": {},
   "outputs": [],
   "source": []
  }
 ],
 "metadata": {
  "hide_input": false,
  "kernelspec": {
   "display_name": "Python 3",
   "language": "python",
   "name": "python3"
  },
  "language_info": {
   "codemirror_mode": {
    "name": "ipython",
    "version": 3
   },
   "file_extension": ".py",
   "mimetype": "text/x-python",
   "name": "python",
   "nbconvert_exporter": "python",
   "pygments_lexer": "ipython3",
   "version": "3.7.3"
  },
  "toc": {
   "base_numbering": 1,
   "nav_menu": {},
   "number_sections": true,
   "sideBar": true,
   "skip_h1_title": true,
   "title_cell": "Table of Contents",
   "title_sidebar": "Contents",
   "toc_cell": false,
   "toc_position": {},
   "toc_section_display": true,
   "toc_window_display": false
  },
  "varInspector": {
   "cols": {
    "lenName": 16,
    "lenType": 16,
    "lenVar": 40
   },
   "kernels_config": {
    "python": {
     "delete_cmd_postfix": "",
     "delete_cmd_prefix": "del ",
     "library": "var_list.py",
     "varRefreshCmd": "print(var_dic_list())"
    },
    "r": {
     "delete_cmd_postfix": ") ",
     "delete_cmd_prefix": "rm(",
     "library": "var_list.r",
     "varRefreshCmd": "cat(var_dic_list()) "
    }
   },
   "types_to_exclude": [
    "module",
    "function",
    "builtin_function_or_method",
    "instance",
    "_Feature"
   ],
   "window_display": false
  }
 },
 "nbformat": 4,
 "nbformat_minor": 4
}
