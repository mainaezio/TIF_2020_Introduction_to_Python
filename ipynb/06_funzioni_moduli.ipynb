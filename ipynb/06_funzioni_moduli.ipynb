{
 "cells": [
  {
   "cell_type": "markdown",
   "metadata": {},
   "source": [
    "Funzioni e moduli\n",
    "==============\n",
    "\n",
    "Introduzione\n",
    "--------------\n",
    "\n",
    "Le funzioni ci permettono di raggruppare una sequenza di comandi in un blocco logico. Comunichiamo con una funzione attraverso una interfaccia ben definita, fornendo dei parametri, e ricevendo di ritorno delle informazioni. Generalmente non sappiamo esattamente come una funzione ottiene il valore che ci restituisce, conosciamo solo l'interfaccia.\n",
    "\n",
    "Per esempio la funzione `math.sqrt`: non sappiamo esattamente come calcola la radice quadrata, ma conosciamo l'interfaccia: se passiamo il valore *x* alla funzione, ci restituisce (un valore approssimato per) $\\sqrt{x}$.\n",
    "\n",
    "Questa astrazione è utile: è una tecnica comune dividere un sistema, un problema in componenti più piccole che funzionano insieme attraverso delle interfacce ben definite che non hanno bisogno di conoscere i dettagli di come ciascuna realizza il suo compito. In fatti, non doversi preoccupare dei dettagli di implementazione ci permette di avere una visione più chiara di un sistema composto di molte parti.\n",
    "\n",
    "Le funzioni costituiscono i mattoncini fondamentali all'interno di programmi più vasti e aiutano a tenere sotto controllo la complessità intrinseca dei problemi.\n",
    "\n",
    "Possiamo raggruppare diverse funzioni in modulo di Python e creare le nostre librerie di utilità.\n",
    "\n",
    "Come usare le funzioni\n",
    "---------------------------\n",
    "\n",
    "Nella programmazione, la parola “funzione” si riferisce ad una sequenza, dotata di nome in modo da poter essere \"chiamata\", di operazioni che svolgono un determinato calcolo. Per esempio, la funzione `sqrt()` nel modulo `math` calcola la radice quadrata di un dato valore:"
   ]
  },
  {
   "cell_type": "code",
   "execution_count": null,
   "metadata": {},
   "outputs": [],
   "source": [
    "from math import sqrt\n",
    "sqrt(4)"
   ]
  },
  {
   "cell_type": "markdown",
   "metadata": {},
   "source": [
    "Il valore che passiamo alla funzione `sqrt` in questo caso è 4. Questo valore viene chiamato *argomento* della funzione. Una funzione può avere più argomenti.\n",
    "\n",
    "La funzione *ritorna* il valore 2.0 (il risultato del calcolo) all'“ambiente di chiamata”. Questo valore si chiama il *return value* della funzione.\n",
    "\n",
    "Si dice in genere che la funzione *prende* un argomento e *ritorna* un risultato o return value.\n",
    "\n",
    "#### Possibile confusione fra stampare e restituire un valore\n",
    "\n",
    "È un errore comune, quando si inizia, confondere *stampare* un valore con *ritornare* un valore. Nell'esempio seguente è difficile capire se la funzione `math.sin` ritorna un valore oppure lo stampa:"
   ]
  },
  {
   "cell_type": "code",
   "execution_count": null,
   "metadata": {},
   "outputs": [],
   "source": [
    "import math\n",
    "math.sin(2)"
   ]
  },
  {
   "cell_type": "markdown",
   "metadata": {},
   "source": [
    "Importiamo il modulo `math`, e chiamiamo la funzione `math.sin` con argomento `2`. La chiamata `math.sin(2)`, in effetti, *ritorna* il valore `0.909...`, non lo stampa. Tuttavia, siccome non abbiamo assegnato il valore a una variabile, la sessione interattiva di Python stampa sullo schermo il valore ritornato.\n",
    "\n",
    "La sequenza alternativa che segue funziona solamente se il valore viene ritornato:"
   ]
  },
  {
   "cell_type": "code",
   "execution_count": null,
   "metadata": {},
   "outputs": [],
   "source": [
    "x = math.sin(2)\n",
    "print(x)"
   ]
  },
  {
   "cell_type": "markdown",
   "metadata": {},
   "source": [
    "Il risultato della chiamata `math.sin(2)` viene assegnato alla variabile `x`, e , alla linea successiva, `x` viene stampato.\n",
    "\n",
    "In genere le funzioni vengono eseguite in modo \"silenzioso\" (cioè non stampano nulla) e comunicano il risultato del loro conto attraverso il return value.\n",
    "\n",
    "Parte della confusione fra valori stampati e valori ritornati in una sessione interattiva deriva dal fatto che Python stampa il valore che viene ritornato *se* il valore non viene assegnato a una variabile. In genere, noi vogliamo vedere quello che viene ritornato, per poterci orientare. Bisogna però superare questa confusione iniziale.\n",
    "\n",
    "##### Ulteriori informazioni\n",
    "\n",
    "-   \"Think Python\" di Allen Downey fornisce una introduzione semplice alle funzioni (su cui è basata questa lezione) in [chapter 3 (Functions)](http://www.greenteapress.com/thinkpython/html/book004.html) and [chapter 6 (Fruitful functions)](http://www.greenteapress.com/thinkpython/html/book007.html)."
   ]
  },
  {
   "cell_type": "markdown",
   "metadata": {},
   "source": [
    "Come definire una funzione\n",
    "--------------------------------\n",
    "\n",
    "Il format generico della definizione di una funzione è:\n",
    "\n",
    "```python\n",
    "def my_function(arg1, arg2, ..., argn):\n",
    "    \"\"\"Optional docstring.\"\"\"\n",
    "\n",
    "    # Implementation of the function\n",
    "\n",
    "    return result  # optional\n",
    "\n",
    "#this is not part of the function\n",
    "some_command\n",
    "```\n",
    "\n",
    "Le parentesi dopo il nome della funzione sono necessarie. Se una funzione non ha argomenti si scrive:\n",
    "```python\n",
    "def my_function2():\n",
    "```"
   ]
  },
  {
   "cell_type": "code",
   "execution_count": null,
   "metadata": {},
   "outputs": [],
   "source": [
    "def pippo:\n",
    "    pass"
   ]
  },
  {
   "cell_type": "markdown",
   "metadata": {},
   "source": [
    "#### Esempio 1\n",
    "Una funzione che prende come input due numeri e ne restituisce la somma:"
   ]
  },
  {
   "cell_type": "code",
   "execution_count": null,
   "metadata": {},
   "outputs": [],
   "source": [
    "def my_sum(a,b):\n",
    "    c = a+b\n",
    "    return c"
   ]
  },
  {
   "cell_type": "markdown",
   "metadata": {},
   "source": [
    "#### Esempio 2\n",
    "Una funzione senza input che restituisce il valore di $\\pi$:"
   ]
  },
  {
   "cell_type": "code",
   "execution_count": null,
   "metadata": {},
   "outputs": [],
   "source": [
    "def my_pi():    \n",
    "    return 3.141592653589793\n",
    "\n",
    "my_pi()"
   ]
  },
  {
   "cell_type": "markdown",
   "metadata": {},
   "source": [
    "Per funzioni definite dall'utente (classi, tipi, moduli, …), dovrebbe sempre essere presente una docstring sintetica ma esauriente. Sei mesi dopo aver scritto un pezzo di codice, anche l'autore ha difficoltà a comprenderlo senza un buon apparato di commenti. \"Se non l'hai documentato, non l'hai fatto\": severo ma giusto.\n",
    "\n",
    "Come documentare una funzione definita dall'utente:"
   ]
  },
  {
   "cell_type": "code",
   "execution_count": null,
   "metadata": {},
   "outputs": [],
   "source": [
    "def power2and3(x):\n",
    "    \"\"\"Returns the tuple (x**2, x**3)\"\"\"\n",
    "    return x**2 ,x**3\n",
    "\n",
    "power2and3(2)"
   ]
  },
  {
   "cell_type": "markdown",
   "metadata": {},
   "source": [
    "<img src=\"../Humour/LastMonthCode.jpg\" width=\"450\" align=\"center\"/>"
   ]
  },
  {
   "cell_type": "markdown",
   "metadata": {},
   "source": [
    "La documentazione può essere recuperata con il comando `help`"
   ]
  },
  {
   "cell_type": "code",
   "execution_count": null,
   "metadata": {},
   "outputs": [],
   "source": [
    "help(power2and3)"
   ]
  },
  {
   "cell_type": "markdown",
   "metadata": {},
   "source": [
    "La terminologia di Allen Downey (nel suo libro [Think Python](http://www.greenteapress.com/thinkpython/html/index.html)) di funzioni fruttuose e infruttuose distingue fra funzioni che ritornano un valore (=fruitful) e quelle che non lo fanno (=fruitless). Se una funzione non usa il comando `return`, diciamo che non ritorna nulla (mentre, in realtà ritorna sempre l'oggetto `None` – anche se il comando `return` manca).\n",
    "\n",
    "Per esempio, la funzione `greeting`, quando viene chiamata, stampa “Hello World” (ed è fruitless perché non ritorna alcun valore)."
   ]
  },
  {
   "cell_type": "code",
   "execution_count": null,
   "metadata": {},
   "outputs": [],
   "source": [
    "def greeting():\n",
    "    print(\"Hello World!\")"
   ]
  },
  {
   "cell_type": "markdown",
   "metadata": {},
   "source": [
    "Se la chiamiamo:"
   ]
  },
  {
   "cell_type": "code",
   "execution_count": null,
   "metadata": {},
   "outputs": [],
   "source": [
    "greeting()"
   ]
  },
  {
   "cell_type": "markdown",
   "metadata": {},
   "source": [
    "stampa “Hello World” su stdout (lo *standard output*, in questo caso la nostra finestra), come ci si aspetta. Se assegnamo il return value della funzione a una variabile `x`, la possiamo successivamente esaminare/utilizzare:"
   ]
  },
  {
   "cell_type": "code",
   "execution_count": null,
   "metadata": {},
   "outputs": [],
   "source": [
    "x = greeting()"
   ]
  },
  {
   "cell_type": "code",
   "execution_count": null,
   "metadata": {},
   "outputs": [],
   "source": [
    "print(x)"
   ]
  },
  {
   "cell_type": "markdown",
   "metadata": {},
   "source": [
    "confermandondo che la funzione `greeting` ha effettivamente ritornato l'oggetto `None`.\n",
    "\n",
    "Un altro esempio di funzione che non ritorna alcun valore è:"
   ]
  },
  {
   "cell_type": "code",
   "execution_count": null,
   "metadata": {},
   "outputs": [],
   "source": [
    "def printpluses(n): \n",
    "    print(n * \"+\")"
   ]
  },
  {
   "cell_type": "markdown",
   "metadata": {},
   "source": [
    "In genere, funzioni che ritornano uno o più valori sono più utili perché possono essere combinate per costruire il codice (magari all'interno di un'altra funzione). Vediamo qualche esempio di funzioni che ritornano dei valori.\n",
    "\n",
    "Supponiamo di dover definire una funzione che calcola il quadrato di una variabile. La funzione potrebbe essere:"
   ]
  },
  {
   "cell_type": "code",
   "execution_count": null,
   "metadata": {},
   "outputs": [],
   "source": [
    "def square(x):\n",
    "    return x * x"
   ]
  },
  {
   "cell_type": "markdown",
   "metadata": {},
   "source": [
    "La keyword `def` dice a Python che stiamo *definendo* una a funzione. La funzione prende un argomento (`x`). La funione ritorna `x*x` cioè $x^2$."
   ]
  },
  {
   "cell_type": "code",
   "execution_count": null,
   "metadata": {
    "attributes": {
     "classes": [
      "numberLines"
     ],
     "id": ""
    }
   },
   "outputs": [],
   "source": [
    "def square(x):\n",
    "    return x * x\n",
    "\n",
    "for i in range(5):\n",
    "    i_squared = square(i)\n",
    "    print(i, '*', i, '=', i_squared)"
   ]
  },
  {
   "cell_type": "markdown",
   "metadata": {},
   "source": [
    "Possiamo definire funzioni con più argomenti:"
   ]
  },
  {
   "cell_type": "code",
   "execution_count": null,
   "metadata": {},
   "outputs": [],
   "source": [
    "import math\n",
    "\n",
    "def hypot(x, y):\n",
    "    return math.sqrt(x * x + y * y)"
   ]
  },
  {
   "cell_type": "markdown",
   "metadata": {},
   "source": [
    "È anche possibile ritornare più di un valore. Ecco un esempio di funzione che, data una stringa di input, la converte tutta in caratteri maiuscoli e tutta in caratteri minuscoli e ritorna le due versioni. La funzione è stata inserita in un programma esterno per mostrare come può essere chiamata:"
   ]
  },
  {
   "cell_type": "code",
   "execution_count": null,
   "metadata": {},
   "outputs": [],
   "source": [
    "def upperAndLower(string):\n",
    "    return string.upper(), string.lower()\n",
    "\n",
    "testword = 'Banana'\n",
    "\n",
    "uppercase, lowercase = upperAndLower(testword)\n",
    "\n",
    "print('testword:',testword, '       In lowercase:', lowercase,\n",
    "      'and in uppercase', uppercase)"
   ]
  },
  {
   "cell_type": "markdown",
   "metadata": {},
   "source": [
    "Possiamo definire più funzioni di Python in un singolo file. Ecco un esempio:"
   ]
  },
  {
   "cell_type": "code",
   "execution_count": null,
   "metadata": {},
   "outputs": [],
   "source": [
    "def returnstars( n ):\n",
    "    return n * '*'\n",
    "\n",
    "def print_centered_in_stars( string ):\n",
    "    linelength = 46 \n",
    "    starstring = returnstars((linelength - len(string)) // 2)\n",
    "\n",
    "    print(starstring + string + starstring)\n",
    "\n",
    "print_centered_in_stars('Hello world!')"
   ]
  },
  {
   "cell_type": "markdown",
   "metadata": {},
   "source": [
    "##### Informazioni ulteriori\n",
    "\n",
    "-   [Python Tutorial: Section 4.6 Defining Functions](http://docs.python.org/tutorial/controlflow.html#defining-functions)\n",
    "\n",
    "Valori di default e parametri opzionali\n",
    "--------------------------------------------\n",
    "\n",
    "Python permette di definire valori di *default* per gli argomenti di una funzione. Ecco un esempio: la funzione `myfunc` prende tre argomenti: `x`, `p` e `debug`. Il primo argomento `x` è una variabile “posizionale”; deve essere presente nella chiamata alla funzione. Il secondo argomento `p` ha il valore di default 2, il terzo `debug` ha come valore di default False. Questi argomenti sono opzionali: se l'utente chiama questa funzione con un solo argomento, l'argomento viene assegnato a `x` mentre `p` e `debug` assumeranno i valori di default. Se vengono forniti due argomenti il primo viene assegnato a `x` e il secondo a `p` mentre `debug` assumera il valore di default e così via. Il modo migliore di usare i parametri di default è quello di utilizzare espicitamente la keyword che li individua. In questo modo non è necessario ripettare l'ordine degli argomenti."
   ]
  },
  {
   "cell_type": "code",
   "execution_count": null,
   "metadata": {},
   "outputs": [],
   "source": [
    "def myfunc(x, p=2, debug=False):\n",
    "    if debug:\n",
    "        print(\"evaluating myfunc for x = \" + str(x) + \" using exponent p = \" + str(p))\n",
    "    return x**p"
   ]
  },
  {
   "cell_type": "code",
   "execution_count": null,
   "metadata": {},
   "outputs": [],
   "source": [
    "myfunc(5)"
   ]
  },
  {
   "cell_type": "code",
   "execution_count": null,
   "metadata": {},
   "outputs": [],
   "source": [
    "myfunc(5, 3)"
   ]
  },
  {
   "cell_type": "code",
   "execution_count": null,
   "metadata": {},
   "outputs": [],
   "source": [
    "myfunc(5, debug=True)"
   ]
  },
  {
   "cell_type": "markdown",
   "metadata": {},
   "source": [
    "Anche gli argomenti posizionali possono essere passati per nome:"
   ]
  },
  {
   "cell_type": "code",
   "execution_count": null,
   "metadata": {},
   "outputs": [],
   "source": [
    "myfunc(p=3, debug=True, x=7)     "
   ]
  },
  {
   "cell_type": "markdown",
   "metadata": {},
   "source": [
    "<img src=\"../Humour/DocumentationTomorrow.jpg\" width=\"450\" align=\"center\"/>"
   ]
  },
  {
   "cell_type": "code",
   "execution_count": null,
   "metadata": {},
   "outputs": [],
   "source": [
    "myfunc(p=3, debug=True)  "
   ]
  },
  {
   "cell_type": "markdown",
   "metadata": {},
   "source": [
    "Passare argomenti a una funzione in Python\n",
    "---------------------------------\n",
    "In Python, gli oggetti sono passati per referenza (tipo pointer) all'oggetto. A seconda di come la referenza viene usate nella funzione e del tipo di oggetto che viene referenziato, questo può significare che qualsiasi cambiamento all'oggetto passato, all'interno della funzione, si riflette immediatamente all'esterno.\n",
    "\n",
    "Tre esempi per chiarire. Iniziamo passando una lista a una funzione che itera sugli elementi della sequenza raddoppiando il valore di ciascuno:"
   ]
  },
  {
   "cell_type": "code",
   "execution_count": null,
   "metadata": {},
   "outputs": [],
   "source": [
    "def double_the_values(l):\n",
    "    print(f\"in double_the_values: l = {l}\")\n",
    "    for i in range(len(l)):\n",
    "        l[i] = l[i] * 2\n",
    "    print(f\"in double_the_values: changed l to l = {l}\")\n",
    "\n",
    "l_global = [0, 1, 2, 3, 10]\n",
    "print(f\"In main: s = {l_global}\")\n",
    "double_the_values(l_global)\n",
    "print(f\"In main: s = {l_global}\")"
   ]
  },
  {
   "cell_type": "markdown",
   "metadata": {},
   "source": [
    "La variabile `l` è una referenza all'oggetto lista. La linea `l[i] = l[i] * 2` calcola il membro di destra leggendo l'elemento di indice `i`e poi moltiplicandolo per due. Una referenza a questo nuovo oggetto viene immagazzinata\n",
    "nell'oggetto lista `l` alla posizione di indice `i`. È stato quindi modificato l'oggestto lista, che è referenziato attraverso il nome `l`.\n",
    "\n",
    "La referenza all'oggetto lista non cambia mai: la linea `l[i] = l[i] * 2` cambia l'elemento `l[i]` della lista `l` ma non cambia mai la referenza `l` per la lista. Quindi sia la funzione che il programma che la chiama operano sullo stesso oggetto, rispettivamente attraverso la referenza `l` e `global_l`.\n",
    "\n",
    "Al contrario, nell'esempio seguente la lista globale non viene modificata\n",
    "all'interno della funzione:"
   ]
  },
  {
   "cell_type": "code",
   "execution_count": null,
   "metadata": {},
   "outputs": [],
   "source": [
    "def double_the_list(l):\n",
    "    print(f\"in double_the_list: l = {l}\")\n",
    "    l = l + l\n",
    "    print(f\"in double_the_list: changed l to l = {l}\")\n",
    "\n",
    "l_global = \"Hello\"\n",
    "print(f\"In main: s = {l_global}\")\n",
    "double_the_list(l_global)\n",
    "print(f\"In main: s = {l_global}\")"
   ]
  },
  {
   "cell_type": "markdown",
   "metadata": {},
   "source": [
    "Quello che suucede in questo caso è che durante la valutazione di `l = l + l` viene creato un nuovo oggetto che contiene `l + l`, a cui successivamente legato il nome `l`. In questo processo, si perde la referenza all'oggetto lista `l` che è stato passato alla funzione che quindi non viene modificata.<BR>\n",
    "Questo è vero nche per un oggetto mutabile come una lista."
   ]
  },
  {
   "cell_type": "code",
   "execution_count": null,
   "metadata": {},
   "outputs": [],
   "source": [
    "l_global = [1,2]\n",
    "print(f\"In main: s = {l_global}\")\n",
    "double_the_list(l_global)\n",
    "print(f\"In main: s = {l_global}\")"
   ]
  },
  {
   "cell_type": "markdown",
   "metadata": {},
   "source": [
    "Infine, vediamo che output produce il programma che segue:"
   ]
  },
  {
   "cell_type": "code",
   "execution_count": null,
   "metadata": {},
   "outputs": [],
   "source": [
    "def double_the_value(l):\n",
    "    print(f\"in double_the_values: l = {l}\")\n",
    "    l = 2 * l\n",
    "    print(f\"in double_the_values: changed l to l = {l}\")\n",
    "\n",
    "# 42 è immutabile\n",
    "l_global = 42\n",
    "print(f\"In main: s = {l_global}\")\n",
    "double_the_value(l_global)\n",
    "print(f\"In main: s = {l_global}\")"
   ]
  },
  {
   "cell_type": "markdown",
   "metadata": {},
   "source": [
    "Anche in questo esempio, raddoppiamo il valore (da 42 a 84) all'interno della funzione. Tuttavia, quando colleghiamo l'oggetto 84 al nome python `l` (nella riga `l = l * 2`) abbiamo creato un nuovo oggetto (84), e poi leghiamo il nuovo oggetto a `l`. Nuovamente, In questo processo, si perde la referenza all'oggetto 42 all'interno della funzione. Questo non modifica l'oggetto 42 in sè, né la sua referenza `l_global`."
   ]
  },
  {
   "cell_type": "markdown",
   "metadata": {},
   "source": [
    "In conclusione, il comportamento di Python per quanto riguarda gli argomenti passati a una funzione può sembrare diverso nei vari casi. Tuttavia, si tratta sempre di chiamata per referenza e il comportamento può essere spiegato\n",
    "in ogni caso con lo stesso ragionamento."
   ]
  },
  {
   "cell_type": "markdown",
   "metadata": {},
   "source": [
    "Passare funzioni come argomenti a funzioni\n",
    "-------------------------------------------\n",
    "Le funzioni sono oggetti in Python, quindi è possibile passare funzioni come argomenti ad altre funzioni. "
   ]
  },
  {
   "cell_type": "code",
   "execution_count": null,
   "metadata": {},
   "outputs": [],
   "source": [
    "def sum(a,b):\n",
    "    return a+b\n",
    "\n",
    "def product(a,b):\n",
    "    return a*b\n",
    "\n",
    "def operation(f,a,b):\n",
    "    return f(a,b)"
   ]
  },
  {
   "cell_type": "code",
   "execution_count": null,
   "metadata": {},
   "outputs": [],
   "source": [
    "operation(sum,3,6)"
   ]
  },
  {
   "cell_type": "code",
   "execution_count": null,
   "metadata": {},
   "outputs": [],
   "source": [
    "operation(product,3,6)"
   ]
  },
  {
   "cell_type": "markdown",
   "metadata": {},
   "source": [
    "Moduli\n",
    "==========\n",
    "\n",
    "I Moduli\n",
    "\n",
    "-   Raggruppano funzionalità\n",
    "\n",
    "-   Forniscono namespaces (Insieme di simboli riconosciuti dal kernel)\n",
    "\n",
    "-   La standard library di Python contiene aun gran numero di moduli - “Pronti per l'uso”\n",
    "\n",
    "-   Provate a digitare `help(’modules’)`\n",
    "\n",
    "-   Forniscono il modo per estendere Python\n",
    "\n",
    "### Come importare moduli"
   ]
  },
  {
   "cell_type": "code",
   "execution_count": null,
   "metadata": {},
   "outputs": [],
   "source": [
    "import math"
   ]
  },
  {
   "cell_type": "markdown",
   "metadata": {},
   "source": [
    "Questo introduce il nome `math` nel namespace del processo in cui il comando import è stato eseguito. I nomi delle funzioni contenute nel modulo `math` non vengono introdotti nel namespace: devono essere invocati attraverso il nome `math`. Per: `math.sin`."
   ]
  },
  {
   "cell_type": "code",
   "execution_count": null,
   "metadata": {},
   "outputs": [],
   "source": [
    "import math, cmath"
   ]
  },
  {
   "cell_type": "markdown",
   "metadata": {},
   "source": [
    "Si può importare più di un modulo con un solo comando, anche se la \n",
    "[Python Style Guide](http://www.python.org/dev/peps/pep-0008/) raccomanda di non farlo. È preferibile scrivere:"
   ]
  },
  {
   "cell_type": "code",
   "execution_count": null,
   "metadata": {},
   "outputs": [],
   "source": [
    "import math\n",
    "import cmath\n"
   ]
  },
  {
   "cell_type": "code",
   "execution_count": null,
   "metadata": {},
   "outputs": [],
   "source": [
    "import math as mathematics"
   ]
  },
  {
   "cell_type": "markdown",
   "metadata": {},
   "source": [
    "Il nome con cui un modulo è conosciuto localmente può essre diverso dal suo nome “ufficiale”. In genere lo si fa\n",
    "\n",
    "-   Per evitare conflitti conflitti con nomi già esistenti\n",
    "\n",
    "-   Per cambiare il nome ufficiale in uno più maneggevole. Per esempio `import SimpleHTTPServer as shs`. Questa pratica viene scoraggiata per il production code (in genere nomi \"descrittivi\" rendono i programmi molto più comprensibili di nomi brevi e criptici), ma nella fase di esplorazione e test, utilizzare sinonimi brevi ci semplifica la vita\n",
    "\n",
    "Esempi tipici e ormai universali sono `import numpy as np`, `import matplotlib.pyplot as plt`. "
   ]
  },
  {
   "cell_type": "code",
   "execution_count": null,
   "metadata": {},
   "outputs": [],
   "source": [
    "from math import sin"
   ]
  },
  {
   "cell_type": "markdown",
   "metadata": {},
   "source": [
    "Questo comando importa la funzione `sin` dal modulo `math`, ma non introduce il nome `math` nel namespace. Introduce solo il nome `sin`. È possibile importare più nome con un solo comando:"
   ]
  },
  {
   "cell_type": "code",
   "execution_count": null,
   "metadata": {},
   "outputs": [],
   "source": [
    "from math import sin, cos"
   ]
  },
  {
   "cell_type": "markdown",
   "metadata": {},
   "source": [
    "Dopo questo `import` la funzione `sin` può essere chiamata nel modo seguente:"
   ]
  },
  {
   "cell_type": "code",
   "execution_count": null,
   "metadata": {},
   "outputs": [],
   "source": [
    "sin(1)"
   ]
  },
  {
   "cell_type": "markdown",
   "metadata": {},
   "source": [
    "Si noti che anche in Numpy c'è la funzione `sin`. Se questa venisse importata con `from numpy import sin` maschererebbe la funzione importata in precedenza da `math`. Provate a farlo e poi eseguite `help(sin)`."
   ]
  },
  {
   "cell_type": "markdown",
   "metadata": {},
   "source": [
    "Per concludere, guardiamo questa notazione:"
   ]
  },
  {
   "cell_type": "code",
   "execution_count": null,
   "metadata": {},
   "outputs": [],
   "source": [
    "from math import *"
   ]
  },
  {
   "cell_type": "markdown",
   "metadata": {},
   "source": [
    "Di nuovo, questo comando non introduce il nome `math` nel namespace. Introduce tuttavia nel namespace *tutti i nomi pubblici* contenuti nel modulo `math`. In genere, è una pessima idea:\n",
    "\n",
    "-   Un gran numero di nuovi nomi viene scaricato nel namespace attuale.\n",
    "\n",
    "-   Siete sicuro che nessuno dei nuovi nomi sostituisca un nome già presente?\n",
    "\n",
    "-   Diventa molto difficile tenere traccia della provenienza di tutti questi nomi\n",
    "\n",
    "-   Detto questo, alcuni moduli (compreso qualcuno nella standard library), raccomandano di essere importati in questo modo. Usate con cautela!"
   ]
  },
  {
   "cell_type": "markdown",
   "metadata": {},
   "source": [
    "### Come creare moduli\n",
    "\n",
    "Un modulo non è altro che un file Python. Ecco un esempio di modulo che potete salvare in un file chiamato `module1.py`:\n",
    "\n",
    "```python\n",
    "def someusefulfunction():\n",
    "    pass\n",
    "\n",
    "print(\"My name is\", __name__)\n",
    "```\n",
    "\n",
    "Possiamo eseguire questo (modulo) file come un normale programma Python (per esempio `python module1.py`):"
   ]
  },
  {
   "cell_type": "code",
   "execution_count": null,
   "metadata": {},
   "outputs": [],
   "source": [
    "%pwd"
   ]
  },
  {
   "cell_type": "code",
   "execution_count": null,
   "metadata": {},
   "outputs": [],
   "source": [
    "%cd ../ShellPrograms/"
   ]
  },
  {
   "cell_type": "code",
   "execution_count": null,
   "metadata": {},
   "outputs": [],
   "source": [
    "%ls"
   ]
  },
  {
   "cell_type": "code",
   "execution_count": null,
   "metadata": {},
   "outputs": [],
   "source": [
    "!python module1.py"
   ]
  },
  {
   "cell_type": "markdown",
   "metadata": {},
   "source": [
    "Notiamo che la variabile \"magica\" di Python `__name__` prende il valore `__main__` quando il file `module1.py` viene eseguito.\n",
    "\n",
    "D'altra parte, possiamo *importare* `module1.py` in un altro file (che potrebbe chiamarsi `prog1.py`), in questo modo:"
   ]
  },
  {
   "cell_type": "markdown",
   "metadata": {},
   "source": [
    "```\n",
    "import module1            #nel file prog1.py\n",
    "```"
   ]
  },
  {
   "cell_type": "markdown",
   "metadata": {},
   "source": [
    "Provate a fare queste operazioni per conto vostro, nella vostra home directory, invece che all'interno del notebook!"
   ]
  },
  {
   "cell_type": "markdown",
   "metadata": {},
   "source": [
    "Sneak peek: dall'interno del notebook si fa come segue:"
   ]
  },
  {
   "cell_type": "code",
   "execution_count": null,
   "metadata": {},
   "outputs": [],
   "source": [
    "!python prog1.py"
   ]
  },
  {
   "cell_type": "markdown",
   "metadata": {},
   "source": [
    "Quando Python incontra il comando `import module1` in `prog1.py`, cerca il file `module1.py` nella working directory attuale (se non la trova cerca in tutte le directory in `sys.path`), e apre il file `module1.py`. Mentre legge il file `module1.py` da cima a fondo, aggiunge qualsiasi definizione di funzione contenuta nel file all'interno del namespace nel contesto da cui `module1.py` è stato chiamato (In questo caso il programma principale in `prog1.py`). In questo esempio,c'è solo la funzione `someusefulfunction`. Quando il processo di import process è completato, possiamo utilizzare `module1.someusefulfunction` in `prog.py`. Se Python incontra comandi diversi da definizione di funzioni (e classi) nell'importare `module1.py`, li esegue immediatamente. In questo caso, trova il comando `print(My name is, __name__)`."
   ]
  },
  {
   "cell_type": "markdown",
   "metadata": {},
   "source": [
    "Notate l'output diverso se *importiamo* `module1.py` piuttosto che eseguirlo da solo: se il file viene importato, `__name__` all'interno del modulo prende come valore il nome del modulo stesso."
   ]
  },
  {
   "cell_type": "markdown",
   "metadata": {},
   "source": [
    "#### Nozioni più avanzate: importare un modulo usando il full path"
   ]
  },
  {
   "cell_type": "code",
   "execution_count": null,
   "metadata": {},
   "outputs": [],
   "source": [
    "import importlib.util\n",
    "spec = importlib.util.spec_from_file_location(\"module1\", \"/Users/maina/python/MyCourse2/ShellPrograms/module1.py\")\n",
    "foo = importlib.util.module_from_spec(spec)\n",
    "spec.loader.exec_module(foo)\n"
   ]
  },
  {
   "cell_type": "markdown",
   "metadata": {},
   "source": [
    "### Uso di \\_\\_name\\_\\_\n",
    "\n",
    "Riassumendo,\n",
    "\n",
    "-   `__name__` vale `__main__` se il file viene eseguito da solo\n",
    "\n",
    "-   `__name__` vale il nome del modulo (cioè il nome del file che contiene il modulo senza il suffisso `.py`) se il modulo viene importato.\n",
    "\n",
    "È possibile quindi utilizzare la costruzione `if` seguente in `module1.py` per scrivere del codice che viene eseguito *soltanto* quando il modulo viene eseguito da solo. Questo è utile per includere programmi di test o esemplificazioni delle capacità di un modulo nella parte \"sotto condizione\" del programma principale. È pratica comune che qualunque\n",
    "file contenente un modulo contenga anche un programma principale all'interno dell'`if` che mostra come utilizzare il modulo e quali capacità fornisca."
   ]
  },
  {
   "cell_type": "markdown",
   "metadata": {},
   "source": [
    "<img src=\"../Humour/ProgrammiingVSGoogling.jpg\" width=\"500\" align=\"center\"/>"
   ]
  },
  {
   "cell_type": "markdown",
   "metadata": {},
   "source": [
    "### Esempio 3\n",
    "\n",
    "Il prossimo esempio mostra un main program nel modulo `vectools.py` che dimostra l'uso delle funzioni definite nel file:\n",
    "\n",
    "```python\n",
    "import numpy as np\n",
    "\n",
    "\n",
    "def norm(x):\n",
    "    \"\"\"returns the magnitude of a vector x\"\"\"\n",
    "    return np.sqrt(np.sum(x ** 2))\n",
    "\n",
    "\n",
    "def unitvector(x):\n",
    "    \"\"\"returns a unit vector x/|x|. x needs to be a numpy array.\"\"\"\n",
    "    xnorm = norm(x)\n",
    "    if xnorm == 0:\n",
    "        raise ValueError(\"Can't normalise vector with length 0\")\n",
    "    return x / norm(x)\n",
    "\n",
    "\n",
    "if __name__ == \"__main__\":\n",
    "    #a little demo of how the functions in this module can be used:\n",
    "    x1 = np.array([0, 1, 2])\n",
    "    print(\"The norm of \" + str(x1) + \" is \" + str(norm(x1)) + \".\")\n",
    "    print(\"The unitvector in direction of \" + str(x1) + \" is \" \\\n",
    "        + str(unitvector(x1)) + \".\")\n",
    "```\n",
    "\n",
    "Se questo file viene eseguito con `python vectools.py`, allora `__name__==__main__` è vero, e l'output sarà:"
   ]
  },
  {
   "cell_type": "code",
   "execution_count": null,
   "metadata": {},
   "outputs": [],
   "source": [
    "!pwd\n",
    "!python ../ShellPrograms/vectools.py"
   ]
  },
  {
   "cell_type": "markdown",
   "metadata": {},
   "source": [
    "Se il file viene importato (cioè usato come un modulo) in un altro file python, allora `__name__==__main__` è falso, e i comandi all'interno dell'`if` non viene eseguito (e nessun output viene prodotto)."
   ]
  },
  {
   "cell_type": "markdown",
   "metadata": {},
   "source": [
    "<img src=\"../Humour/FunctionBreakup.jpg\" width=\"500\" align=\"center\"/>"
   ]
  },
  {
   "cell_type": "markdown",
   "metadata": {},
   "source": [
    "### Esempio 4\n",
    "\n",
    "Anche se un programma Python non è concepito per essere usato come un modulo, è buona abitudine (e di uso comune) scrivere il programma principale all'interno della condizione `if __name__ == \"__main__\"`:\n",
    "\n",
    "-   capita spesso che le funzioni contenute nel file possano essere riutilizzate (risparmiando lavoro). Notate che questo incoraggia fortemente a spezzare i programmi in funzioni.\n",
    "\n",
    "-   è utile per il \"regression testing\", il controllo che modifiche ad un codice funzionante non introducano errori. Si effettua eseguendo dei programmi di test che in precedenza funzionavano correttamente \n",
    "\n",
    "Supponiamo di dover scrivere una funzione che restituisca i cinque più piccoli numeri primi, e che inoltre, li stampi. (Il compito in questo caso è banale, ma possiamo immaginare situazioni più complesse). Si potrebbe essere tentati di scrivere:"
   ]
  },
  {
   "cell_type": "code",
   "execution_count": null,
   "metadata": {},
   "outputs": [],
   "source": [
    "def primes5():\n",
    "    return (2, 3, 5, 7, 11)\n",
    "\n",
    "for p in primes5():\n",
    "    print(\"%d\" % p, end=' ')"
   ]
  },
  {
   "cell_type": "markdown",
   "metadata": {},
   "source": [
    "È però preferibile racchiudere la funzione principale sotto condizione:"
   ]
  },
  {
   "cell_type": "code",
   "execution_count": null,
   "metadata": {},
   "outputs": [],
   "source": [
    "def primes5():\n",
    "    return (2, 3, 5, 7, 11)\n",
    "\n",
    "if __name__==\"__main__\":\n",
    "    for p in primes5():\n",
    "        print(\"%d\" % p, end=' ')"
   ]
  },
  {
   "cell_type": "markdown",
   "metadata": {},
   "source": [
    "In [Molti modi per calcolare una somma](Compiti_Frequenti.ipynb#Molti-modi-di-calcolare-unaa-somma) trovate altri esempi di questa tecnica. Includere funzioni con nomi che iniziano con `test_` rende possibile utilizzare ilframework di regression testing py.test (see <http://pytest.org/>).\n",
    "\n",
    "#### Ulteriori informazioni\n",
    "\n",
    "-   [Python Tutorial Section 6](http://docs.python.org/tutorial/modules.html#modules)"
   ]
  },
  {
   "cell_type": "code",
   "execution_count": null,
   "metadata": {},
   "outputs": [],
   "source": []
  }
 ],
 "metadata": {
  "hide_input": false,
  "kernelspec": {
   "display_name": "Python 3",
   "language": "python",
   "name": "python3"
  },
  "language_info": {
   "codemirror_mode": {
    "name": "ipython",
    "version": 3
   },
   "file_extension": ".py",
   "mimetype": "text/x-python",
   "name": "python",
   "nbconvert_exporter": "python",
   "pygments_lexer": "ipython3",
   "version": "3.7.3"
  },
  "toc": {
   "base_numbering": 1,
   "nav_menu": {},
   "number_sections": true,
   "sideBar": true,
   "skip_h1_title": true,
   "title_cell": "Table of Contents",
   "title_sidebar": "Contents",
   "toc_cell": false,
   "toc_position": {},
   "toc_section_display": true,
   "toc_window_display": false
  },
  "varInspector": {
   "cols": {
    "lenName": 16,
    "lenType": 16,
    "lenVar": 40
   },
   "kernels_config": {
    "python": {
     "delete_cmd_postfix": "",
     "delete_cmd_prefix": "del ",
     "library": "var_list.py",
     "varRefreshCmd": "print(var_dic_list())"
    },
    "r": {
     "delete_cmd_postfix": ") ",
     "delete_cmd_prefix": "rm(",
     "library": "var_list.r",
     "varRefreshCmd": "cat(var_dic_list()) "
    }
   },
   "types_to_exclude": [
    "module",
    "function",
    "builtin_function_or_method",
    "instance",
    "_Feature"
   ],
   "window_display": false
  }
 },
 "nbformat": 4,
 "nbformat_minor": 4
}
