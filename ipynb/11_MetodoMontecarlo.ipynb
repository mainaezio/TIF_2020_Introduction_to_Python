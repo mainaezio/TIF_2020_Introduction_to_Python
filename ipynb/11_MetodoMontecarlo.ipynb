{
 "cells": [
  {
   "cell_type": "markdown",
   "metadata": {},
   "source": [
    "Metodo Monte Carlo\n",
    "=====================\n",
    "\n",
    "Introduzione\n",
    "------------"
   ]
  },
  {
   "cell_type": "markdown",
   "metadata": {},
   "source": [
    "Integrazione numerica con metodo MC\n",
    "-----------------------------\n",
    "\n",
    "L'idea di usare numeri casuali per calcolare un integrale numerico si basa sul teorema della media in Analisi che afferma che l'integrale  $\\int_a^b f(x)\\,dx$ è uguale al prodotto della lunghezza (con segno) dell'intervallo di integrazione $(b-a)$ per il valor medio della funzione $f$, $<f>$, nell'intervallo. Il valor medio può essere calcolato\n",
    "facendo la media dei valori di $f$ in un set di punti scelti a caso in $[a,b]$.<BR>\n",
    "Esempio: $\\int_1^2 x^2 dx = \\frac{7}{3}$<BR>   "
   ]
  },
  {
   "cell_type": "code",
   "execution_count": 23,
   "metadata": {},
   "outputs": [
    {
     "name": "stdout",
     "output_type": "stream",
     "text": [
      "Stima dell'integrale: 2.1106972670426414\n",
      "Risultato esatto: 2.3333333333333335\n"
     ]
    }
   ],
   "source": [
    "import numpy as np\n",
    "\n",
    "npoints=10\n",
    "xval=np.random.random(npoints)+1.   #punti casuali in [1,2]\n",
    "#print(xval)\n",
    "\n",
    "y_ave=np.mean(xval*xval)\n",
    "my_int=y_ave*(2.-1.)\n",
    "print(\"Stima dell'integrale:\",my_int)\n",
    "print(\"Risultato esatto:\",7/3)"
   ]
  },
  {
   "cell_type": "markdown",
   "metadata": {},
   "source": [
    "Confrontate il risultato con quello fornito dal metodo dei trapezi e da `quad` nel notebook 10_scipy."
   ]
  },
  {
   "cell_type": "markdown",
   "metadata": {},
   "source": [
    "Esempio in più dimensioni: il volume di una semisfera di raggio 1: \n",
    "$$\\int_{-1}^1 dx \\int_{-\\sqrt{1-x^2}}^{\\sqrt{1-x^2}}dy\\,\\sqrt{1-x^2-y^2} = \\frac{2}{3}\\pi$$"
   ]
  },
  {
   "cell_type": "code",
   "execution_count": 51,
   "metadata": {},
   "outputs": [],
   "source": [
    "npoints = 100\n",
    "xval=2*np.random.random(npoints)-1.\n",
    "#print(xval)\n",
    "yval=2*np.random.random(npoints)-1.\n",
    "#print(yval)\n",
    "points=[pair for pair in zip(xval,yval) if pair[0]**2 + pair[1]**2 < 1.] #zip returns tuples\n",
    "points=np.array(points)\n",
    "#type(points)\n",
    "#len(points)\n",
    "#print(points)"
   ]
  },
  {
   "cell_type": "code",
   "execution_count": 52,
   "metadata": {},
   "outputs": [
    {
     "name": "stdout",
     "output_type": "stream",
     "text": [
      "Stima dell'integrale: 2.094625867312567\n",
      "Risultato esatto: 2.0943951023931953\n"
     ]
    }
   ],
   "source": [
    "def my_f(point):\n",
    "    return np.sqrt(1.- (point*point).sum(axis=1)).mean()\n",
    "\n",
    "base_area=np.pi\n",
    "print(\"Stima dell'integrale:\",base_area*my_f(points))\n",
    "print(\"Risultato esatto:\",2/3*np.pi)"
   ]
  },
  {
   "cell_type": "markdown",
   "metadata": {},
   "source": [
    "Il grande vantaggio del metodo Monte Carlo è che si può estendere immediatamente a qualunque numero di dimensioni."
   ]
  },
  {
   "cell_type": "markdown",
   "metadata": {},
   "source": [
    "Generazione di eventi distribuiti secondo una densità di probabilità fissata\n",
    "-----------------------------------------------------------------------------\n",
    "### Metodo hit and miss\n",
    "\n",
    "\n",
    "Supponiamo di avere la seguente distribuzione di probabilità:\n",
    "$$P(x) = \\begin{cases} 0.6 \\quad x<0.5\\\\ 1.7 \\quad x>0.5 \\end{cases}$$\n",
    "\n",
    "  <img src=\"../Images/stepprobability.png\" width=\"300\" style=\"float:middle\"/>\n",
    "\n",
    "e di voler generare valori di $x$ distribuiti secondo $P(x)$\n",
    "\n",
    "Procediamo nel modo seguente:\n",
    "\n",
    "- Troviamo un numero $Y$ tale che $P(x) < Y, \\,\\forall x$. Nel nostro caso potremmo prendere $Y = 2$, per esempio.  \n",
    "- Generiamo un numero casuale $x_0$ in [0,1], in modo uniforme.\n",
    "- Generiamo un secondo numero casuale $y_0$ in [0,$Y$]\n",
    "- Teniamo il numero $x_0$ nel sample se $y_0 < P(x_0)$ altrimenti lo scartiamo e generiamo un nuovo valore $x_0$.\n",
    "\n",
    "La probabilità di tenere un punto nel bin di sinistra è:\n",
    "$$P_{sx}=P(x < 0.5)\\cdot P(y < 0.6) = 0.5\\cdot\\frac{0.6}{2}$$\n",
    "La probabilità di tenere un punto nel bin di destra è:\n",
    "$$P_{dx}=P(x > 0.5)\\cdot P(y < 1.7) = 0.5\\cdot\\frac{1.4}{2}$$\n",
    "Quindi il rapporto $R$ fra le due probabilità, ovvero il rapporto fra il numero di punti accettati in $x < 0.5$ e il numero di punti accettati in $x > 0.5$ è, come deve:\n",
    "$$ R = \\frac{P_{sx}}{P_{dx}} = \\frac{0.6}{1.7}$$"
   ]
  },
  {
   "cell_type": "code",
   "execution_count": 68,
   "metadata": {},
   "outputs": [
    {
     "name": "stdout",
     "output_type": "stream",
     "text": [
      "Numero di punti in [0,0.5]: 135\n",
      "Numero di punti in [0.5,1]: 381\n",
      "rapporto fra i numeri di punti: 2.8222222222222224 rapporto atteso=7/3: 2.3333333333333335\n"
     ]
    }
   ],
   "source": [
    "npoints=1000\n",
    "# npoints = 1000000\n",
    "xval=np.random.random(npoints)\n",
    "# Separo i valori minori/maggiori di 0.5\n",
    "x1val=[x for x in xval if x < 0.5]\n",
    "x2val=[x for x in xval if x > 0.5]\n",
    "\n",
    "y1=0.6\n",
    "y2=1.4\n",
    "\n",
    "x1val=[x for x in x1val if y1 > np.random.random()*2]\n",
    "x2val=[x for x in x2val if y2 > np.random.random()*2]\n",
    "\n",
    "print(\"Numero di punti in [0,0.5]:\",len(x1val))\n",
    "print(\"Numero di punti in [0.5,1]:\",len(x2val))\n",
    "print(\"rapporto fra i numeri di punti:\",len(x2val)/len(x1val),\"rapporto atteso=7/3:\",7/3)"
   ]
  },
  {
   "cell_type": "markdown",
   "metadata": {},
   "source": [
    "### Test della generazione Monte Carlo di punti secondo una distribuzione data\n",
    "\n",
    "#### Una funzione generica per generare eventi secondo una distribuzione qualsiasi"
   ]
  },
  {
   "cell_type": "code",
   "execution_count": 4,
   "metadata": {},
   "outputs": [],
   "source": [
    "import numpy as np\n",
    "\n",
    "def generate_f(f,a,b,max):\n",
    "    '''\n",
    "    Generate random points distributed according to an input distribution\n",
    "    Input:\n",
    "    f: the probability distribution\n",
    "    a,b: extrema of the range for the desired random number\n",
    "    max: a real number such that f(x) < max for each x\n",
    "    Returns:\n",
    "    ranval: random number\n",
    "    '''\n",
    "    not_found=True\n",
    "    while not_found:\n",
    "        x=np.random.uniform(a,b)\n",
    "        y=np.random.uniform(0,max)\n",
    "        if f(x)>y:\n",
    "            not_found=False\n",
    "    \n",
    "    return x\n",
    "    "
   ]
  },
  {
   "cell_type": "markdown",
   "metadata": {},
   "source": [
    "#### Esempio 1"
   ]
  },
  {
   "cell_type": "code",
   "execution_count": 5,
   "metadata": {},
   "outputs": [],
   "source": [
    "def f1(x):\n",
    "    if x < 0.5:\n",
    "        val=0.6\n",
    "    else:\n",
    "        val=1.4\n",
    "    \n",
    "    return val\n",
    "    "
   ]
  },
  {
   "cell_type": "code",
   "execution_count": 7,
   "metadata": {},
   "outputs": [
    {
     "name": "stdout",
     "output_type": "stream",
     "text": [
      "Numero di punti in [0,0.5]: 299487\n",
      "Numero di punti in [0.5,1]: 700513\n",
      "rapporto fra i numeri di punti: 2.3390430970292533 rapporto atteso=7/3: 2.3333333333333335\n"
     ]
    }
   ],
   "source": [
    "#npoints=1000\n",
    "npoints = 1000000\n",
    "xval = [generate_f(f1,0,1,2) for n in range(npoints)]\n",
    "x1val=[x for x in xval if x < 0.5]\n",
    "x2val=[x for x in xval if x > 0.5]\n",
    "\n",
    "print(\"Numero di punti in [0,0.5]:\",len(x1val))\n",
    "print(\"Numero di punti in [0.5,1]:\",len(x2val))\n",
    "print(\"rapporto fra i numeri di punti:\",len(x2val)/len(x1val),\"rapporto atteso=7/3:\",7/3)"
   ]
  },
  {
   "cell_type": "code",
   "execution_count": 8,
   "metadata": {},
   "outputs": [
    {
     "data": {
      "image/png": "[encoded data removed]",
      "text/plain": [
       "<Figure size 432x288 with 1 Axes>"
      ]
     },
     "metadata": {
      "needs_background": "light"
     },
     "output_type": "display_data"
    }
   ],
   "source": [
    "import matplotlib.pyplot as plt\n",
    "nbins = 10\n",
    "xrange = (0,1)\n",
    "\n",
    "fig, ax = plt.subplots()\n",
    "nevent, bins, patches = ax.hist(xval, nbins, range=xrange)"
   ]
  },
  {
   "cell_type": "markdown",
   "metadata": {},
   "source": [
    "#### Esempio 2"
   ]
  },
  {
   "cell_type": "code",
   "execution_count": 9,
   "metadata": {},
   "outputs": [],
   "source": [
    "def f2(x):\n",
    "    val=3./8.*(1+x**2)\n",
    "    \n",
    "    return val    "
   ]
  },
  {
   "cell_type": "code",
   "execution_count": 11,
   "metadata": {},
   "outputs": [
    {
     "data": {
      "image/png": "[encoded data removed]",
      "text/plain": [
       "<Figure size 720x504 with 1 Axes>"
      ]
     },
     "metadata": {
      "needs_background": "light"
     },
     "output_type": "display_data"
    }
   ],
   "source": [
    "#npoints=1000\n",
    "npoints = 100000\n",
    "xval = [generate_f(f2,-1,1,1) for n in range(npoints)]\n",
    "\n",
    "nbins = 20\n",
    "xrange = (-1,1)\n",
    "\n",
    "fig, ax = plt.subplots(figsize=(10,7))\n",
    "nevent, bins, patches = ax.hist(xval, nbins, range=xrange)\n",
    "ax.grid(True)"
   ]
  },
  {
   "cell_type": "markdown",
   "metadata": {},
   "source": [
    "Simulazione di eventi complessi con metodo MC\n",
    "----------------------------------------------"
   ]
  },
  {
   "cell_type": "markdown",
   "metadata": {},
   "source": [
    "Propagazione dell'errore con metodo MC\n",
    "--------------------------------------"
   ]
  },
  {
   "cell_type": "markdown",
   "metadata": {},
   "source": [
    "Supponiamo di aver fatto un esperimento per misurare l'accelerazione di gravità $g$ misurando il periodo $T$ di oscillazione di un pendolo di lunghezza variabile $L$. Sappiamo che:\n",
    "$$ T = 2 \\pi \\sqrt{\\frac{L}{g}} \\quad \\rightarrow \\quad g = \\frac{ 4 \\pi^2 L}{T^2}$$\n",
    "Supponiamo di aver misurato $L = 1.000 \\pm 0.004\\, m$, $T = 2.000 \\pm 0.005\\, s$ e che le misure siano distribuite gaussianamente.\n",
    "Per la propagazine degli errori ci servono:\n",
    "$$ \\frac{\\partial g}{\\partial T} = \\frac{ - 8 \\pi^2 L}{T^3},\\qquad  \\frac{\\partial g}{\\partial L} = \\frac{ 4 \\pi^2}{T^2}$$\n",
    "\n",
    "$$ \\sigma_g = \\sqrt{\\left. \\sigma_T \\, \\frac{\\partial g}{\\partial T}\\right|^2_{\\overline{T},\\overline{L}} +\n",
    "\\left. \\sigma_L \\, \\frac{\\partial g}{\\partial L}\\right|^2_{\\overline{T},\\overline{L}}\n",
    "}$$"
   ]
  },
  {
   "cell_type": "code",
   "execution_count": 38,
   "metadata": {},
   "outputs": [
    {
     "name": "stdout",
     "output_type": "stream",
     "text": [
      "g_exp = 9.869604401089358 +\\- 0.06319630315448918\n"
     ]
    }
   ],
   "source": [
    "import numpy as np\n",
    "import matplotlib.pyplot as plt\n",
    "\n",
    "def g(L,T):\n",
    "    return 4*np.pi**2*L/T**2\n",
    "\n",
    "def g_err(L,L_err,T,T_err):\n",
    "    return 4*np.pi**2/T**2*np.sqrt(4*(L/T*T_err)**2 + L_err**2)\n",
    "\n",
    "L_mean =1.0\n",
    "L_err = 0.004\n",
    "T_mean = 2.0\n",
    "T_err = 0.005\n",
    "\n",
    "g_m = g(L_mean,T_mean)\n",
    "g_e = g_err(L_mean,L_err,T_mean,T_err)\n",
    "print(f\"g_exp = {g_m} +\\- {g_e}\")"
   ]
  },
  {
   "cell_type": "markdown",
   "metadata": {},
   "source": [
    "Per valutare l'errore su $g$ con il metodo Monte Carlo generiamo 1000 valori per L e 1000 per T da distribuzioni gaussiane con i rispettivi valori medi e deviazioni standard. Calcoliamo i corrispondenti valori di $g$ e valutiamo il valor medio e la deviazione standard della distribuzione ottenuta."
   ]
  },
  {
   "cell_type": "code",
   "execution_count": 69,
   "metadata": {},
   "outputs": [
    {
     "name": "stdout",
     "output_type": "stream",
     "text": [
      "g_MC = 9.869774050229458 +\\- 0.06177237499636006\n"
     ]
    }
   ],
   "source": [
    "npoints = 1000\n",
    "T_test = np.random.normal(T_mean,T_err,npoints)\n",
    "L_test = np.random.normal(L_mean,L_err,npoints)\n",
    "g_test = g(L_test,T_test)\n",
    "g_m1 = g_test.mean()\n",
    "g_e1 = g_test.std()\n",
    "print(f\"g_MC = {g_m1} +\\- {g_e1}\")"
   ]
  },
  {
   "cell_type": "markdown",
   "metadata": {},
   "source": [
    "### Plot di controllo\n",
    "\n",
    "Nota sulle normalizzazioni:<BR>\n",
    "    - Dato un istogramma con $N_{tot}$ valori, i valori in ciascun bin sommano a $N_{tot}$.    \n",
    "    - Se si vuole sovrapporre una gaussiana $g(x)$ all'istogramma bisogna ricordare che: $\\int g(x)\\,dx = \\sum_i g(x_i) w =1$, dove $w$ è la larghezza di ciascun bin. Di conseguenza i valori di $g(x)$ vanno moltiplicati per $w \\cdot N_{tot}$ per avere un confronto significativo."
   ]
  },
  {
   "cell_type": "code",
   "execution_count": 68,
   "metadata": {},
   "outputs": [
    {
     "data": {
      "text/plain": [
       "[<matplotlib.lines.Line2D at 0x120ed7e10>]"
      ]
     },
     "execution_count": 68,
     "metadata": {},
     "output_type": "execute_result"
    },
    {
     "data": {
      "image/png": "[encoded data removed]",
      "text/plain": [
       "<Figure size 432x288 with 1 Axes>"
      ]
     },
     "metadata": {
      "needs_background": "light"
     },
     "output_type": "display_data"
    },
    {
     "data": {
      "image/png": "[encoded data removed]",
      "text/plain": [
       "<Figure size 432x288 with 1 Axes>"
      ]
     },
     "metadata": {
      "needs_background": "light"
     },
     "output_type": "display_data"
    },
    {
     "data": {
      "image/png": "[encoded data removed]",
      "text/plain": [
       "<Figure size 432x288 with 1 Axes>"
      ]
     },
     "metadata": {
      "needs_background": "light"
     },
     "output_type": "display_data"
    }
   ],
   "source": [
    "def Gauss_dist(t,lam,sigma):\n",
    "    return np.exp(-0.5*((t-lam)/sigma)**2)/np.sqrt(2*np.pi)/sigma\n",
    "\n",
    "fig1, ax1 = plt.subplots()\n",
    "\n",
    "nbins = 20\n",
    "range1 = (L_mean - 3*L_err,L_mean + 3*L_err)\n",
    "ax1.hist(L_test,nbins,range1,color='b',label='L');\n",
    "\n",
    "fig2, ax2 = plt.subplots()\n",
    "\n",
    "nbins = 20\n",
    "range2 = (T_mean - 3*T_err,T_mean + 3*T_err)\n",
    "ax2.hist(T_test,nbins,range2,color='r',label='T');\n",
    "\n",
    "\n",
    "fig3, ax3 = plt.subplots()\n",
    "\n",
    "nbins = 20\n",
    "range3 = (g_m1 - 3*g_e1,g_m1 + 3*g_e1)\n",
    "binwidth = 6*g_e1/nbins\n",
    "\n",
    "ax3.hist(g_test,nbins,range3,color='g',label='g');\n",
    "\n",
    "t = np.linspace(g_m1 - 3*g_e1,g_m1 + 3*g_e1,100)\n",
    "yval = Gauss_dist(t,g_m1,g_e1)*npoints*binwidth\n",
    "#yval = np.array([np.exp(-0.5*((t1-g_m1)/g_e1)**2)/np.sqrt(2*np.pi)/g_e1 for t1 in t])\n",
    "#print(yval)\n",
    "\n",
    "ax3.plot(t,yval,c='k')\n"
   ]
  },
  {
   "cell_type": "code",
   "execution_count": null,
   "metadata": {},
   "outputs": [],
   "source": []
  }
 ],
 "metadata": {
  "kernelspec": {
   "display_name": "Python 3",
   "language": "python",
   "name": "python3"
  },
  "language_info": {
   "codemirror_mode": {
    "name": "ipython",
    "version": 3
   },
   "file_extension": ".py",
   "mimetype": "text/x-python",
   "name": "python",
   "nbconvert_exporter": "python",
   "pygments_lexer": "ipython3",
   "version": "3.7.3"
  }
 },
 "nbformat": 4,
 "nbformat_minor": 4
}
