{
 "cells": [
  {
   "cell_type": "markdown",
   "metadata": {},
   "source": [
    "# Programmare in Python\n",
    "\n",
    "Il format generico della definizione di una funzione è:\n",
    "\n",
    "```python\n",
    "def my_function(arg1, arg2, ..., argn):\n",
    "    \"\"\"Optional docstring.\"\"\"\n",
    "\n",
    "    # Implementation of the function\n",
    "\n",
    "    return result  # optional\n",
    "\n",
    "#this is not part of the function\n",
    "some_command\n",
    "```\n",
    "### Esempio\n",
    "__- Scrivete una funzione che calcoli l'area di un rettangolo.__ "
   ]
  },
  {
   "cell_type": "code",
   "execution_count": 6,
   "metadata": {},
   "outputs": [
    {
     "name": "stdout",
     "output_type": "stream",
     "text": [
      "L'area del rettangolo di lati 3.0 e 4.0 vale 12.0\n"
     ]
    },
    {
     "data": {
      "text/plain": [
       "12.0"
      ]
     },
     "execution_count": 6,
     "metadata": {},
     "output_type": "execute_result"
    }
   ],
   "source": [
    "def area_rettangolo(a,b):\n",
    "    '''\n",
    "    Calcola l'area di un rettangolo.\n",
    "    Input: lunghezza di due lati contigui\n",
    "    '''\n",
    "    c = a*b\n",
    "    print(\"L'area del rettangolo di lati\",a,\"e\",b,\"vale\",c)\n",
    "    return c\n",
    "\n",
    "area_rettangolo(3.,4.)"
   ]
  },
  {
   "cell_type": "code",
   "execution_count": 7,
   "metadata": {},
   "outputs": [
    {
     "name": "stdout",
     "output_type": "stream",
     "text": [
      "Help on function area_rettangolo in module __main__:\n",
      "\n",
      "area_rettangolo(a, b)\n",
      "    Calcola l'area di un rettangolo.\n",
      "    Input: lunghezza di due lati contigui\n",
      "\n"
     ]
    }
   ],
   "source": [
    "help(area_rettangolo)"
   ]
  },
  {
   "cell_type": "markdown",
   "metadata": {},
   "source": [
    "## Esercizi: Funzioni"
   ]
  },
  {
   "cell_type": "markdown",
   "metadata": {},
   "source": [
    "__1 - Scrivete una funzione che prenda come input le coordinate due punti del piano, p1x, p1y, p2x e p2y, e restituisca la loro distanza. Per le coordinate del secondo punto, p2x e p2y, usate parametri opzionali con default 0. In questo modo la funzione può essere usata in modo semplice per calcolare la distanza di un punto dall'origine.__"
   ]
  },
  {
   "cell_type": "code",
   "execution_count": null,
   "metadata": {},
   "outputs": [],
   "source": []
  },
  {
   "cell_type": "markdown",
   "metadata": {},
   "source": [
    "__2 - Scrivete una funzione che calcoli a) il tempo di viaggio b) i litri di benzina consumati c) il costo della benzina per il viaggio, usando come informazioni: a) la distanza b) il numero di km percorsi per litro c) il costo di un litro di benzina d) la velocità (assunta costante) dell'auto.__"
   ]
  },
  {
   "cell_type": "code",
   "execution_count": null,
   "metadata": {},
   "outputs": [],
   "source": []
  },
  {
   "cell_type": "markdown",
   "metadata": {},
   "source": [
    "__3 - Scrivete in un file chiamato \"operazioni.py\":__\n",
    "- __Una funzione \"somma\" che restituisca la somma di due numeri dati in input__\n",
    "- __Una funzione \"differenza\" che restituisca la differenza fra due numeri dati in input__\n",
    "\n",
    "__Salvate il file nella directory corrente.__<br>\n",
    "__Importate il modulo \"operazioni\" nella vostra sessione.__<br>\n",
    "__Eseguite le operazioni: (17 + 5.3) e (14.7 - 8.9) usando le funzioni \"somma\" e \"differenza\".__\n",
    "\n",
    "__Ricordate la differenza fra:__\n",
    "\n",
    "- `import X`\n",
    "\n",
    "- `from X import Y`\n",
    "\n",
    "- `from X import *`"
   ]
  },
  {
   "cell_type": "code",
   "execution_count": null,
   "metadata": {},
   "outputs": [],
   "source": []
  }
 ],
 "metadata": {
  "hide_input": false,
  "kernelspec": {
   "display_name": "Python 3",
   "language": "python",
   "name": "python3"
  },
  "language_info": {
   "codemirror_mode": {
    "name": "ipython",
    "version": 3
   },
   "file_extension": ".py",
   "mimetype": "text/x-python",
   "name": "python",
   "nbconvert_exporter": "python",
   "pygments_lexer": "ipython3",
   "version": "3.7.3"
  },
  "toc": {
   "base_numbering": 1,
   "nav_menu": {},
   "number_sections": true,
   "sideBar": true,
   "skip_h1_title": true,
   "title_cell": "Table of Contents",
   "title_sidebar": "Contents",
   "toc_cell": false,
   "toc_position": {},
   "toc_section_display": true,
   "toc_window_display": false
  },
  "varInspector": {
   "cols": {
    "lenName": 16,
    "lenType": 16,
    "lenVar": 40
   },
   "kernels_config": {
    "python": {
     "delete_cmd_postfix": "",
     "delete_cmd_prefix": "del ",
     "library": "var_list.py",
     "varRefreshCmd": "print(var_dic_list())"
    },
    "r": {
     "delete_cmd_postfix": ") ",
     "delete_cmd_prefix": "rm(",
     "library": "var_list.r",
     "varRefreshCmd": "cat(var_dic_list()) "
    }
   },
   "types_to_exclude": [
    "module",
    "function",
    "builtin_function_or_method",
    "instance",
    "_Feature"
   ],
   "window_display": false
  }
 },
 "nbformat": 4,
 "nbformat_minor": 4
}
