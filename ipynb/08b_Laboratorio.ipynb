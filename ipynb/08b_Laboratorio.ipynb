{
 "cells": [
  {
   "cell_type": "markdown",
   "metadata": {},
   "source": [
    "# Programmare in Python\n",
    "\n",
    "## Laboratorio: Plots"
   ]
  },
  {
   "cell_type": "markdown",
   "metadata": {},
   "source": [
    "Come fare una derivata usando sympy:\n",
    "```\n",
    "import sympy\n",
    "x = sympy.Symbol('x')\n",
    "sympy.diff(sympy.sin(x), x)\n",
    "```\n",
    "Come fare uno sviluppo in serie usando sympy:\n",
    "```\n",
    "import sympy\n",
    "x = sympy.Symbol('x')\n",
    "sympy.cos(x).series(x, 0, 6)\n",
    "```\n",
    "Per rimuovere il termine $O(x^n)$:\n",
    "```\n",
    "sympy.cos(x).series(x, 0, 6).removeO()\n",
    "````\n",
    "Come integrare una funzione usando sympy:\n",
    "```\n",
    "import sympy\n",
    "x = sympy.Symbol('x')\n",
    "sympy.integrate(x**2, x)              # Integrale indefinito\n",
    "sympy.integrate(x**2, (x, 0, 2))      # Integrale definito\n",
    "```"
   ]
  },
  {
   "cell_type": "markdown",
   "metadata": {},
   "source": [
    "### Esercizi"
   ]
  },
  {
   "cell_type": "markdown",
   "metadata": {},
   "source": [
    "__1 - Fate il plot di $\\frac{\\sin (x)}{x}$. Scegliete un intervallo opportuno. Cosa succede se fra i punti in cui calcolo la funzione c'è $x \\,=\\, 0$? Come posso aggirare il problema?__"
   ]
  },
  {
   "cell_type": "code",
   "execution_count": null,
   "metadata": {},
   "outputs": [],
   "source": []
  },
  {
   "cell_type": "markdown",
   "metadata": {},
   "source": [
    "__2 - Fate il plot di $\\tan (x)$.__ (D.J.Pine, Introduction to Python for Science and Engineering, 6.2.3)"
   ]
  },
  {
   "cell_type": "code",
   "execution_count": null,
   "metadata": {},
   "outputs": [],
   "source": []
  },
  {
   "cell_type": "markdown",
   "metadata": {},
   "source": [
    "__3 - Fare il grafico della funzione $\\int_0^x \\, \\frac{\\sin(t)}{t} \\,dt$\n",
    "fra $x = -10$ e $x = 10$.__"
   ]
  },
  {
   "cell_type": "code",
   "execution_count": null,
   "metadata": {},
   "outputs": [],
   "source": []
  },
  {
   "cell_type": "markdown",
   "metadata": {},
   "source": [
    "__4 - In un unico grafico, disegnate le funzioni $f_n = x^n$ con $n$ in `range(1,5)`. Inserite gli elementi grafici opportuni per rendere la figura comprensibile.__"
   ]
  },
  {
   "cell_type": "code",
   "execution_count": null,
   "metadata": {},
   "outputs": [],
   "source": []
  },
  {
   "cell_type": "markdown",
   "metadata": {},
   "source": [
    "__5 - Disegnate la funzione $y =  \\exp (\\frac{(x^2 - 5 x - 1)} {(x^4  + 3)})$. Trovare le coordinate $(x,y)$ di massimi e minimi.__"
   ]
  },
  {
   "cell_type": "code",
   "execution_count": null,
   "metadata": {},
   "outputs": [],
   "source": []
  },
  {
   "cell_type": "markdown",
   "metadata": {},
   "source": [
    "__6 - Disegnate,in un solo grafico, la funzione $f(x) =  \\frac{x\\,(x-1)}{x**2+1}-1$, la sua derivata prima e la sua derivata seconda nell'intervallo (-8,8).__"
   ]
  },
  {
   "cell_type": "code",
   "execution_count": null,
   "metadata": {},
   "outputs": [],
   "source": []
  },
  {
   "cell_type": "markdown",
   "metadata": {},
   "source": [
    "__7 -__\n",
    "__Generate casualmente, in modo uniforme, le coordinate (reali) x e y, comprese fra 0 e 10, di 50 punti.__<BR>\n",
    "__Fate il plot dei punti generati.__<BR>\n",
    "__Generate casualmente, in modo uniforme, le componenti vx e vy, comprese fra -2 e 2, di 50 velocità, una per ciascun punto.__<BR> \n",
    "__Supponendo che ciascun punto si muova di moto uniforme con la corrispondente velocità, trovate la posizione dei punti dopo 2 secondi.__<BR>\n",
    "__Fate il plot dei nuovi punti.__<BR>"
   ]
  },
  {
   "cell_type": "code",
   "execution_count": null,
   "metadata": {},
   "outputs": [],
   "source": []
  },
  {
   "cell_type": "markdown",
   "metadata": {},
   "source": [
    "__8 -__\n",
    "__Nell'esercizio precedente, se un punto a t=2 risulta essere al di fuori di 0 < x < 10, 0 < y < 10, introducete l'effetto dell'urto con le pareti, generalizzando la regola:__\n",
    " - __Se x >10 , x --> 10 - (x - 10)__\n",
    " - __Se y >10 , y --> 10 - (y - 10)__\n",
    " "
   ]
  },
  {
   "cell_type": "code",
   "execution_count": null,
   "metadata": {},
   "outputs": [],
   "source": []
  }
 ],
 "metadata": {
  "hide_input": false,
  "kernelspec": {
   "display_name": "Python 3",
   "language": "python",
   "name": "python3"
  },
  "language_info": {
   "codemirror_mode": {
    "name": "ipython",
    "version": 3
   },
   "file_extension": ".py",
   "mimetype": "text/x-python",
   "name": "python",
   "nbconvert_exporter": "python",
   "pygments_lexer": "ipython3",
   "version": "3.7.3"
  },
  "toc": {
   "base_numbering": 1,
   "nav_menu": {},
   "number_sections": true,
   "sideBar": true,
   "skip_h1_title": true,
   "title_cell": "Table of Contents",
   "title_sidebar": "Contents",
   "toc_cell": false,
   "toc_position": {},
   "toc_section_display": true,
   "toc_window_display": false
  },
  "varInspector": {
   "cols": {
    "lenName": 16,
    "lenType": 16,
    "lenVar": 40
   },
   "kernels_config": {
    "python": {
     "delete_cmd_postfix": "",
     "delete_cmd_prefix": "del ",
     "library": "var_list.py",
     "varRefreshCmd": "print(var_dic_list())"
    },
    "r": {
     "delete_cmd_postfix": ") ",
     "delete_cmd_prefix": "rm(",
     "library": "var_list.r",
     "varRefreshCmd": "cat(var_dic_list()) "
    }
   },
   "types_to_exclude": [
    "module",
    "function",
    "builtin_function_or_method",
    "instance",
    "_Feature"
   ],
   "window_display": false
  }
 },
 "nbformat": 4,
 "nbformat_minor": 4
}
