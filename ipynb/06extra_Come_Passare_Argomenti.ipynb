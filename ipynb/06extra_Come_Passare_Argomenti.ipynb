{
 "cells": [
  {
   "cell_type": "markdown",
   "metadata": {},
   "source": [
    "Passare argomenti a funzioni\n",
    "------------------------------\n",
    "\n",
    "Questa sezione contiene materiale più avanzato e utilizza concetti che verranno approfonditi in seguito. In prima lettura può essere omessa.\n",
    "\n",
    "Quando un oggetto viene passato a una funzione, Python passa sempre (il valore della) la referenza all'oggetto. Questo viene detto chiamare per referenza.\n",
    "\n",
    "Spieghiamo cosa significa passare argomenti per referenza oppure per valore prima di discutere il caso specifico di Python.\n",
    "\n",
    "### Chiamata per valore\n",
    "\n",
    "Ci si puo' aspettare che se si passa un oggetto per valore a una funzione, eventuali cambiamenti di questo valore all'interno della funzione non modifichino l'oggetto, perchè quello che viene passato non è l'oggetto in sé ma il suo valore, cioè una copia. Ecco un esempio di questo tipo di comportamento (in C):\n",
    "\n",
    "```c\n",
    "#include <stdio.h>\n",
    "\n",
    "void pass_by_value(int m) {\n",
    "  printf(\"in pass_by_value: received m=%d\\n\",m);\n",
    "  m=42;\n",
    "  printf(\"in pass_by_value: changed to m=%d\\n\",m);\n",
    "}\n",
    "\n",
    "int main(void) {\n",
    "  int global_m = 1;\n",
    "  printf(\"global_m=%d\\n\",global_m);\n",
    "  pass_by_value(global_m);\n",
    "  printf(\"global_m=%d\\n\",global_m);\n",
    "  return 0;\n",
    "}\n",
    "```\n",
    "\n",
    "con l'output corrispondente:\n",
    "\n",
    "    global_m=1\n",
    "    in pass_by_value: received m=1\n",
    "    in pass_by_value: changed to m=42\n",
    "    global_m=1\n",
    "\n",
    "\n",
    "Il valore `1` della variabile globale `global_m` non viene modificata quando la funzione `pass_by_value` modifica il proprio argomento di input in 42."
   ]
  },
  {
   "cell_type": "markdown",
   "metadata": {},
   "source": [
    "### Chiamata per referenza\n",
    "\n",
    "Chiamare una funzione per referenza, invece, significa che l'oggetto dato alla funzione è la referenza (posizione di memoria) dell'oggetto che viene passato come argomento. Questo significa che la funzione *vede* esattamente lo stesso oggetto che viene visto dal codice che effettua la chiamata. Qualunque modifica dell'argomento effettuato all'interno della funzione, sarà quindi visibile nel codice esterno.\n",
    "\n",
    "Ecco un esempio utilizzando i pointers in C:\n",
    "\n",
    "```c\n",
    "\n",
    "#include <stdio.h>\n",
    "\n",
    "void pass_by_reference(int *m) {    \n",
    "  printf(\\\"in pass_by_reference: received m=%d\\\\n\\\",*m);\n",
    "  *m=42;\n",
    "  printf(\\\"in pass_by_reference: changed to m=%d\\\\n\\\",*m);\n",
    "}\n",
    "         \n",
    "int main(void) {\n",
    "  int global_m = 1;\n",
    "  printf(\\\"global_m=%d\\\\n\\\",global_m);\n",
    "  pass_by_reference(&global_m);\n",
    "  printf(\\\"global_m=%d\\\\n\\\",global_m);\n",
    "  return 0;\n",
    "}\n",
    "```\n",
    "\n",
    "con l'output corrispondente:\n",
    "\n",
    "    global_m=1\\n\",\n",
    "    in pass_by_reference: received m=1\\n\",\n",
    "    in pass_by_reference: changed to m=42\\n\",\n",
    "    global_m=42\"\n"
   ]
  },
  {
   "cell_type": "markdown",
   "metadata": {},
   "source": [
    "Il C++ permette di passare argomenti come referenza aggiungendo un ampersand davanti al nome dell'argmento nella definizione della funzione:\n",
    "\n",
    "```cpp\n",
    "#include <stdio.h>\n",
    "\n",
    "void pass_by_reference(int &m) {\n",
    "  printf(\\\"in pass_by_reference: received m=%d\\\\n\\\",m);\n",
    "  m=42;\n",
    "  printf(\\\"in pass_by_reference: changed to m=%d\\\\n\\\",m);\n",
    "}\n",
    "\n",
    "\n",
    "int main(void) {\n",
    "  int global_m = 1;\n",
    "  printf(\\\"global_m=%d\\\\n\\\",global_m);\n",
    "  pass_by_reference(global_m);\n",
    "  printf(\\\"global_m=%d\\\\n\\\",global_m);\n",
    "  return 0;\n",
    "}\n",
    "```\n",
    "\n",
    "con l'output corrispondente:\n",
    "\n",
    "    global_m=1\\n\",\n",
    "    in pass_by_reference: received m=1\\n\",\n",
    "    in pass_by_reference: changed to m=42\\n\",\n",
    "    global_m=42\"\n"
   ]
  },
  {
   "cell_type": "code",
   "execution_count": null,
   "metadata": {},
   "outputs": [],
   "source": []
  }
 ],
 "metadata": {
  "hide_input": false,
  "kernelspec": {
   "display_name": "Python 3",
   "language": "python",
   "name": "python3"
  },
  "language_info": {
   "codemirror_mode": {
    "name": "ipython",
    "version": 3
   },
   "file_extension": ".py",
   "mimetype": "text/x-python",
   "name": "python",
   "nbconvert_exporter": "python",
   "pygments_lexer": "ipython3",
   "version": "3.7.3"
  },
  "toc": {
   "base_numbering": 1,
   "nav_menu": {},
   "number_sections": true,
   "sideBar": true,
   "skip_h1_title": true,
   "title_cell": "Table of Contents",
   "title_sidebar": "Contents",
   "toc_cell": false,
   "toc_position": {},
   "toc_section_display": true,
   "toc_window_display": false
  },
  "varInspector": {
   "cols": {
    "lenName": 16,
    "lenType": 16,
    "lenVar": 40
   },
   "kernels_config": {
    "python": {
     "delete_cmd_postfix": "",
     "delete_cmd_prefix": "del ",
     "library": "var_list.py",
     "varRefreshCmd": "print(var_dic_list())"
    },
    "r": {
     "delete_cmd_postfix": ") ",
     "delete_cmd_prefix": "rm(",
     "library": "var_list.r",
     "varRefreshCmd": "cat(var_dic_list()) "
    }
   },
   "types_to_exclude": [
    "module",
    "function",
    "builtin_function_or_method",
    "instance",
    "_Feature"
   ],
   "window_display": false
  }
 },
 "nbformat": 4,
 "nbformat_minor": 4
}
